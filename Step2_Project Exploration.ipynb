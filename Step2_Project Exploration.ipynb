{
 "cells": [
  {
   "cell_type": "markdown",
   "metadata": {},
   "source": [
    "## Start Analysis"
   ]
  },
  {
   "cell_type": "code",
   "execution_count": 2,
   "metadata": {},
   "outputs": [
    {
     "data": {
      "text/plain": [
       "(213859, 4)"
      ]
     },
     "execution_count": 2,
     "metadata": {},
     "output_type": "execute_result"
    }
   ],
   "source": [
    "import pandas as pd\n",
    "df = pd.read_pickle(\"./mobileCarriers.pkl\")\n",
    "df.shape"
   ]
  },
  {
   "cell_type": "code",
   "execution_count": 3,
   "metadata": {
    "scrolled": true
   },
   "outputs": [
    {
     "data": {
      "text/html": [
       "<div>\n",
       "<style scoped>\n",
       "    .dataframe tbody tr th:only-of-type {\n",
       "        vertical-align: middle;\n",
       "    }\n",
       "\n",
       "    .dataframe tbody tr th {\n",
       "        vertical-align: top;\n",
       "    }\n",
       "\n",
       "    .dataframe thead th {\n",
       "        text-align: right;\n",
       "    }\n",
       "</style>\n",
       "<table border=\"1\" class=\"dataframe\">\n",
       "  <thead>\n",
       "    <tr style=\"text-align: right;\">\n",
       "      <th></th>\n",
       "      <th>screen_name</th>\n",
       "      <th>date_time</th>\n",
       "      <th>location</th>\n",
       "      <th>text</th>\n",
       "    </tr>\n",
       "  </thead>\n",
       "  <tbody>\n",
       "    <tr>\n",
       "      <th>0</th>\n",
       "      <td>leila_fong</td>\n",
       "      <td>2019-10-23 23:57:59</td>\n",
       "      <td>Illinois, USA</td>\n",
       "      <td>@ATTHelp I’m blocking, but then they change th...</td>\n",
       "    </tr>\n",
       "    <tr>\n",
       "      <th>1</th>\n",
       "      <td>SnackEvangelist</td>\n",
       "      <td>2019-10-23 23:57:44</td>\n",
       "      <td></td>\n",
       "      <td>@ATTHelp Just logged into my account and it’s ...</td>\n",
       "    </tr>\n",
       "    <tr>\n",
       "      <th>2</th>\n",
       "      <td>DeathboxTy</td>\n",
       "      <td>2019-10-23 23:54:34</td>\n",
       "      <td></td>\n",
       "      <td>@ATTHelp can’t get my Visual Voicemail to work...</td>\n",
       "    </tr>\n",
       "    <tr>\n",
       "      <th>3</th>\n",
       "      <td>BLoLovesYou</td>\n",
       "      <td>2019-10-23 23:54:05</td>\n",
       "      <td>San Antonio, TX</td>\n",
       "      <td>@ATTHelp You were charging me $150 for an outd...</td>\n",
       "    </tr>\n",
       "    <tr>\n",
       "      <th>4</th>\n",
       "      <td>ATTHelp</td>\n",
       "      <td>2019-10-23 23:53:02</td>\n",
       "      <td></td>\n",
       "      <td>@leila_fong Hey, Leila, we're here to help. Cl...</td>\n",
       "    </tr>\n",
       "  </tbody>\n",
       "</table>\n",
       "</div>"
      ],
      "text/plain": [
       "       screen_name           date_time         location  \\\n",
       "0       leila_fong 2019-10-23 23:57:59    Illinois, USA   \n",
       "1  SnackEvangelist 2019-10-23 23:57:44                    \n",
       "2       DeathboxTy 2019-10-23 23:54:34                    \n",
       "3      BLoLovesYou 2019-10-23 23:54:05  San Antonio, TX   \n",
       "4          ATTHelp 2019-10-23 23:53:02                    \n",
       "\n",
       "                                                text  \n",
       "0  @ATTHelp I’m blocking, but then they change th...  \n",
       "1  @ATTHelp Just logged into my account and it’s ...  \n",
       "2  @ATTHelp can’t get my Visual Voicemail to work...  \n",
       "3  @ATTHelp You were charging me $150 for an outd...  \n",
       "4  @leila_fong Hey, Leila, we're here to help. Cl...  "
      ]
     },
     "execution_count": 3,
     "metadata": {},
     "output_type": "execute_result"
    }
   ],
   "source": [
    "df.head()"
   ]
  },
  {
   "cell_type": "markdown",
   "metadata": {},
   "source": [
    "## Pre-processing tweets"
   ]
  },
  {
   "cell_type": "code",
   "execution_count": 4,
   "metadata": {},
   "outputs": [
    {
     "name": "stdout",
     "output_type": "stream",
     "text": [
      "Elapsed clock time:  0.008540990286403233  seconds\n"
     ]
    }
   ],
   "source": [
    "import re\n",
    "from nltk.tokenize import TweetTokenizer\n",
    "from nltk.corpus import stopwords\n",
    "import time\n",
    "\n",
    "start_time = time.time() \n",
    "\n",
    "tokenizer = TweetTokenizer()\n",
    "tokenized_tweets = [tokenizer.tokenize(t) for t in df.text]\n",
    "stop_words = stopwords.words(\"english\")\n",
    "stop_words.extend([\"&amp;\", \"&gt;\", \"&lt;\"])\n",
    "from nltk.stem import WordNetLemmatizer\n",
    "lemmatizer = WordNetLemmatizer()\n",
    "\n",
    "clean_text = []\n",
    "handles = []\n",
    "hashtags = []\n",
    "carrier = []\n",
    "# tweet_len = []\n",
    "for tweet in tokenized_tweets:\n",
    "    thandles = []\n",
    "    thashtags = []\n",
    "    joined_words = \" \"\n",
    "    words = [w.lower() for w in tweet if len(w)>2 and w not in stop_words]\n",
    "    thandles = [w for w in words if re.search(\"^@\\w+\", w)]\n",
    "    tlinks = [w for w in words if re.search(\"^https:\\w+\", w)]\n",
    "    thashtags = [w for w in words if re.search(\"^#\\w+\", w)]\n",
    "    words = [w for w in words if w.isalpha() and w not in thandles and w not in thashtags and w not in tlinks]\n",
    "    words = [lemmatizer.lemmatize(w) for w in words]\n",
    "    \n",
    "    joined_words = joined_words.join(words)\n",
    "    tlength = len(joined_words)\n",
    "    handles.append(thandles)\n",
    "    hashtags.append(thashtags)\n",
    "    clean_text.append(joined_words)\n",
    "#     tweet_len.append(tlength)\n",
    "    \n",
    "\n",
    "    \n",
    "print('Elapsed clock time: ', (time.time() - start_time)/3600, ' seconds')"
   ]
  },
  {
   "cell_type": "code",
   "execution_count": 5,
   "metadata": {},
   "outputs": [
    {
     "data": {
      "text/html": [
       "<div>\n",
       "<style scoped>\n",
       "    .dataframe tbody tr th:only-of-type {\n",
       "        vertical-align: middle;\n",
       "    }\n",
       "\n",
       "    .dataframe tbody tr th {\n",
       "        vertical-align: top;\n",
       "    }\n",
       "\n",
       "    .dataframe thead th {\n",
       "        text-align: right;\n",
       "    }\n",
       "</style>\n",
       "<table border=\"1\" class=\"dataframe\">\n",
       "  <thead>\n",
       "    <tr style=\"text-align: right;\">\n",
       "      <th></th>\n",
       "      <th>screen_name</th>\n",
       "      <th>date_time</th>\n",
       "      <th>location</th>\n",
       "      <th>text</th>\n",
       "      <th>clean_text</th>\n",
       "      <th>handles</th>\n",
       "      <th>hashtags</th>\n",
       "    </tr>\n",
       "  </thead>\n",
       "  <tbody>\n",
       "    <tr>\n",
       "      <th>0</th>\n",
       "      <td>leila_fong</td>\n",
       "      <td>2019-10-23 23:57:59</td>\n",
       "      <td>Illinois, USA</td>\n",
       "      <td>@ATTHelp I’m blocking, but then they change th...</td>\n",
       "      <td>blocking change number one digit switch unknown</td>\n",
       "      <td>[@atthelp]</td>\n",
       "      <td>[]</td>\n",
       "    </tr>\n",
       "    <tr>\n",
       "      <th>1</th>\n",
       "      <td>SnackEvangelist</td>\n",
       "      <td>2019-10-23 23:57:44</td>\n",
       "      <td></td>\n",
       "      <td>@ATTHelp Just logged into my account and it’s ...</td>\n",
       "      <td>just logged account added how get rid</td>\n",
       "      <td>[@atthelp]</td>\n",
       "      <td>[]</td>\n",
       "    </tr>\n",
       "    <tr>\n",
       "      <th>2</th>\n",
       "      <td>DeathboxTy</td>\n",
       "      <td>2019-10-23 23:54:34</td>\n",
       "      <td></td>\n",
       "      <td>@ATTHelp can’t get my Visual Voicemail to work...</td>\n",
       "      <td>get visual voicemail work suggestion tried tip...</td>\n",
       "      <td>[@atthelp]</td>\n",
       "      <td>[]</td>\n",
       "    </tr>\n",
       "    <tr>\n",
       "      <th>3</th>\n",
       "      <td>BLoLovesYou</td>\n",
       "      <td>2019-10-23 23:54:05</td>\n",
       "      <td>San Antonio, TX</td>\n",
       "      <td>@ATTHelp You were charging me $150 for an outd...</td>\n",
       "      <td>you charging outdated unlimited plan switched ...</td>\n",
       "      <td>[@atthelp]</td>\n",
       "      <td>[]</td>\n",
       "    </tr>\n",
       "    <tr>\n",
       "      <th>4</th>\n",
       "      <td>ATTHelp</td>\n",
       "      <td>2019-10-23 23:53:02</td>\n",
       "      <td></td>\n",
       "      <td>@leila_fong Hey, Leila, we're here to help. Cl...</td>\n",
       "      <td>hey leila help click learn protect unwanted call</td>\n",
       "      <td>[@leila_fong]</td>\n",
       "      <td>[]</td>\n",
       "    </tr>\n",
       "  </tbody>\n",
       "</table>\n",
       "</div>"
      ],
      "text/plain": [
       "       screen_name           date_time         location  \\\n",
       "0       leila_fong 2019-10-23 23:57:59    Illinois, USA   \n",
       "1  SnackEvangelist 2019-10-23 23:57:44                    \n",
       "2       DeathboxTy 2019-10-23 23:54:34                    \n",
       "3      BLoLovesYou 2019-10-23 23:54:05  San Antonio, TX   \n",
       "4          ATTHelp 2019-10-23 23:53:02                    \n",
       "\n",
       "                                                text  \\\n",
       "0  @ATTHelp I’m blocking, but then they change th...   \n",
       "1  @ATTHelp Just logged into my account and it’s ...   \n",
       "2  @ATTHelp can’t get my Visual Voicemail to work...   \n",
       "3  @ATTHelp You were charging me $150 for an outd...   \n",
       "4  @leila_fong Hey, Leila, we're here to help. Cl...   \n",
       "\n",
       "                                          clean_text        handles hashtags  \n",
       "0    blocking change number one digit switch unknown     [@atthelp]       []  \n",
       "1              just logged account added how get rid     [@atthelp]       []  \n",
       "2  get visual voicemail work suggestion tried tip...     [@atthelp]       []  \n",
       "3  you charging outdated unlimited plan switched ...     [@atthelp]       []  \n",
       "4   hey leila help click learn protect unwanted call  [@leila_fong]       []  "
      ]
     },
     "execution_count": 5,
     "metadata": {},
     "output_type": "execute_result"
    }
   ],
   "source": [
    "df[\"clean_text\"] = clean_text\n",
    "df[\"handles\"] = handles\n",
    "df[\"hashtags\"] = hashtags\n",
    "df.head()"
   ]
  },
  {
   "cell_type": "markdown",
   "metadata": {},
   "source": [
    "### Add sentiment columns"
   ]
  },
  {
   "cell_type": "code",
   "execution_count": 6,
   "metadata": {},
   "outputs": [],
   "source": [
    "from textblob import TextBlob\n",
    "polarity = [0.0]*len(df)\n",
    "subjectivity = [0.5]*len(df)\n",
    "sentiment = [\"\"]*len(df)\n",
    "\n",
    "for i in df.index:\n",
    "    blob = TextBlob(df.clean_text[i])\n",
    "    polarity[i] = blob.polarity\n",
    "    subjectivity[i] = blob.subjectivity\n",
    "    if polarity[i] > 0.0:\n",
    "        sentiment[i] = \"pos\"\n",
    "    elif polarity[i] < 0.0:\n",
    "        sentiment[i] = \"neg\"\n",
    "    else:\n",
    "        sentiment[i] = \"neu\"\n",
    "\n",
    "df[\"sentiment\"]    = sentiment\n",
    "df[\"polarity\"]     = polarity\n",
    "df[\"subjectivity\"] = subjectivity"
   ]
  },
  {
   "cell_type": "markdown",
   "metadata": {},
   "source": [
    "### Add \"Carrier\" column"
   ]
  },
  {
   "cell_type": "code",
   "execution_count": 7,
   "metadata": {},
   "outputs": [],
   "source": [
    "# carrier keywords: 'tmobile', 'att', 'verizon'\n",
    "# As long as a keyword appears in the user's tweet, \n",
    "# that tweet is considered to be in the description of that certain carrier.\n",
    "# One tweet can describe more than one carrier.\n",
    "\n",
    "carrier = []\n",
    "\n",
    "for text in df[['screen_name','text']].values:\n",
    "    screen_name = text[0].lower()\n",
    "    twitter_text = text[1].lower()\n",
    "    current_carrier = []\n",
    "    if 'tmobile' in twitter_text or 'tmobile' in screen_name:\n",
    "        current_carrier.append('tmobile')\n",
    "    if 'att' in twitter_text or 'att' in screen_name:\n",
    "        current_carrier.append('att')\n",
    "    if 'verizon' in twitter_text or 'verizon' in screen_name:\n",
    "        current_carrier.append('verizon')\n",
    "#     if len(current_carrier) == 0:\n",
    "#         current_carrier.append('None')\n",
    "    carrier.append(' '.join(current_carrier))\n",
    "\n",
    "df['carrier'] = carrier\n",
    "        "
   ]
  },
  {
   "cell_type": "code",
   "execution_count": 8,
   "metadata": {
    "scrolled": true
   },
   "outputs": [
    {
     "data": {
      "text/html": [
       "<div>\n",
       "<style scoped>\n",
       "    .dataframe tbody tr th:only-of-type {\n",
       "        vertical-align: middle;\n",
       "    }\n",
       "\n",
       "    .dataframe tbody tr th {\n",
       "        vertical-align: top;\n",
       "    }\n",
       "\n",
       "    .dataframe thead th {\n",
       "        text-align: right;\n",
       "    }\n",
       "</style>\n",
       "<table border=\"1\" class=\"dataframe\">\n",
       "  <thead>\n",
       "    <tr style=\"text-align: right;\">\n",
       "      <th></th>\n",
       "      <th>carrier</th>\n",
       "      <th>location</th>\n",
       "      <th>date_time</th>\n",
       "      <th>clean_text</th>\n",
       "      <th>sentiment</th>\n",
       "    </tr>\n",
       "  </thead>\n",
       "  <tbody>\n",
       "    <tr>\n",
       "      <th>0</th>\n",
       "      <td>att</td>\n",
       "      <td>Illinois, USA</td>\n",
       "      <td>2019-10-23 23:57:59</td>\n",
       "      <td>blocking change number one digit switch unknown</td>\n",
       "      <td>neg</td>\n",
       "    </tr>\n",
       "    <tr>\n",
       "      <th>1</th>\n",
       "      <td>att</td>\n",
       "      <td></td>\n",
       "      <td>2019-10-23 23:57:44</td>\n",
       "      <td>just logged account added how get rid</td>\n",
       "      <td>neu</td>\n",
       "    </tr>\n",
       "    <tr>\n",
       "      <th>2</th>\n",
       "      <td>att</td>\n",
       "      <td></td>\n",
       "      <td>2019-10-23 23:54:34</td>\n",
       "      <td>get visual voicemail work suggestion tried tip...</td>\n",
       "      <td>neu</td>\n",
       "    </tr>\n",
       "    <tr>\n",
       "      <th>3</th>\n",
       "      <td>att</td>\n",
       "      <td>San Antonio, TX</td>\n",
       "      <td>2019-10-23 23:54:05</td>\n",
       "      <td>you charging outdated unlimited plan switched ...</td>\n",
       "      <td>pos</td>\n",
       "    </tr>\n",
       "    <tr>\n",
       "      <th>4</th>\n",
       "      <td>att</td>\n",
       "      <td></td>\n",
       "      <td>2019-10-23 23:53:02</td>\n",
       "      <td>hey leila help click learn protect unwanted call</td>\n",
       "      <td>neu</td>\n",
       "    </tr>\n",
       "  </tbody>\n",
       "</table>\n",
       "</div>"
      ],
      "text/plain": [
       "  carrier         location           date_time  \\\n",
       "0     att    Illinois, USA 2019-10-23 23:57:59   \n",
       "1     att                  2019-10-23 23:57:44   \n",
       "2     att                  2019-10-23 23:54:34   \n",
       "3     att  San Antonio, TX 2019-10-23 23:54:05   \n",
       "4     att                  2019-10-23 23:53:02   \n",
       "\n",
       "                                          clean_text sentiment  \n",
       "0    blocking change number one digit switch unknown       neg  \n",
       "1              just logged account added how get rid       neu  \n",
       "2  get visual voicemail work suggestion tried tip...       neu  \n",
       "3  you charging outdated unlimited plan switched ...       pos  \n",
       "4   hey leila help click learn protect unwanted call       neu  "
      ]
     },
     "execution_count": 8,
     "metadata": {},
     "output_type": "execute_result"
    }
   ],
   "source": [
    "df[['carrier','location','date_time','clean_text','sentiment']].head()"
   ]
  },
  {
   "cell_type": "code",
   "execution_count": 9,
   "metadata": {
    "scrolled": false
   },
   "outputs": [
    {
     "data": {
      "text/plain": [
       "(171423, 11)"
      ]
     },
     "execution_count": 9,
     "metadata": {},
     "output_type": "execute_result"
    }
   ],
   "source": [
    "# Drop records that has null value in carrier culumn, which means that the tweet does not describe any carrier.\n",
    "\n",
    "df = df[df.carrier != '']\n",
    "df.shape"
   ]
  },
  {
   "cell_type": "code",
   "execution_count": 10,
   "metadata": {
    "scrolled": false
   },
   "outputs": [],
   "source": [
    "# get the counts of each carrier\n",
    "\n",
    "c = df.carrier.value_counts()"
   ]
  },
  {
   "cell_type": "code",
   "execution_count": 12,
   "metadata": {},
   "outputs": [],
   "source": [
    "# build a clean text for classifier, clf_text, which remove the links and keep the stop words\n",
    "\n",
    "tokenized_tweets = [tokenizer.tokenize(t) for t in df.text]\n",
    "clf_text = []\n",
    "for tweet in tokenized_tweets:\n",
    "    joined_words = \" \"\n",
    "    words = [w.lower() for w in tweet if w.isalpha() or w[0]=='@']\n",
    "    tlinks = [w for w in words if re.search(\"^https:\\w+\", w)]\n",
    "    words = [w for w in words if  w not in tlinks]\n",
    "    joined_words = joined_words.join(words)\n",
    "    clf_text.append(joined_words)\n",
    "\n",
    "df[\"clf_text\"] = clf_text"
   ]
  },
  {
   "cell_type": "code",
   "execution_count": 13,
   "metadata": {
    "scrolled": true
   },
   "outputs": [
    {
     "data": {
      "text/plain": [
       "0    @atthelp i m blocking but then they change the...\n",
       "1    @atthelp just logged into my account and it s ...\n",
       "2    @atthelp can t get my visual voicemail to work...\n",
       "3    @atthelp you were charging me for an outdated ...\n",
       "4    @leila_fong hey leila here to help click here ...\n",
       "Name: clf_text, dtype: object"
      ]
     },
     "execution_count": 13,
     "metadata": {},
     "output_type": "execute_result"
    }
   ],
   "source": [
    "df[\"clf_text\"].head()"
   ]
  },
  {
   "cell_type": "code",
   "execution_count": 14,
   "metadata": {},
   "outputs": [
    {
     "data": {
      "text/plain": [
       "0    @ATTHelp I’m blocking, but then they change th...\n",
       "1    @ATTHelp Just logged into my account and it’s ...\n",
       "2    @ATTHelp can’t get my Visual Voicemail to work...\n",
       "3    @ATTHelp You were charging me $150 for an outd...\n",
       "4    @leila_fong Hey, Leila, we're here to help. Cl...\n",
       "Name: text, dtype: object"
      ]
     },
     "execution_count": 14,
     "metadata": {},
     "output_type": "execute_result"
    }
   ],
   "source": [
    "df[\"text\"].head()"
   ]
  },
  {
   "cell_type": "markdown",
   "metadata": {},
   "source": [
    "# Build 7 groups based on different Carrier\n",
    "\n",
    "- att_df: tweets that only mentioned ATT\n",
    "- ver_df: tweets that only mentioned Verizon\n",
    "- tmo_df: tweets that only mentioned TMobile\n",
    "- tmo_att_df: tweets that mentioned both TMobile and ATT\n",
    "- att_ver_df: tweets that mentioned both ATT and Verizon\n",
    "- tmo_ver_df: tweets that mentioned both TMobile and Verizon\n",
    "- tmo_att_ver_df: tweets that mentioned all TMobile, ATT and Verizon\n"
   ]
  },
  {
   "cell_type": "code",
   "execution_count": 15,
   "metadata": {},
   "outputs": [],
   "source": [
    "att_df = df[df['carrier']=='att'][['carrier','sentiment','polarity','text','clf_text']]\n",
    "ver_df = df[df['carrier']=='verizon'][['carrier','sentiment','polarity','text','clf_text']]\n",
    "tmo_df = df[df['carrier']=='tmobile'][['carrier','sentiment','polarity','text','clf_text']]\n",
    "\n",
    "tmo_att_df = df[df['carrier']=='tmobile att'][['carrier','sentiment','polarity','text','clf_text']]\n",
    "att_ver_df = df[df['carrier']=='att verizon'][['carrier','sentiment','polarity','text','clf_text']]\n",
    "tmo_ver_df = df[df['carrier']=='tmobile verizon'][['carrier','sentiment','polarity','text','clf_text']]\n",
    "\n",
    "tmo_att_ver_df = df[df['carrier']=='tmobile att verizon'][['carrier','sentiment','polarity','text','clf_text']]"
   ]
  },
  {
   "cell_type": "code",
   "execution_count": 16,
   "metadata": {},
   "outputs": [],
   "source": [
    "# Randomly sample 50 records for each group to form a new database\n",
    "# And try to make the ratio of pos to neg is 1\n",
    "\n",
    "only_att_pos = att_df[att_df['sentiment']=='pos'].sample(25)\n",
    "only_att_neg = att_df[att_df['sentiment']=='neg'].sample(25)\n",
    "only_ver_pos = ver_df[ver_df['sentiment']=='pos'].sample(25)\n",
    "only_ver_neg = ver_df[ver_df['sentiment']=='neg'].sample(25)\n",
    "only_tmo_pos = tmo_df[tmo_df['sentiment']=='pos'].sample(25)\n",
    "only_tmo_neg = tmo_df[tmo_df['sentiment']=='neg'].sample(25)\n",
    "\n",
    "tmo_att = tmo_att_df.sample(50)\n",
    "att_ver = att_ver_df.sample(50)\n",
    "tmo_ver = tmo_ver_df.sample(50)\n",
    "\n",
    "tmo_att_ver = tmo_att_ver_df.sample(50)\n",
    "\n",
    "\n",
    "clf_corpus = pd.concat([only_att_pos,only_att_neg,only_ver_pos,only_ver_neg,only_tmo_pos,only_tmo_neg,tmo_att,att_ver,tmo_ver,tmo_att_ver] ,ignore_index=True)\n",
    "clf_corpus.to_csv('clf_corpus.csv')"
   ]
  },
  {
   "cell_type": "markdown",
   "metadata": {},
   "source": [
    "## Q1. Tweets count for per carrier and per group"
   ]
  },
  {
   "cell_type": "code",
   "execution_count": 19,
   "metadata": {
    "scrolled": true
   },
   "outputs": [
    {
     "data": {
      "text/plain": [
       "att                    82395\n",
       "verizon                47746\n",
       "tmobile                31842\n",
       "tmobile att             3400\n",
       "att verizon             3164\n",
       "tmobile verizon         2129\n",
       "tmobile att verizon      747\n",
       "Name: carrier, dtype: int64"
      ]
     },
     "execution_count": 19,
     "metadata": {},
     "output_type": "execute_result"
    }
   ],
   "source": [
    "c"
   ]
  },
  {
   "cell_type": "code",
   "execution_count": 20,
   "metadata": {},
   "outputs": [],
   "source": [
    "att_df = df[df['carrier']=='att'][['date_time','location','clean_text','carrier', 'sentiment', 'polarity', 'subjectivity']]\n",
    "verizon_df = df[df['carrier']=='verizon'][['date_time','location','clean_text','carrier', 'sentiment', 'polarity', 'subjectivity']]\n",
    "tmobile_df = df[df['carrier']=='tmobile'][['date_time','location','clean_text','carrier', 'sentiment', 'polarity', 'subjectivity']]\n",
    "\n",
    "tmobile_att_df = df[df['carrier']=='tmobile att'][['date_time','location','clean_text','carrier', 'sentiment', 'polarity', 'subjectivity']]\n",
    "att_verizon_df = df[df['carrier']=='att verizon'][['date_time','location','clean_text','carrier', 'sentiment', 'polarity', 'subjectivity']]\n",
    "tmobile_verizon_df = df[df['carrier']=='tmobile verizon'][['date_time','location','clean_text','carrier', 'sentiment', 'polarity', 'subjectivity']]\n",
    "\n",
    "tmobile_att_verizon_df = df[df['carrier']=='tmobile att verizon'][['date_time','location','clean_text','carrier', 'sentiment', 'polarity', 'subjectivity']]"
   ]
  },
  {
   "cell_type": "code",
   "execution_count": 21,
   "metadata": {
    "scrolled": true
   },
   "outputs": [],
   "source": [
    "att = pd.concat([att_df,tmobile_att_df,att_verizon_df,tmobile_att_verizon_df], sort=False)\n",
    "verizon = pd.concat([verizon_df,att_verizon_df,tmobile_verizon_df,tmobile_att_verizon_df], sort=False)\n",
    "tmobile = pd.concat([tmobile_df,tmobile_att_df,tmobile_verizon_df,tmobile_att_verizon_df], sort=False)"
   ]
  },
  {
   "cell_type": "code",
   "execution_count": 22,
   "metadata": {},
   "outputs": [
    {
     "data": {
      "text/plain": [
       "<Figure size 1500x500 with 2 Axes>"
      ]
     },
     "metadata": {},
     "output_type": "display_data"
    }
   ],
   "source": [
    "import matplotlib.pyplot as plt\n",
    "\n",
    "carrier_counts = []\n",
    "carrier = ['ATT','Verizon','Tmobile']\n",
    "for i in (att, verizon, tmobile):\n",
    "    carrier_counts.append(len(i))\n",
    "\n",
    "plt.figure(figsize=(15,5))\n",
    "plt.subplot(121)\n",
    "plt.bar(carrier, carrier_counts, color=['lightskyblue','moccasin','yellowgreen'])\n",
    "plt.xlabel('carrier')\n",
    "plt.ylabel('tweets counts')\n",
    "plt.title('Tweets per carrier', fontsize=15)\n",
    "plt.subplot(122)\n",
    "group = ['ATT','Verizon','Tmobile', 'A&T', 'A&V','T&V','A&T&V']\n",
    "plt.bar(group, c, alpha=0.6)\n",
    "plt.xlabel('group')\n",
    "plt.ylabel('tweets counts')\n",
    "plt.title('Tweets per group', fontsize=15)\n",
    "plt.show()"
   ]
  },
  {
   "cell_type": "markdown",
   "metadata": {},
   "source": [
    "### Interpretation:\n",
    "   As we can see from the graph, during the period from 2019-10-9 to 2019-10-23, ATT has the most tweets, and the carrier combination groups, tmo_att_df, att_ver_df, tmo_ver_df, tmo_att_ver_df, have much lower counts than single carrier group.\n",
    "   We can initially conclude that customers wants to churn with a clear goal is the minority."
   ]
  },
  {
   "cell_type": "markdown",
   "metadata": {},
   "source": [
    "## Q2. Frequent description words for each carrier"
   ]
  },
  {
   "cell_type": "code",
   "execution_count": 23,
   "metadata": {},
   "outputs": [],
   "source": [
    "from collections import Counter\n",
    "import nltk\n",
    "\n",
    "def get5CommonWords(text):\n",
    "    words = nltk.tokenize.word_tokenize(text)\n",
    "    stop_list = ['https','att','tmobile','verizon','the','hey','get']\n",
    "    words = [w for w in words if w.isalpha() and w not in stop_list]\n",
    "    most_occur = Counter(words).most_common(5)\n",
    "    return most_occur\n",
    "    # return ', '.join([word[0] for word in most_occur])"
   ]
  },
  {
   "cell_type": "code",
   "execution_count": 24,
   "metadata": {},
   "outputs": [],
   "source": [
    "att_common_words = get5CommonWords(' '.join(att_df['clean_text'].values))\n",
    "verizon_common_words = get5CommonWords(' '.join(verizon_df['clean_text'].values))\n",
    "tmobile_common_words = get5CommonWords(' '.join(tmobile_df['clean_text'].values))"
   ]
  },
  {
   "cell_type": "code",
   "execution_count": 25,
   "metadata": {
    "scrolled": true
   },
   "outputs": [
    {
     "name": "stdout",
     "output_type": "stream",
     "text": [
      "ATT : comment, day, help, still, like\n",
      "Verizon : customer, disney, free, service, year\n",
      "Tmobile : customer, love, see, want, ticket\n"
     ]
    }
   ],
   "source": [
    "def printFrequentWords(carrier, common_words):\n",
    "    word,count = zip(*common_words)\n",
    "    print(carrier, ':',', '.join(word))\n",
    "\n",
    "printFrequentWords('ATT', att_common_words)\n",
    "printFrequentWords('Verizon', verizon_common_words)\n",
    "printFrequentWords('Tmobile', tmobile_common_words)"
   ]
  },
  {
   "cell_type": "code",
   "execution_count": 26,
   "metadata": {
    "scrolled": true
   },
   "outputs": [
    {
     "data": {
      "image/png": "[encoded data removed]",
      "text/plain": [
       "<Figure size 1080x216 with 3 Axes>"
      ]
     },
     "metadata": {
      "needs_background": "light"
     },
     "output_type": "display_data"
    }
   ],
   "source": [
    "def frequentWordsPlot(common_words):\n",
    "    word,count = zip(*common_words)\n",
    "    plt.bar(word,count,alpha=0.7)\n",
    "\n",
    "plt.figure(figsize=(15,3))\n",
    "plt.subplot(131)\n",
    "frequentWordsPlot(att_common_words)\n",
    "plt.xlabel('words')\n",
    "plt.ylabel('counts')\n",
    "plt.title('ATT', fontsize=15)\n",
    "\n",
    "plt.subplot(132)\n",
    "frequentWordsPlot(verizon_common_words)\n",
    "plt.xlabel('words')\n",
    "plt.ylabel('counts')\n",
    "plt.title('Verizon', fontsize=15)\n",
    "\n",
    "plt.subplot(133)\n",
    "frequentWordsPlot(tmobile_common_words)\n",
    "plt.xlabel('words')\n",
    "plt.ylabel('counts')\n",
    "plt.title('Tmobile', fontsize=15)\n",
    "plt.show()"
   ]
  },
  {
   "cell_type": "markdown",
   "metadata": {},
   "source": [
    "## Q3. Mention times for each carrier per day"
   ]
  },
  {
   "cell_type": "code",
   "execution_count": 27,
   "metadata": {
    "scrolled": true
   },
   "outputs": [],
   "source": [
    "# Get the time series data\n",
    "# att_df['date_time'].dt.year\n",
    "# att_df['date_time'].dt.date\n",
    "# att_df['date_time'].dt.dayofweek.value_counts()"
   ]
  },
  {
   "cell_type": "code",
   "execution_count": 28,
   "metadata": {
    "scrolled": true
   },
   "outputs": [],
   "source": [
    "def getDateCounts(df):\n",
    "    date = df['date_time'].dt.date\n",
    "    df['date'] = date\n",
    "    size = df.groupby('date').size()\n",
    "    return size"
   ]
  },
  {
   "cell_type": "code",
   "execution_count": 29,
   "metadata": {
    "scrolled": false
   },
   "outputs": [
    {
     "data": {
      "image/png": "[encoded data removed]",
      "text/plain": [
       "<Figure size 1440x576 with 1 Axes>"
      ]
     },
     "metadata": {
      "needs_background": "light"
     },
     "output_type": "display_data"
    }
   ],
   "source": [
    "# att_df.groupby('date').head(1)\n",
    "# att_df.groupby('date').describe()\n",
    "import matplotlib.pyplot as plt\n",
    "\n",
    "plt.figure(figsize=(20,8))\n",
    "getDateCounts(att).plot(label='ATT')\n",
    "getDateCounts(verizon).plot(label='Verizon')\n",
    "getDateCounts(tmobile).plot(label='Tmobile')\n",
    "plt.xticks(rotation=70, fontsize=15)\n",
    "plt.yticks(fontsize=15)\n",
    "plt.xlabel('')\n",
    "plt.legend(prop={'size':15})\n",
    "plt.title('Tweets mentioned over time', fontsize=25)\n",
    "plt.show()"
   ]
  },
  {
   "cell_type": "markdown",
   "metadata": {},
   "source": [
    "## Q4. Sentiment Analysis for each carrier"
   ]
  },
  {
   "cell_type": "markdown",
   "metadata": {},
   "source": [
    "### a. Polarity distribution for 3 carriers"
   ]
  },
  {
   "cell_type": "code",
   "execution_count": 30,
   "metadata": {
    "scrolled": false
   },
   "outputs": [
    {
     "data": {
      "image/png": "[encoded data removed]",
      "text/plain": [
       "<Figure size 1080x720 with 2 Axes>"
      ]
     },
     "metadata": {
      "needs_background": "light"
     },
     "output_type": "display_data"
    }
   ],
   "source": [
    "import seaborn as sns\n",
    "\n",
    "plt.figure(figsize=(15,10))\n",
    "plt.subplot(211)\n",
    "data = att_df[(att_df.polarity >= 0.05) | (att_df.polarity <= -0.05)]\n",
    "sns.distplot(data[\"polarity\"], kde=False, hist=True, label=\"ATT\")\n",
    "data = verizon_df[(verizon_df.polarity >= 0.05) | (verizon_df.polarity <= -0.05)]\n",
    "sns.distplot(data[\"polarity\"], kde=False, hist=True, label=\"Verizon\")\n",
    "data = tmobile_df[(tmobile_df.polarity >= 0.05) | (tmobile_df.polarity <= -0.05)]\n",
    "sns.distplot(data[\"polarity\"], kde=False, hist=True, label=\"Tmobile\")\n",
    "plt.legend(prop={\"size\": 12})\n",
    "plt.title(\"Sentiment Polarity of Three Carriers\")\n",
    "plt.ylabel(\"Tweet Count\")\n",
    "\n",
    "plt.subplot(212)\n",
    "data = att_df[(att_df.polarity >= 0.05) | (att_df.polarity <= -0.05)]\n",
    "sns.distplot(data[\"polarity\"], kde=True, hist=False, label=\"ATT\")\n",
    "data = verizon_df[(verizon_df.polarity >= 0.05) | (verizon_df.polarity <= -0.05)]\n",
    "sns.distplot(data[\"polarity\"], kde=True, hist=False, label=\"Verizon\")\n",
    "data = tmobile_df[(tmobile_df.polarity >= 0.05) | (tmobile_df.polarity <= -0.05)]\n",
    "sns.distplot(data[\"polarity\"], kde=True, hist=False, label=\"Tmobile\")\n",
    "plt.legend(prop={\"size\": 12})\n",
    "plt.title(\"Sentiment Polarity of Three Carriers\")\n",
    "plt.ylabel(\"Tweet Count\")\n",
    "\n",
    "plt.show()"
   ]
  },
  {
   "cell_type": "markdown",
   "metadata": {},
   "source": [
    "### b. Overall sentiments polarity for each carrier"
   ]
  },
  {
   "cell_type": "code",
   "execution_count": 31,
   "metadata": {},
   "outputs": [
    {
     "data": {
      "text/html": [
       "<div>\n",
       "<style scoped>\n",
       "    .dataframe tbody tr th:only-of-type {\n",
       "        vertical-align: middle;\n",
       "    }\n",
       "\n",
       "    .dataframe tbody tr th {\n",
       "        vertical-align: top;\n",
       "    }\n",
       "\n",
       "    .dataframe thead th {\n",
       "        text-align: right;\n",
       "    }\n",
       "</style>\n",
       "<table border=\"1\" class=\"dataframe\">\n",
       "  <thead>\n",
       "    <tr style=\"text-align: right;\">\n",
       "      <th></th>\n",
       "      <th>carrier</th>\n",
       "      <th>sentiment</th>\n",
       "    </tr>\n",
       "  </thead>\n",
       "  <tbody>\n",
       "    <tr>\n",
       "      <th>0</th>\n",
       "      <td>ATT</td>\n",
       "      <td>0.086422</td>\n",
       "    </tr>\n",
       "    <tr>\n",
       "      <th>1</th>\n",
       "      <td>Verizon</td>\n",
       "      <td>0.152118</td>\n",
       "    </tr>\n",
       "    <tr>\n",
       "      <th>2</th>\n",
       "      <td>Tmobile</td>\n",
       "      <td>0.246736</td>\n",
       "    </tr>\n",
       "  </tbody>\n",
       "</table>\n",
       "</div>"
      ],
      "text/plain": [
       "   carrier  sentiment\n",
       "0      ATT   0.086422\n",
       "1  Verizon   0.152118\n",
       "2  Tmobile   0.246736"
      ]
     },
     "execution_count": 31,
     "metadata": {},
     "output_type": "execute_result"
    }
   ],
   "source": [
    "# Overall Sentiment Analysis using TextBlob\n",
    "\n",
    "carrier = ['ATT', 'Verizon', 'Tmobile']\n",
    "sentiment = []\n",
    "\n",
    "for df in (att_df, verizon_df, tmobile_df):\n",
    "    data = TextBlob(' '.join(df['clean_text'].values)).sentiment.polarity\n",
    "    sentiment.append(data)\n",
    "\n",
    "\n",
    "data = pd.DataFrame({'carrier':carrier, 'sentiment':sentiment})\n",
    "\n",
    "data"
   ]
  },
  {
   "cell_type": "code",
   "execution_count": 32,
   "metadata": {
    "scrolled": true
   },
   "outputs": [
    {
     "data": {
      "image/png": "[encoded data removed]",
      "text/plain": [
       "<Figure size 1080x360 with 2 Axes>"
      ]
     },
     "metadata": {
      "needs_background": "light"
     },
     "output_type": "display_data"
    }
   ],
   "source": [
    "plt.figure(figsize=(15,5))\n",
    "plt.subplot(121)\n",
    "plt.bar(data['carrier'], data['sentiment'],color=['lightskyblue','moccasin','yellowgreen'])\n",
    "plt.title('Sentiments polarity per carrier', fontsize=15)\n",
    "\n",
    "plt.subplot(122)\n",
    "plt.bar(carrier, carrier_counts, color=['lightskyblue','moccasin','yellowgreen'])\n",
    "plt.xlabel('carrier')\n",
    "plt.ylabel('tweets counts')\n",
    "plt.title('Tweets per carrier', fontsize=15)\n",
    "plt.show()"
   ]
  },
  {
   "cell_type": "markdown",
   "metadata": {},
   "source": [
    "### Interpretation:\n",
    "\n",
    "There is a interesting point that ATT has the most tweets, but get the worst polarity from users. And with the carrier tweets increaseing, the sentiment polarity is decreasing. "
   ]
  },
  {
   "cell_type": "markdown",
   "metadata": {},
   "source": [
    "### c. Positve VS. Negative Tweets percentage for 3 carriers"
   ]
  },
  {
   "cell_type": "code",
   "execution_count": 33,
   "metadata": {
    "scrolled": true
   },
   "outputs": [
    {
     "data": {
      "text/html": [
       "<div>\n",
       "<style scoped>\n",
       "    .dataframe tbody tr th:only-of-type {\n",
       "        vertical-align: middle;\n",
       "    }\n",
       "\n",
       "    .dataframe tbody tr th {\n",
       "        vertical-align: top;\n",
       "    }\n",
       "\n",
       "    .dataframe thead th {\n",
       "        text-align: right;\n",
       "    }\n",
       "</style>\n",
       "<table border=\"1\" class=\"dataframe\">\n",
       "  <thead>\n",
       "    <tr style=\"text-align: right;\">\n",
       "      <th></th>\n",
       "      <th>carrier</th>\n",
       "      <th>negative</th>\n",
       "      <th>positive</th>\n",
       "      <th>percentage_negative</th>\n",
       "      <th>percentage_positive</th>\n",
       "    </tr>\n",
       "  </thead>\n",
       "  <tbody>\n",
       "    <tr>\n",
       "      <th>0</th>\n",
       "      <td>ATT</td>\n",
       "      <td>13167</td>\n",
       "      <td>24642</td>\n",
       "      <td>0.348250</td>\n",
       "      <td>0.651750</td>\n",
       "    </tr>\n",
       "    <tr>\n",
       "      <th>1</th>\n",
       "      <td>Verizon</td>\n",
       "      <td>6620</td>\n",
       "      <td>19717</td>\n",
       "      <td>0.251357</td>\n",
       "      <td>0.748643</td>\n",
       "    </tr>\n",
       "    <tr>\n",
       "      <th>2</th>\n",
       "      <td>Tmobile</td>\n",
       "      <td>3353</td>\n",
       "      <td>14547</td>\n",
       "      <td>0.187318</td>\n",
       "      <td>0.812682</td>\n",
       "    </tr>\n",
       "  </tbody>\n",
       "</table>\n",
       "</div>"
      ],
      "text/plain": [
       "   carrier  negative  positive  percentage_negative  percentage_positive\n",
       "0      ATT     13167     24642             0.348250             0.651750\n",
       "1  Verizon      6620     19717             0.251357             0.748643\n",
       "2  Tmobile      3353     14547             0.187318             0.812682"
      ]
     },
     "execution_count": 33,
     "metadata": {},
     "output_type": "execute_result"
    }
   ],
   "source": [
    "carrier = ['ATT', 'Verizon', 'Tmobile']\n",
    "negative_counts = []\n",
    "positive_counts = []\n",
    "\n",
    "for df in (att_df, verizon_df, tmobile_df):\n",
    "    counts = len(df[df.polarity < 0])\n",
    "    negative_counts.append(counts)\n",
    "    counts = len(df[df.polarity > 0])\n",
    "    positive_counts.append(counts)\n",
    "\n",
    "\n",
    "data = pd.DataFrame({'carrier':carrier, 'negative':negative_counts, 'positive':positive_counts})\n",
    "data['percentage_negative'] = data['negative']/(data['negative']+data['positive'])\n",
    "data['percentage_positive'] = data['positive']/(data['negative']+data['positive'])\n",
    "data"
   ]
  },
  {
   "cell_type": "code",
   "execution_count": 34,
   "metadata": {
    "scrolled": false
   },
   "outputs": [
    {
     "data": {
      "image/png": "[encoded data removed]",
      "text/plain": [
       "<Figure size 720x432 with 1 Axes>"
      ]
     },
     "metadata": {
      "needs_background": "light"
     },
     "output_type": "display_data"
    }
   ],
   "source": [
    "plt.figure(figsize=(10,6))\n",
    "p1 = plt.bar(data['carrier'], data['percentage_negative'], color='r',label='negative',alpha=0.5)\n",
    "p2 = plt.bar(data['carrier'], data['percentage_positive'], bottom=data['percentage_negative'], color='g', label='positive',alpha=0.5)\n",
    "plt.legend()\n",
    "plt.xticks(fontsize=15)\n",
    "plt.title('Positve VS. Negative Tweets percentage per carrier', fontsize=20)\n",
    "plt.show()"
   ]
  },
  {
   "cell_type": "markdown",
   "metadata": {},
   "source": [
    "### Interpretation:\n",
    "\n",
    "From this graph, we can explain the previous experiment that carrier with more tweets get lower polarity scores. That is because ATT has the most negative reviews ratio."
   ]
  },
  {
   "cell_type": "markdown",
   "metadata": {},
   "source": [
    "## Q5. Representative vocabulary in both Positve Tweets and Negative Tweets"
   ]
  },
  {
   "cell_type": "markdown",
   "metadata": {},
   "source": [
    "### Method1: Most frequent words"
   ]
  },
  {
   "cell_type": "code",
   "execution_count": 35,
   "metadata": {},
   "outputs": [
    {
     "name": "stdout",
     "output_type": "stream",
     "text": [
      "[('help', 2918), ('thanks', 2431), ('live', 2301), ('first', 2273), ('love', 2177)]\n",
      "[('free', 4006), ('disney', 3376), ('customer', 3167), ('year', 2799), ('new', 2238)]\n",
      "[('love', 2157), ('thanks', 1306), ('new', 1271), ('want', 961), ('best', 867)]\n"
     ]
    }
   ],
   "source": [
    "# Frequent positive words for each carrier\n",
    "\n",
    "att_positive_common_words = get5CommonWords(' '.join(att_df[att_df['sentiment']=='pos']['clean_text'].values))\n",
    "tmobile_positive_common_words = get5CommonWords(' '.join(tmobile_df[tmobile_df['sentiment']=='pos']['clean_text'].values))\n",
    "verizon_positive_common_words = get5CommonWords(' '.join(verizon_df[verizon_df['sentiment']=='pos']['clean_text'].values))\n",
    "\n",
    "print(att_positive_common_words)\n",
    "print(verizon_positive_common_words)\n",
    "print(tmobile_positive_common_words)"
   ]
  },
  {
   "cell_type": "code",
   "execution_count": 36,
   "metadata": {},
   "outputs": [
    {
     "name": "stdout",
     "output_type": "stream",
     "text": [
      "[('customer', 2742), ('like', 2387), ('tweet', 2344), ('sent', 2144), ('email', 2143)]\n",
      "[('service', 941), ('black', 571), ('phone', 559), ('galaxy', 441), ('samsung', 386)]\n",
      "[('customer', 441), ('service', 378), ('ticket', 294), ('even', 277), ('phone', 256)]\n"
     ]
    }
   ],
   "source": [
    "# Frequent negative words for each carrier\n",
    "\n",
    "att_negative_common_words = get5CommonWords(' '.join(att_df[att_df['sentiment']=='neg']['clean_text'].values))\n",
    "tmobile_negative_common_words = get5CommonWords(' '.join(tmobile_df[tmobile_df['sentiment']=='neg']['clean_text'].values))\n",
    "verizon_negative_common_words = get5CommonWords(' '.join(verizon_df[verizon_df['sentiment']=='neg']['clean_text'].values))\n",
    "\n",
    "print(att_negative_common_words)\n",
    "print(verizon_negative_common_words)\n",
    "print(tmobile_negative_common_words)"
   ]
  },
  {
   "cell_type": "code",
   "execution_count": 37,
   "metadata": {
    "scrolled": true
   },
   "outputs": [
    {
     "name": "stdout",
     "output_type": "stream",
     "text": [
      "ATT -- Pos  :  help, thanks, live, first, love\n",
      "ATT -- Neg  :  customer, like, tweet, sent, email\n",
      "----------\n",
      "Verizon -- Pos  :  free, disney, customer, year, new\n",
      "Verizon -- Neg  :  service, black, phone, galaxy, samsung\n",
      "----------\n",
      "Tmobile -- Pos  :  love, thanks, new, want, best\n",
      "Tmobile -- Pos  :  customer, service, ticket, even, phone\n"
     ]
    }
   ],
   "source": [
    "def getfrequentWords(carrier, common_words):\n",
    "    word,count = zip(*common_words)\n",
    "    print(carrier,' : ',', '.join(word))\n",
    "\n",
    "getfrequentWords('ATT -- Pos', att_positive_common_words)\n",
    "getfrequentWords('ATT -- Neg', att_negative_common_words)\n",
    "print('----------')\n",
    "getfrequentWords('Verizon -- Pos', verizon_positive_common_words)\n",
    "getfrequentWords('Verizon -- Neg', verizon_negative_common_words)\n",
    "print('----------')\n",
    "getfrequentWords('Tmobile -- Pos', tmobile_positive_common_words)\n",
    "getfrequentWords('Tmobile -- Pos', tmobile_negative_common_words)"
   ]
  },
  {
   "cell_type": "markdown",
   "metadata": {},
   "source": [
    "### Method2: Get representative words by Topic Modeling"
   ]
  },
  {
   "cell_type": "code",
   "execution_count": 109,
   "metadata": {},
   "outputs": [],
   "source": [
    "from gensim.corpora import Dictionary\n",
    "from gensim.models import LdaModel, LdaMulticore\n",
    "from gensim.models import TfidfModel\n",
    "import nltk"
   ]
  },
  {
   "cell_type": "code",
   "execution_count": 110,
   "metadata": {},
   "outputs": [],
   "source": [
    "# Convert to list\n",
    "def topicKeywords(df):\n",
    "    tokens = []\n",
    "    for i, row in df.iterrows():\n",
    "        text = row[\"clean_text\"]\n",
    "        words = text.split()\n",
    "        words = [w for w in words if w.isalpha() and len(w)>2]\n",
    "        # only screen out NOUN words\n",
    "        uni_pos = nltk.pos_tag(words, tagset='universal')\n",
    "        words = [w[0] for w in uni_pos if w[1]=='NOUN']\n",
    "        tokens.append(words)\n",
    "\n",
    "    my_dict = Dictionary(tokens)\n",
    "    my_dict.filter_extremes(no_below=5, no_above=0.85)\n",
    "   \n",
    "    # Count Vectorization\n",
    "    dtm = [my_dict.doc2bow(doc) for doc in tokens]\n",
    "    \n",
    "    # TF-IDF Vectorization\n",
    "    tfidf = TfidfModel(dtm)\n",
    "    tfidf = tfidf[dtm]\n",
    "\n",
    "    lda_model = LdaModel(tfidf, num_topics=5, id2word=my_dict, passes=10)\n",
    "    return lda_model\n",
    "    "
   ]
  },
  {
   "cell_type": "code",
   "execution_count": 111,
   "metadata": {
    "scrolled": false
   },
   "outputs": [
    {
     "name": "stdout",
     "output_type": "stream",
     "text": [
      "att - pos\n",
      "Topic 1 :  day, customer, reply, thing, time, wifi, year, work, att, service\n",
      "Topic 2 :  josh, att, career, total, attempt, thank, part, call, chance, post\n",
      "Topic 3 :  thanks, look, help, bill, phone, service, please, account, internet, people\n",
      "Topic 4 :  love, today, week, ticket, month, right, hand, fee, man, sunday\n",
      "Topic 5 :  episode, mini, series, offseason, court, star, player, lol, interview, http\n",
      "----------\n",
      "att - neg\n",
      "Topic 1 :  cause, tweet, concert, celebrate, tomorro, city, idea, life, towards, att\n",
      "Topic 2 :  game, help, everyone, employee, acc, vote, account, please, get, see\n",
      "Topic 3 :  people, fuck, game, att, trump, mean, look, company, news, night\n",
      "Topic 4 :  service, att, time, day, phone, hate, others, hour, internet, customer\n",
      "Topic 5 :  board, member, stephenson, sent, thousand, samuel, email, customer, ticket, shit\n",
      "----------\n",
      "verizon - pos\n",
      "Topic 1 :  phone, note, service, issue, area, thank, verizon, network, cable, data\n",
      "Topic 2 :  thanks, work, bill, day, reward, space, outage, gray, cut, watch\n",
      "Topic 3 :  sale, family, pixel, help, team, consultant, click, thing, please, verizon\n",
      "Topic 4 :  customer, year, month, disney, verizon, offer, wireless, plan, learn, code\n",
      "Topic 5 :  verizon, iphone, giveaway, copy, resicenters, anb, lol, smartphone, apple, chance\n",
      "----------\n",
      "verizon - neg\n",
      "Topic 1 :  iphone, end, sprint, date, fios, note, verizon, company, anyone, aura\n",
      "Topic 2 :  service, customer, year, cell, verizon, phone, center, experience, sorry, internet\n",
      "Topic 3 :  verizon, galaxy, samsung, shit, smartphone, midnight, block, auction, video, onyx\n",
      "Topic 4 :  hate, fuck, get, phone, today, verizon, yeah, bill, word, service\n",
      "Topic 5 :  call, issue, time, hour, outage, phone, day, data, service, month\n",
      "----------\n",
      "tmobile - pos\n",
      "Topic 1 :  love, lol, data, win, iphone, speed, tmobile, message, guy, sure\n",
      "Topic 2 :  hey, look, service, team, please, experience, area, help, thanks, issue\n",
      "Topic 3 :  see, chance, need, account, hello, carrier, service, friend, ticket, call\n",
      "Topic 4 :  thanks, thank, question, connection, phone, detail, family, today, part, bill\n",
      "Topic 5 :  customer, send, help, get, offer, deal, way, pixel, make, google\n",
      "----------\n",
      "tmobile - neg\n",
      "Topic 1 :  shit, sprint, area, coverage, look, hour, thing, data, breakdown, merger\n",
      "Topic 2 :  fuck, game, day, something, bill, tmobile, team, phone, aka, stunt\n",
      "Topic 3 :  customer, ticket, sucker, get, problem, sorry, issue, way, hey, rep\n",
      "Topic 4 :  mean, phone, plan, business, company, year, detail, blog, help, entrepreneur\n",
      "Topic 5 :  service, tmobile, hate, customer, experience, wtf, time, month, phone, help\n",
      "----------\n"
     ]
    }
   ],
   "source": [
    "carrier_df = (att_df, verizon_df, tmobile_df)\n",
    "sentiment = ['pos', 'neg']\n",
    "\n",
    "for d in carrier_df:\n",
    "    for s in sentiment:\n",
    "        model = topicKeywords(d[d['sentiment']==s])\n",
    "        print(d.carrier.values[0], '-', s)\n",
    "        for i in range(5):\n",
    "            wp = model.show_topic(i)\n",
    "            topic_keywords = \", \".join([word for word, prop in wp])\n",
    "            print('Topic',i+1, ': ', topic_keywords)\n",
    "        print('----------')\n",
    "        "
   ]
  },
  {
   "cell_type": "markdown",
   "metadata": {},
   "source": [
    "### Interpretation:\n",
    "\n",
    "The topic modeling method should be better, because the term frequency of BOW model only considers the frequently appearing words in one total domain. However, the most common words are not necessarily representative. Topic modeling is good for dividing the text set into several topics, and these topics can represent several major themes that users love and complain about."
   ]
  },
  {
   "cell_type": "code",
   "execution_count": 222,
   "metadata": {
    "scrolled": true
   },
   "outputs": [
    {
     "data": {
      "text/plain": [
       "                                  75811\n",
       "Bellevue, WA                       4599\n",
       "United States                      4390\n",
       "New York, NY                       1856\n",
       "Dallas, TX                         1669\n",
       "USA                                1640\n",
       "Los Angeles, CA                    1527\n",
       "California, USA                    1440\n",
       "Texas, USA                         1084\n",
       "Florida, USA                       1078\n",
       "Chicago, IL                        1014\n",
       "Houston, TX                         985\n",
       "Atlanta, GA                         943\n",
       "Washington, DC                      908\n",
       "New York, USA                       773\n",
       "Knoxville, TN                       719\n",
       "New Jersey, USA                     660\n",
       "New York                            648\n",
       "Brooklyn, NY                        579\n",
       "Seattle, WA                         564\n",
       "San Francisco, CA                   525\n",
       "Miami, FL                           506\n",
       "Rapid City, SD--Black Hills         498\n",
       "Pennsylvania, USA                   498\n",
       "Las Vegas, NV                       485\n",
       "Boston, MA                          483\n",
       "Philadelphia, PA                    476\n",
       "North Carolina, USA                 464\n",
       "Michigan, USA                       443\n",
       "Nashville, TN                       442\n",
       "                                  ...  \n",
       "478...                                1\n",
       "740 N. Cluff Avenue, Lodi, CA         1\n",
       "วังทองหลาง, กรุงเทพมหานคร             1\n",
       "Boston Ma.                            1\n",
       "luv US, *805*,  AZ, FL                1\n",
       "Guadalajara, Jalisco Mexico           1\n",
       "𝐓𝐡𝐞 𝐖𝐨𝐫𝐥𝐝                             1\n",
       "abraham’s bosom                       1\n",
       "DeFectuoso                            1\n",
       "império jauregui 🏛️                   1\n",
       "between two Great Lakes               1\n",
       "Fresyes, CA                           1\n",
       "Probably somewhere drowning           1\n",
       "TN 🇺🇸🇺🇸🇺🇸🇺🇸🇺🇸🦅🦅🦅                      1\n",
       "Doney Park, AZ                        1\n",
       "beyond the wall                       1\n",
       "BK/BX                                 1\n",
       "Haunted Hills                         1\n",
       "Ms, Tx, Fl                            1\n",
       "Pearl Of The Orient                   1\n",
       "Unfortunately NY                      1\n",
       "Arlington, TN                         1\n",
       "Blue mom and ally stuck in UT         1\n",
       "Madisonville, KY                      1\n",
       "detailsbaejin heart                   1\n",
       "Asia/Europe                           1\n",
       "Wish A Nigga Woods                    1\n",
       "Soufeast, DC                          1\n",
       "Armada, Macomb, MI.                   1\n",
       "Santa Ana , CA                        1\n",
       "Name: location, Length: 33327, dtype: int64"
      ]
     },
     "execution_count": 222,
     "metadata": {},
     "output_type": "execute_result"
    }
   ],
   "source": [
    "df.location.value_counts()"
   ]
  },
  {
   "cell_type": "markdown",
   "metadata": {},
   "source": [
    "### Interpretation:\n",
    "\n",
    "According to the location data, we can notice it is very messy. Some refer to the country, some refer to the state, and some refer to the city. Therefore, we think it is not worth to explore in depth."
   ]
  }
 ],
 "metadata": {
  "kernelspec": {
   "display_name": "Python 3",
   "language": "python",
   "name": "python3"
  },
  "language_info": {
   "codemirror_mode": {
    "name": "ipython",
    "version": 3
   },
   "file_extension": ".py",
   "mimetype": "text/x-python",
   "name": "python",
   "nbconvert_exporter": "python",
   "pygments_lexer": "ipython3",
   "version": "3.7.3"
  }
 },
 "nbformat": 4,
 "nbformat_minor": 2
}
