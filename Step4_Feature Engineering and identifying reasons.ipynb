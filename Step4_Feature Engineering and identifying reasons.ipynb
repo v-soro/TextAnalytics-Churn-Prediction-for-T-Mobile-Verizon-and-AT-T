{
 "cells": [
  {
   "cell_type": "code",
   "execution_count": 1,
   "metadata": {},
   "outputs": [
    {
     "data": {
      "text/plain": [
       "(213859, 4)"
      ]
     },
     "execution_count": 1,
     "metadata": {},
     "output_type": "execute_result"
    }
   ],
   "source": [
    "import pandas as pd\n",
    "df = pd.read_pickle(\"./mobileCarriers.pkl\")\n",
    "df.shape"
   ]
  },
  {
   "cell_type": "code",
   "execution_count": 2,
   "metadata": {
    "scrolled": true
   },
   "outputs": [
    {
     "data": {
      "text/html": [
       "<div>\n",
       "<style scoped>\n",
       "    .dataframe tbody tr th:only-of-type {\n",
       "        vertical-align: middle;\n",
       "    }\n",
       "\n",
       "    .dataframe tbody tr th {\n",
       "        vertical-align: top;\n",
       "    }\n",
       "\n",
       "    .dataframe thead th {\n",
       "        text-align: right;\n",
       "    }\n",
       "</style>\n",
       "<table border=\"1\" class=\"dataframe\">\n",
       "  <thead>\n",
       "    <tr style=\"text-align: right;\">\n",
       "      <th></th>\n",
       "      <th>screen_name</th>\n",
       "      <th>date_time</th>\n",
       "      <th>location</th>\n",
       "      <th>text</th>\n",
       "    </tr>\n",
       "  </thead>\n",
       "  <tbody>\n",
       "    <tr>\n",
       "      <th>0</th>\n",
       "      <td>leila_fong</td>\n",
       "      <td>2019-10-23 23:57:59</td>\n",
       "      <td>Illinois, USA</td>\n",
       "      <td>@ATTHelp I’m blocking, but then they change th...</td>\n",
       "    </tr>\n",
       "  </tbody>\n",
       "</table>\n",
       "</div>"
      ],
      "text/plain": [
       "  screen_name           date_time       location  \\\n",
       "0  leila_fong 2019-10-23 23:57:59  Illinois, USA   \n",
       "\n",
       "                                                text  \n",
       "0  @ATTHelp I’m blocking, but then they change th...  "
      ]
     },
     "execution_count": 2,
     "metadata": {},
     "output_type": "execute_result"
    }
   ],
   "source": [
    "df.head(1)"
   ]
  },
  {
   "cell_type": "code",
   "execution_count": 25,
   "metadata": {},
   "outputs": [],
   "source": [
    "import re\n",
    "from nltk.tokenize import TweetTokenizer\n",
    "from nltk.corpus import stopwords\n",
    "from textblob import TextBlob\n",
    "import time \n",
    "from bs4 import BeautifulSoup\n",
    "import requests\n",
    "\n",
    "tokenizer = TweetTokenizer()"
   ]
  },
  {
   "cell_type": "code",
   "execution_count": 26,
   "metadata": {
    "scrolled": true
   },
   "outputs": [
    {
     "data": {
      "text/plain": [
       "'@ATTHelp I’m blocking, but then they change the number by one digit and then switch to “unknown”.'"
      ]
     },
     "execution_count": 26,
     "metadata": {},
     "output_type": "execute_result"
    }
   ],
   "source": [
    "df.text[0]"
   ]
  },
  {
   "cell_type": "code",
   "execution_count": 29,
   "metadata": {
    "scrolled": true
   },
   "outputs": [
    {
     "name": "stdout",
     "output_type": "stream",
     "text": [
      "Elapsed clock time:  141.04312300682068  seconds\n"
     ]
    }
   ],
   "source": [
    "clf_text = []\n",
    "carrier = []\n",
    "polarity = [0.0]*len(df)\n",
    "subjectivity = [0.5]*len(df)\n",
    "sentiment = [\"\"]*len(df)\n",
    "stop_label = [\"&amp;\", \"&gt;\", \"&lt;\"]\n",
    "\n",
    "att_lis = ['ATT','ATTHelp']\n",
    "ver_lis = ['VerizonSupport','verizon','VZWSupport']\n",
    "tmo_lis = ['TMobile','TMobileHelp']\n",
    "start_time = time.time()\n",
    "for i in df.index:\n",
    "    # tokenized_tweets\n",
    "    tweet = tokenizer.tokenize(df.text[i])\n",
    "    # fetch the full tweet text based on the link provided at the last of the truncated tweet\n",
    "#     if len(tweet[-1]) == 23:\n",
    "#         # if truncated tweet, fetch the full text\n",
    "#         try:\n",
    "#             html=requests.get(tweet[-1]).text\n",
    "#             soup=BeautifulSoup(html,'html.parser')\n",
    "#             title = soup.find_all('title')\n",
    "#             full_text = title[0].string.split('on Twitter: \"')[1]\n",
    "#             tweet = tokenizer.tokenize(full_text)\n",
    "#         except Exception as e:\n",
    "#             print(i, e)\n",
    "    # clean corpus for classification\n",
    "    tlinks = [w for w in tweet if re.search(\"^https:\\w+\", w)]\n",
    "    words = [w.lower() for w in tweet if w not in tlinks and w not in stop_label]\n",
    "    words = [w for w in words if w.isalpha() or 'att' in w or 'verizon' in w or 'tmobile' in w]\n",
    "    clf_text.append(' '.join(words))\n",
    "    \n",
    "    # carrier\n",
    "    screen_name = df.screen_name[i]\n",
    "    current_carrier = []\n",
    "    if 'att' in words or '@att' in words or '@atthelp' in words or screen_name in att_lis:\n",
    "        current_carrier.append('att')\n",
    "    if 'verizon' in words or '@verizon' in words or '@verizonsupport' in words or '@vzwsupport' in words or screen_name in ver_lis:\n",
    "        current_carrier.append('verizon')\n",
    "    if 'tmobile' in words or '@tmobile' in words or '@tmobilehelp' in words or screen_name in tmo_lis:\n",
    "        current_carrier.append('tmobile')\n",
    "    carrier.append(' '.join(current_carrier))\n",
    "\n",
    "    # Sentiment\n",
    "    blob = TextBlob(df.text[i])\n",
    "    polarity[i] = blob.polarity\n",
    "    subjectivity[i] = blob.subjectivity\n",
    "    if polarity[i] > 0.0:\n",
    "        sentiment[i] = \"pos\"\n",
    "    elif polarity[i] < 0.0:\n",
    "        sentiment[i] = \"neg\"\n",
    "    else:\n",
    "        sentiment[i] = \"neu\"\n",
    "        \n",
    "print('Elapsed clock time: ', (time.time() - start_time), ' seconds')"
   ]
  },
  {
   "cell_type": "code",
   "execution_count": 33,
   "metadata": {},
   "outputs": [],
   "source": [
    "df[\"clf_text\"] = clf_text\n",
    "df[\"carrier\"] = carrier\n",
    "df[\"sentiment\"] = sentiment\n",
    "df[\"polarity\"] = polarity\n",
    "df[\"subjectivity\"] = subjectivity"
   ]
  },
  {
   "cell_type": "code",
   "execution_count": 34,
   "metadata": {
    "scrolled": false
   },
   "outputs": [
    {
     "data": {
      "text/plain": [
       "(att                    71816\n",
       " verizon                52901\n",
       "                        51300\n",
       " tmobile                31336\n",
       " att tmobile             2420\n",
       " verizon tmobile         2046\n",
       " att verizon             1392\n",
       " att verizon tmobile      648\n",
       " Name: carrier, dtype: int64, 213859)"
      ]
     },
     "execution_count": 34,
     "metadata": {},
     "output_type": "execute_result"
    }
   ],
   "source": [
    "df.carrier.value_counts(), len(df)"
   ]
  },
  {
   "cell_type": "code",
   "execution_count": 35,
   "metadata": {},
   "outputs": [],
   "source": [
    "# drop duplicates records\n",
    "\n",
    "uniqueDF = df.drop_duplicates(['clf_text'],keep='first',inplace=False)"
   ]
  },
  {
   "cell_type": "code",
   "execution_count": 36,
   "metadata": {},
   "outputs": [
    {
     "data": {
      "text/plain": [
       "97174"
      ]
     },
     "execution_count": 36,
     "metadata": {},
     "output_type": "execute_result"
    }
   ],
   "source": [
    "uniqueDF = uniqueDF[uniqueDF.carrier != '']\n",
    "len(uniqueDF)"
   ]
  },
  {
   "cell_type": "code",
   "execution_count": 37,
   "metadata": {
    "scrolled": true
   },
   "outputs": [
    {
     "data": {
      "text/plain": [
       "att                    36374\n",
       "verizon                35730\n",
       "tmobile                22659\n",
       "verizon tmobile          765\n",
       "att tmobile              739\n",
       "att verizon              712\n",
       "att verizon tmobile      195\n",
       "Name: carrier, dtype: int64"
      ]
     },
     "execution_count": 37,
     "metadata": {},
     "output_type": "execute_result"
    }
   ],
   "source": [
    "uniqueDF.clf_text.value_counts()\n",
    "uniqueDF.carrier.value_counts()"
   ]
  },
  {
   "cell_type": "markdown",
   "metadata": {},
   "source": [
    "### Read clf_text"
   ]
  },
  {
   "cell_type": "code",
   "execution_count": 44,
   "metadata": {
    "scrolled": false
   },
   "outputs": [
    {
     "data": {
      "text/plain": [
       "0    @atthelp i m blocking but then they change the...\n",
       "1    @atthelp just logged into my account and it s ...\n",
       "2    @atthelp can t get my visual voicemail to work...\n",
       "3    @atthelp you were charging me for an outdated ...\n",
       "4    hey leila here to help click here to learn how...\n",
       "Name: clf_text, dtype: object"
      ]
     },
     "execution_count": 44,
     "metadata": {},
     "output_type": "execute_result"
    }
   ],
   "source": [
    "uniqueDF[\"clf_text\"].head()"
   ]
  },
  {
   "cell_type": "code",
   "execution_count": 45,
   "metadata": {
    "scrolled": true
   },
   "outputs": [
    {
     "data": {
      "text/plain": [
       "0    @ATTHelp I’m blocking, but then they change th...\n",
       "1    @ATTHelp Just logged into my account and it’s ...\n",
       "2    @ATTHelp can’t get my Visual Voicemail to work...\n",
       "3    @ATTHelp You were charging me $150 for an outd...\n",
       "4    @leila_fong Hey, Leila, we're here to help. Cl...\n",
       "Name: text, dtype: object"
      ]
     },
     "execution_count": 45,
     "metadata": {},
     "output_type": "execute_result"
    }
   ],
   "source": [
    "uniqueDF[\"text\"].head()"
   ]
  },
  {
   "cell_type": "code",
   "execution_count": 49,
   "metadata": {},
   "outputs": [],
   "source": [
    "att_df = uniqueDF[uniqueDF['carrier']=='att'][['carrier','sentiment','polarity','text','clf_text']]\n",
    "ver_df = uniqueDF[uniqueDF['carrier']=='verizon'][['carrier','sentiment','polarity','text','clf_text']]\n",
    "tmo_df = uniqueDF[uniqueDF['carrier']=='tmobile'][['carrier','sentiment','polarity','text','clf_text']]\n",
    "\n",
    "tmo_att_df = uniqueDF[uniqueDF['carrier']=='att tmobile'][['carrier','sentiment','polarity','text','clf_text']]\n",
    "att_ver_df = uniqueDF[uniqueDF['carrier']=='att verizon'][['carrier','sentiment','polarity','text','clf_text']]\n",
    "tmo_ver_df = uniqueDF[uniqueDF['carrier']=='verizon tmobile'][['carrier','sentiment','polarity','text','clf_text']]\n",
    "\n",
    "tmo_att_ver_df = uniqueDF[uniqueDF['carrier']=='att verizon tmobile'][['carrier','sentiment','polarity','text','clf_text']]"
   ]
  },
  {
   "cell_type": "code",
   "execution_count": 50,
   "metadata": {},
   "outputs": [],
   "source": [
    "# only_att_pos = att_df[att_df['sentiment']=='pos'].sample(25)\n",
    "# only_att_neg = att_df[att_df['sentiment']=='neg'].sample(25)\n",
    "# only_ver_pos = ver_df[ver_df['sentiment']=='pos'].sample(25)\n",
    "# only_ver_neg = ver_df[ver_df['sentiment']=='neg'].sample(25)\n",
    "# only_tmo_pos = tmo_df[tmo_df['sentiment']=='pos'].sample(25)\n",
    "# only_tmo_neg = tmo_df[tmo_df['sentiment']=='neg'].sample(25)\n",
    "\n",
    "# tmo_att = tmo_att_df.sample(50)\n",
    "# att_ver = att_ver_df.sample(50)\n",
    "# tmo_ver = tmo_ver_df.sample(50)\n",
    "\n",
    "# tmo_att_ver = tmo_att_ver_df.sample(50)\n",
    "\n",
    "\n",
    "# clf_corpus = pd.concat([only_att_pos,only_att_neg,only_ver_pos,only_ver_neg,only_tmo_pos,only_tmo_neg,tmo_att,att_ver,tmo_ver,tmo_att_ver] ,ignore_index=False)\n",
    "# clf_corpus.to_csv('clf_corpus1.csv')"
   ]
  },
  {
   "cell_type": "code",
   "execution_count": 52,
   "metadata": {},
   "outputs": [],
   "source": [
    "only_att_pos = att_df[att_df['sentiment']=='pos'][:25]\n",
    "only_att_neg = att_df[att_df['sentiment']=='neg'][:25]\n",
    "only_ver_pos = ver_df[ver_df['sentiment']=='pos'][:25]\n",
    "only_ver_neg = ver_df[ver_df['sentiment']=='neg'][:25]\n",
    "only_tmo_pos = tmo_df[tmo_df['sentiment']=='pos'][:25]\n",
    "only_tmo_neg = tmo_df[tmo_df['sentiment']=='neg'][:25]\n",
    "\n",
    "tmo_att = tmo_att_df[25:50]\n",
    "att_ver = att_ver_df[25:50]\n",
    "tmo_ver = tmo_ver_df[25:50]\n",
    "\n",
    "tmo_att_ver = tmo_att_ver_df[25:50]\n",
    "\n",
    "\n",
    "clf_corpus = pd.concat([only_att_pos,only_att_neg,only_ver_pos,only_ver_neg,only_tmo_pos,only_tmo_neg,tmo_att,att_ver,tmo_ver,tmo_att_ver] ,ignore_index=False)"
   ]
  },
  {
   "cell_type": "code",
   "execution_count": 134,
   "metadata": {},
   "outputs": [],
   "source": [
    "tmo_att = tmo_att_df[75:200]\n",
    "att_ver = att_ver_df[75:200]\n",
    "tmo_ver = tmo_ver_df[75:200]\n",
    "\n",
    "tmo_att_ver = tmo_att_ver_df[75:200]\n",
    "\n",
    "clf_corpus = pd.concat([tmo_att,att_ver,tmo_ver,tmo_att_ver] ,ignore_index=False)"
   ]
  },
  {
   "cell_type": "code",
   "execution_count": 135,
   "metadata": {
    "scrolled": true
   },
   "outputs": [
    {
     "data": {
      "text/plain": [
       "'@JohnLegere @ATT @TMobile Maybe PR should piss or get off the pot !  Become a State or just exist as a 3rd world Carib Island.'"
      ]
     },
     "execution_count": 135,
     "metadata": {},
     "output_type": "execute_result"
    }
   ],
   "source": [
    "# tmo_att.head()\n",
    "tmo_att.iloc[0].text"
   ]
  },
  {
   "cell_type": "code",
   "execution_count": 136,
   "metadata": {
    "scrolled": true
   },
   "outputs": [
    {
     "data": {
      "text/html": [
       "<div>\n",
       "<style scoped>\n",
       "    .dataframe tbody tr th:only-of-type {\n",
       "        vertical-align: middle;\n",
       "    }\n",
       "\n",
       "    .dataframe tbody tr th {\n",
       "        vertical-align: top;\n",
       "    }\n",
       "\n",
       "    .dataframe thead th {\n",
       "        text-align: right;\n",
       "    }\n",
       "</style>\n",
       "<table border=\"1\" class=\"dataframe\">\n",
       "  <thead>\n",
       "    <tr style=\"text-align: right;\">\n",
       "      <th></th>\n",
       "      <th>carrier</th>\n",
       "      <th>sentiment</th>\n",
       "      <th>polarity</th>\n",
       "      <th>text</th>\n",
       "      <th>clf_text</th>\n",
       "    </tr>\n",
       "  </thead>\n",
       "  <tbody>\n",
       "    <tr>\n",
       "      <th>27290</th>\n",
       "      <td>att tmobile</td>\n",
       "      <td>neu</td>\n",
       "      <td>0.000000</td>\n",
       "      <td>@JohnLegere @ATT @TMobile Maybe PR should piss...</td>\n",
       "      <td>@att @tmobile maybe pr should piss or get off ...</td>\n",
       "    </tr>\n",
       "    <tr>\n",
       "      <th>27299</th>\n",
       "      <td>att tmobile</td>\n",
       "      <td>neg</td>\n",
       "      <td>-0.354545</td>\n",
       "      <td>@JohnLegere @ATT @TMobile Anybody give a shit ...</td>\n",
       "      <td>@att @tmobile anybody give a shit about the ne...</td>\n",
       "    </tr>\n",
       "    <tr>\n",
       "      <th>27364</th>\n",
       "      <td>att tmobile</td>\n",
       "      <td>neu</td>\n",
       "      <td>0.000000</td>\n",
       "      <td>@ATT @Prettyymichee @SamirGotti @TMobile would...</td>\n",
       "      <td>@att @tmobile would never</td>\n",
       "    </tr>\n",
       "    <tr>\n",
       "      <th>27461</th>\n",
       "      <td>att tmobile</td>\n",
       "      <td>neg</td>\n",
       "      <td>-0.054545</td>\n",
       "      <td>Love @TMobile services, T-Mobile Tuesday and c...</td>\n",
       "      <td>love @tmobile services tuesday and cheaper pla...</td>\n",
       "    </tr>\n",
       "    <tr>\n",
       "      <th>28139</th>\n",
       "      <td>att tmobile</td>\n",
       "      <td>neu</td>\n",
       "      <td>0.000000</td>\n",
       "      <td>@essayareayaitch Iswitched from ATT to @TMobil...</td>\n",
       "      <td>iswitched from att to @tmobile at chi marathon...</td>\n",
       "    </tr>\n",
       "  </tbody>\n",
       "</table>\n",
       "</div>"
      ],
      "text/plain": [
       "           carrier sentiment  polarity  \\\n",
       "27290  att tmobile       neu  0.000000   \n",
       "27299  att tmobile       neg -0.354545   \n",
       "27364  att tmobile       neu  0.000000   \n",
       "27461  att tmobile       neg -0.054545   \n",
       "28139  att tmobile       neu  0.000000   \n",
       "\n",
       "                                                    text  \\\n",
       "27290  @JohnLegere @ATT @TMobile Maybe PR should piss...   \n",
       "27299  @JohnLegere @ATT @TMobile Anybody give a shit ...   \n",
       "27364  @ATT @Prettyymichee @SamirGotti @TMobile would...   \n",
       "27461  Love @TMobile services, T-Mobile Tuesday and c...   \n",
       "28139  @essayareayaitch Iswitched from ATT to @TMobil...   \n",
       "\n",
       "                                                clf_text  \n",
       "27290  @att @tmobile maybe pr should piss or get off ...  \n",
       "27299  @att @tmobile anybody give a shit about the ne...  \n",
       "27364                          @att @tmobile would never  \n",
       "27461  love @tmobile services tuesday and cheaper pla...  \n",
       "28139  iswitched from att to @tmobile at chi marathon...  "
      ]
     },
     "execution_count": 136,
     "metadata": {},
     "output_type": "execute_result"
    }
   ],
   "source": [
    "clf_corpus.head()"
   ]
  },
  {
   "cell_type": "code",
   "execution_count": 137,
   "metadata": {
    "scrolled": false
   },
   "outputs": [
    {
     "name": "stdout",
     "output_type": "stream",
     "text": [
      "list index out of range 3 Love @TMobile services, T-Mobile Tuesday and cheaper  plan compare to @ATT .  But hate the new iPhone promotions on… https://t.co/rEmCuNFz06\n",
      "list index out of range 52 @ATTHelp @kellylintz It was SUPPOSED to be low cost because we were ATT cell subscribers. TMobile subs got Hulu and… https://t.co/A9XtSa7qkW\n",
      "list index out of range 74 @JohnLegere @ATT @TMobile Sorry John, you’re money is wasted with @jack on @Twitter  I have to block this promoted… https://t.co/RT9Enh0FtJ\n",
      "list index out of range 95 @JasonBoydWrites @VZWSupport @ATT @TMobile I’m literally at work and had to shut my office door bc I almost screame… https://t.co/khzwEunGaY\n",
      "list index out of range 96 @JasonBoydWrites @VZWSupport @ATT @TMobile Yup. It’s their indifference on the phone. The financial services ppl ar… https://t.co/rHD15MPrfW\n",
      "list index out of range 99 @JasonBoydWrites @VZWSupport @ATT @TMobile Serious? I’m gonna look into their plans. Question. What made you switch… https://t.co/Ku6e728Xjn\n",
      "list index out of range 194 RT @dallasnews: .@verizon takes aim at @ATT by offering @Disney’s rival streaming service for free https://t.co/e87zd3mhxH\n",
      "list index out of range 202 Apple iPhone 6 A1549 Unlocked All Colors 64GB 32GB 16GB ATT T-Mobile Verizon Affordable $81.99 https://t.co/rKyQDR7ozp\n",
      "list index out of range 229 .@verizon takes aim at @ATT by offering @Disney’s rival streaming service for free https://t.co/e87zd3mhxH\n",
      "list index out of range 276 @HedgeyeComm @SkylineGrow @TMobile @verizon @disneyplus @netflix @JohnLegere You are helping very much...we are loo… https://t.co/PVck05YWqp\n",
      "list index out of range 295 @HedgeyeComm @SkylineGrow @TMobile @verizon @disneyplus @netflix @JohnLegere Andrew aren't the international market… https://t.co/OicsfYGP90\n",
      "list index out of range 479 well @verizon, you’re officially behind @ATT &amp; @TMobile when it comes to #customerservice. 2 of my friends have rec… https://t.co/6glwpuqA9K\n"
     ]
    }
   ],
   "source": [
    "# clf_corpus\n",
    "# get the full text\n",
    "clf_text = []\n",
    "full_text = []\n",
    "stop_label = [\"&amp;\", \"&gt;\", \"&lt;\"]\n",
    "\n",
    "start_time = time.time()\n",
    "for i in range(len(clf_corpus)):\n",
    "    # tokenized_tweets\n",
    "    text = clf_corpus.iloc[i].text\n",
    "    tweet = tokenizer.tokenize(text)\n",
    "    if len(tweet[-1]) == 23:\n",
    "        # if truncated tweet, fetch the full text based on the link\n",
    "        try:\n",
    "            html=requests.get(tweet[-1]).text\n",
    "            soup=BeautifulSoup(html,'html.parser')\n",
    "            title = soup.find_all('title')\n",
    "            text = title[0].string.split('on Twitter: \"')[1]\n",
    "            tweet = tokenizer.tokenize(text)\n",
    "        except Exception as e:\n",
    "            print(e, i, text)\n",
    "    full_text.append(text)\n",
    "    \n",
    "    # clean corpus for classification\n",
    "    tlinks = [w for w in tweet if re.search(\"^https:\\w+\", w)]\n",
    "    words = [w.lower() for w in tweet if w not in tlinks and w not in stop_label]\n",
    "    words = [w for w in words if w.isalpha() or 'att' in w or 'verizon' in w or 'tmobile' in w]\n",
    "    clf_text.append(' '.join(words))\n",
    "\n",
    "clf_corpus[\"clf_text\"] = clf_text\n",
    "clf_corpus[\"text\"] = full_text"
   ]
  },
  {
   "cell_type": "code",
   "execution_count": 138,
   "metadata": {},
   "outputs": [
    {
     "data": {
      "text/html": [
       "<div>\n",
       "<style scoped>\n",
       "    .dataframe tbody tr th:only-of-type {\n",
       "        vertical-align: middle;\n",
       "    }\n",
       "\n",
       "    .dataframe tbody tr th {\n",
       "        vertical-align: top;\n",
       "    }\n",
       "\n",
       "    .dataframe thead th {\n",
       "        text-align: right;\n",
       "    }\n",
       "</style>\n",
       "<table border=\"1\" class=\"dataframe\">\n",
       "  <thead>\n",
       "    <tr style=\"text-align: right;\">\n",
       "      <th></th>\n",
       "      <th>carrier</th>\n",
       "      <th>sentiment</th>\n",
       "      <th>polarity</th>\n",
       "      <th>text</th>\n",
       "      <th>clf_text</th>\n",
       "    </tr>\n",
       "  </thead>\n",
       "  <tbody>\n",
       "    <tr>\n",
       "      <th>27290</th>\n",
       "      <td>att tmobile</td>\n",
       "      <td>neu</td>\n",
       "      <td>0.000000</td>\n",
       "      <td>@JohnLegere @ATT @TMobile Maybe PR should piss...</td>\n",
       "      <td>@att @tmobile maybe pr should piss or get off ...</td>\n",
       "    </tr>\n",
       "    <tr>\n",
       "      <th>27299</th>\n",
       "      <td>att tmobile</td>\n",
       "      <td>neg</td>\n",
       "      <td>-0.354545</td>\n",
       "      <td>@JohnLegere @ATT @TMobile Anybody give a shit ...</td>\n",
       "      <td>@att @tmobile anybody give a shit about the ne...</td>\n",
       "    </tr>\n",
       "    <tr>\n",
       "      <th>27364</th>\n",
       "      <td>att tmobile</td>\n",
       "      <td>neu</td>\n",
       "      <td>0.000000</td>\n",
       "      <td>@ATT @Prettyymichee @SamirGotti @TMobile would...</td>\n",
       "      <td>@att @tmobile would never</td>\n",
       "    </tr>\n",
       "    <tr>\n",
       "      <th>27461</th>\n",
       "      <td>att tmobile</td>\n",
       "      <td>neg</td>\n",
       "      <td>-0.054545</td>\n",
       "      <td>Love @TMobile services, T-Mobile Tuesday and c...</td>\n",
       "      <td>love @tmobile services tuesday and cheaper pla...</td>\n",
       "    </tr>\n",
       "    <tr>\n",
       "      <th>28139</th>\n",
       "      <td>att tmobile</td>\n",
       "      <td>neu</td>\n",
       "      <td>0.000000</td>\n",
       "      <td>Iswitched from ATT to @TMobile at Chi Marathon...</td>\n",
       "      <td>iswitched from att to @tmobile at chi marathon...</td>\n",
       "    </tr>\n",
       "  </tbody>\n",
       "</table>\n",
       "</div>"
      ],
      "text/plain": [
       "           carrier sentiment  polarity  \\\n",
       "27290  att tmobile       neu  0.000000   \n",
       "27299  att tmobile       neg -0.354545   \n",
       "27364  att tmobile       neu  0.000000   \n",
       "27461  att tmobile       neg -0.054545   \n",
       "28139  att tmobile       neu  0.000000   \n",
       "\n",
       "                                                    text  \\\n",
       "27290  @JohnLegere @ATT @TMobile Maybe PR should piss...   \n",
       "27299  @JohnLegere @ATT @TMobile Anybody give a shit ...   \n",
       "27364  @ATT @Prettyymichee @SamirGotti @TMobile would...   \n",
       "27461  Love @TMobile services, T-Mobile Tuesday and c...   \n",
       "28139  Iswitched from ATT to @TMobile at Chi Marathon...   \n",
       "\n",
       "                                                clf_text  \n",
       "27290  @att @tmobile maybe pr should piss or get off ...  \n",
       "27299  @att @tmobile anybody give a shit about the ne...  \n",
       "27364                          @att @tmobile would never  \n",
       "27461  love @tmobile services tuesday and cheaper pla...  \n",
       "28139  iswitched from att to @tmobile at chi marathon...  "
      ]
     },
     "execution_count": 138,
     "metadata": {},
     "output_type": "execute_result"
    }
   ],
   "source": [
    "clf_corpus.head()"
   ]
  },
  {
   "cell_type": "code",
   "execution_count": 139,
   "metadata": {},
   "outputs": [],
   "source": [
    "clf_corpus.to_csv('new_clf_corpus4.csv')"
   ]
  },
  {
   "cell_type": "markdown",
   "metadata": {},
   "source": [
    "## Rule-based  Feature Engineering"
   ]
  },
  {
   "cell_type": "code",
   "execution_count": 21,
   "metadata": {},
   "outputs": [],
   "source": [
    "tweets_doc =[\n",
    "\"@ATT @TMobile Fix your service in Queens, NY. It’s awful.\",\n",
    "\"She asked me what service I had, and I told her @ATT. She told me that @tmobile was way better and that they had better service in my area 😂😂😂. She went on to tell me that they had true unlimited and that AT&T did not.\",\n",
    "\"@ATT @TMobile What about the VI tho? all cover that or we gotta switch to @sprint\",\n",
    "\"Being a @ATT customer for 10 years and switch to @tmobilepr back in DEC was a bad decision.\",\n",
    "\"@ATT  Dude gotta try TMobile. @TMobileHelp and the Chicago team of experts are amazing. The team of experts anywhere!! And oddly Google too I had a good experience.\",\n",
    "\"The grass isn’t always greener...I miss you @tmobile. Can I come home? I hate it here @att\",\n",
    "\"@ATTHelp @ATT Can you transfer my old tmobile prepaid number to my new phone with AT&amp;T?\",\n",
    "\"@TMobile you have referral program? I'm making it my mission to free people from @ATT and bring them to @JohnLegere and his team!!!\",\n",
    "\"@TMobile @ATT And we Like @tmobilepr\",\n",
    "\"@ATT @TMobile @ATT stinks!\"\n",
    "\"@ATT Come to T Mobile. @TMobile\",\n",
    "\"@TMobile @verizon @sprint Do you suspend your long-standing customers account when they raise an inquiry about strange chargers on their account? Did that with @ATTHelp and they suspend my act instead of looking into my inquiry. Been a month now. How do I switch?\",\n",
    "\"What‚Äôs does @TMobile bring me for Christmas @verizon is giving out Disney+ https://t.co/McMRZJ6LOl\",\n",
    "\"Thinking about switching from @ATT to @sprint or at @TMobile. This decision is harder than I thought lol\"]"
   ]
  },
  {
   "cell_type": "code",
   "execution_count": 4,
   "metadata": {},
   "outputs": [
    {
     "data": {
      "text/plain": [
       "'@ATT @TMobile Fix your service in Queens, NY. It’s awful.'"
      ]
     },
     "execution_count": 4,
     "metadata": {},
     "output_type": "execute_result"
    }
   ],
   "source": [
    "tweet = tweets_doc[0]\n",
    "tweet"
   ]
  },
  {
   "cell_type": "code",
   "execution_count": 5,
   "metadata": {},
   "outputs": [],
   "source": [
    "from textblob import TextBlob"
   ]
  },
  {
   "cell_type": "code",
   "execution_count": 7,
   "metadata": {
    "scrolled": true
   },
   "outputs": [
    {
     "data": {
      "text/plain": [
       "Sentiment(polarity=-1.0, subjectivity=1.0)"
      ]
     },
     "execution_count": 7,
     "metadata": {},
     "output_type": "execute_result"
    }
   ],
   "source": [
    "TextBlob(tweet).sentiment"
   ]
  },
  {
   "cell_type": "code",
   "execution_count": 11,
   "metadata": {
    "scrolled": true
   },
   "outputs": [
    {
     "data": {
      "text/plain": [
       "[('@', 'JJ'),\n",
       " ('ATT', 'NNP'),\n",
       " ('@', 'NNP'),\n",
       " ('TMobile', 'NNP'),\n",
       " ('Fix', 'NNP'),\n",
       " ('your', 'PRP$'),\n",
       " ('service', 'NN'),\n",
       " ('in', 'IN'),\n",
       " ('Queens', 'NNP'),\n",
       " ('NY', 'NNP'),\n",
       " ('It', 'PRP'),\n",
       " ('’', 'VBZ'),\n",
       " ('s', 'JJ'),\n",
       " ('awful', 'NN')]"
      ]
     },
     "execution_count": 11,
     "metadata": {},
     "output_type": "execute_result"
    }
   ],
   "source": [
    "tweet_blob = TextBlob(tweet)\n",
    "tweet_blob.tags"
   ]
  },
  {
   "cell_type": "code",
   "execution_count": 13,
   "metadata": {
    "scrolled": true
   },
   "outputs": [
    {
     "data": {
      "text/plain": [
       "WordList(['att', 'tmobile fix', 'queens', 'ny', '’ s awful'])"
      ]
     },
     "execution_count": 13,
     "metadata": {},
     "output_type": "execute_result"
    }
   ],
   "source": [
    "tweet_blob.noun_phrases"
   ]
  },
  {
   "cell_type": "code",
   "execution_count": 14,
   "metadata": {
    "scrolled": true
   },
   "outputs": [
    {
     "data": {
      "text/plain": [
       "WordList(['ATT', 'TMobile', 'Fix', 'your', 'service', 'in', 'Queens', 'NY', 'It', '’', 's', 'awful'])"
      ]
     },
     "execution_count": 14,
     "metadata": {},
     "output_type": "execute_result"
    }
   ],
   "source": [
    "tweet_blob.words"
   ]
  },
  {
   "cell_type": "code",
   "execution_count": 18,
   "metadata": {},
   "outputs": [
    {
     "data": {
      "text/plain": [
       "[Sentence(\"@ATT @TMobile Fix your service in Queens, NY.\"),\n",
       " Sentence(\"It’s awful.\")]"
      ]
     },
     "execution_count": 18,
     "metadata": {},
     "output_type": "execute_result"
    }
   ],
   "source": [
    "tweet_blob.sentences[0].string\n",
    "tweet_blob.sentences"
   ]
  },
  {
   "cell_type": "code",
   "execution_count": 19,
   "metadata": {},
   "outputs": [
    {
     "data": {
      "text/plain": [
       "'@ATT @TMobile Fix your service in Queens, NY. It’s awful.'"
      ]
     },
     "execution_count": 19,
     "metadata": {},
     "output_type": "execute_result"
    }
   ],
   "source": [
    "tweet"
   ]
  },
  {
   "cell_type": "code",
   "execution_count": 21,
   "metadata": {},
   "outputs": [
    {
     "data": {
      "text/plain": [
       "'ATT TMobile Fix your service in Queens NY It ’ s awful'"
      ]
     },
     "execution_count": 21,
     "metadata": {},
     "output_type": "execute_result"
    }
   ],
   "source": [
    "' '.join(tweet_blob.words)"
   ]
  },
  {
   "cell_type": "code",
   "execution_count": 965,
   "metadata": {
    "scrolled": false
   },
   "outputs": [],
   "source": [
    "# TextBlob(tweet.lower()).tags"
   ]
  },
  {
   "cell_type": "code",
   "execution_count": 38,
   "metadata": {},
   "outputs": [
    {
     "data": {
      "text/plain": [
       "Sentiment(polarity=0.0, subjectivity=0.0)"
      ]
     },
     "execution_count": 38,
     "metadata": {},
     "output_type": "execute_result"
    }
   ],
   "source": [
    "TextBlob(tweet_blob.sentences[0].string).sentiment"
   ]
  },
  {
   "cell_type": "markdown",
   "metadata": {},
   "source": [
    "### Rule-based Algorithm"
   ]
  },
  {
   "cell_type": "code",
   "execution_count": 120,
   "metadata": {},
   "outputs": [],
   "source": [
    "from textblob import TextBlob\n",
    "import re\n",
    "\n",
    "def getSubject(text):\n",
    "#     carrier = ['ATT', 'Verizon', 'TMobile']\n",
    "    # get the Subject of text\n",
    "    subject = []\n",
    "    if re.search(r'\\b[Aa][Tt][Tt]\\S*', text):\n",
    "        subject.append('ATT')\n",
    "    if re.search(r'\\b[Vv][Ee][Rr][Ii][Zz][Oo][Nn]\\S*', text):\n",
    "        subject.append('Verizon')\n",
    "    if re.search(r'\\b[Tt][Mm][Oo][Bb][Ii][Ll][Ee]\\S*', text):\n",
    "        subject.append('TMobile')\n",
    "    return subject\n",
    "\n",
    "\n",
    "def getReason(text):\n",
    "    # get the reason of text\n",
    "    indicator = ['service','better','experts','disney','network','wifi','price','tower','coverage','family']\n",
    "        # Suggestion1: focus on Comparative adj with tagging\n",
    "    # Reason\n",
    "    reason = []\n",
    "    sentences = TextBlob(text).sentences\n",
    "    for s in sentences:\n",
    "        for i in indicator:\n",
    "            if s not in reason and i in s.lower():\n",
    "                reason.append(s.string)\n",
    "    return reason\n",
    "\n",
    "\n",
    "def getChurnCarrier(text):\n",
    "    text = text.replace('&amp;', '')\n",
    "    text = text.replace('T Mobile', 'tmobile')\n",
    "    text = text.replace('and', '.')\n",
    "    text = text.replace(',', '.')\n",
    "    pol = {'other':0}\n",
    "    subjects = getSubject(text)\n",
    "    sentences = TextBlob(text).sentences\n",
    "    for s in sentences:\n",
    "        s = s.string\n",
    "        # clean the sentense\n",
    "        s = re.sub(r'@[Tt][Mm][Oo][Bb][Ii][Ll][Ee]\\S*', \"tmobile\", s)\n",
    "        s = re.sub(r'@JohnLegere\\S*', \"tmobile\", s)\n",
    "        s = re.sub(r'@[Aa][Tt][Tt]\\S*', \"att\", s)\n",
    "        s = re.sub(r'@[Vv][Ee][Rr][Ii][Zz][Oo][Nn]\\S*', \"verizon\", s)\n",
    "        tokens = TextBlob(s.lower()).words\n",
    "\n",
    "        # special rules\n",
    "        # Special Rule 1: switch to...\n",
    "        swObj = re.search(r'\\bswitch\\S*', s, re.I)\n",
    "        trObj = re.search(r'\\btransfer\\S*', s, re.I)\n",
    "        frObj = re.search(r'\\bfree\\S*', s, re.I)\n",
    "        coObj = re.search(r'\\bcome\\S*', s, re.I)\n",
    "        if swObj!=None or trObj!=None or frObj!=None or coObj!=None:\n",
    "            v = 0\n",
    "            counts = 0\n",
    "            for w in tokens:\n",
    "                if w == 'from': v = -0.8; continue\n",
    "                elif w == 'to': v = 0.8; continue\n",
    "                for sub in subjects:\n",
    "                    if sub.lower() == w:\n",
    "                        pol[sub.lower()] = pol.get(sub.lower(), 0) + v\n",
    "                        if v == 0.8:\n",
    "                            counts += 1\n",
    "            if counts == 0:\n",
    "                # when switch to a carrier not belong to the Three\n",
    "                for sub in subjects:\n",
    "                    pol[sub.lower()] = pol.get(sub.lower(), 0) - 0.5\n",
    "            # print(s, '\\nfrom to: ', pol)\n",
    "\n",
    "        # Special Rule 2: Like (Object)\n",
    "        lkObj = re.search(r'\\blike\\S*', s, re.I)\n",
    "        if lkObj:\n",
    "            v = 0\n",
    "            for w in tokens:\n",
    "                if w == 'like': v = 0.5; continue\n",
    "                for sub in subjects:\n",
    "                    if sub.lower() == w:\n",
    "                        pol[sub.lower()] = pol.get(sub.lower(), 0) + v\n",
    "            # print('like', pol)\n",
    "\n",
    "        # Special Rule 3: Disney and Verizon  \n",
    "        veObj = re.search(r'\\bverizon\\S*', s, re.I)\n",
    "        dyObj = re.search(r'\\bdisney\\S*', s, re.I)\n",
    "        if veObj!=None and dyObj!=None:\n",
    "            pol['verizon'] = pol.get('verizon', 0) + 0.5\n",
    "\n",
    "        # sentiment analysis for segament carrier sentence\n",
    "        contain = 0\n",
    "        for sub in subjects:\n",
    "            if sub.lower() in tokens:\n",
    "                count = TextBlob(s).words.count(sub.lower())\n",
    "                pol[sub.lower()] = pol.get(sub.lower(), 0) + count*TextBlob(s).polarity\n",
    "                contain += 1\n",
    "        if contain==0:\n",
    "            pol['other'] += TextBlob(s).polarity\n",
    "        # print(s, '\\nsentiment: ', pol)\n",
    "\n",
    "    # update the sentiment polarity of each carrier\n",
    "    for k,v in pol.items():\n",
    "        if k != 'other':\n",
    "            pol[k] += pol['other']\n",
    "    # print('original: ', pol)\n",
    "\n",
    "    # sort the carrier by the score\n",
    "    scores = []\n",
    "    del pol['other']\n",
    "    for k,v in pol.items():\n",
    "        scores.append((v,k))\n",
    "    scores.sort(reverse=True)\n",
    "    print('scores: ', pol)\n",
    "\n",
    "    # identify how user churn from one carrier to another\n",
    "    from_carrier = []\n",
    "    to_carrier = []\n",
    "    if len(scores)>0:\n",
    "        if scores[0][0] < 0:  # (-1, -2, -3)\n",
    "            for s in scores:\n",
    "                from_carrier.append(s[1])\n",
    "        elif scores[0][0] > 0:  # (2, 1, 0)\n",
    "            to_carrier.append(scores[0][1])\n",
    "            for i in range(1,len(scores)):\n",
    "                from_carrier.append(scores[i][1])\n",
    "        else:  # (0, 0, 0); (0, -1, -2)/(0, 0, -1); \n",
    "            # Highest score is 0\n",
    "            score,_ = zip(*scores)\n",
    "            if sum(score) == 0:\n",
    "                for s in scores:\n",
    "                    from_carrier.append(s[1])\n",
    "            else:\n",
    "                for s in scores:\n",
    "                    if s[0] == 0:\n",
    "                        to_carrier.append(s[1])\n",
    "                    else:\n",
    "                        from_carrier.append(s[1])\n",
    "\n",
    "    # print('Conclusion: Churn from ', from_carrier, ' to ',  to_carrier)\n",
    "    return from_carrier,to_carrier\n",
    "\n",
    "\n",
    "def getChurnAndReason(text):\n",
    "    subject = getSubject(text)\n",
    "    reason = getReason(text)\n",
    "    from_carrier,to_carrier = getChurnCarrier(text)\n",
    "    print(\"Subjects:\", subject)\n",
    "    print(\"Reason:\", reason)\n",
    "    print('Conclusion: Churn from ', from_carrier, ' to ',  to_carrier)\n",
    "    return from_carrier,to_carrier,reason\n",
    "    # improve the reason algorithm: only pick out clause not sentense"
   ]
  },
  {
   "cell_type": "markdown",
   "metadata": {},
   "source": [
    "## 1st tweet -- done -- A (Suggestions), (Comments)"
   ]
  },
  {
   "cell_type": "code",
   "execution_count": 105,
   "metadata": {
    "scrolled": true
   },
   "outputs": [
    {
     "data": {
      "text/plain": [
       "'@ATT @TMobile Fix your service in Queens, NY. It’s awful.'"
      ]
     },
     "execution_count": 105,
     "metadata": {},
     "output_type": "execute_result"
    }
   ],
   "source": [
    "tweets_doc[0]"
   ]
  },
  {
   "cell_type": "code",
   "execution_count": 106,
   "metadata": {
    "scrolled": false
   },
   "outputs": [
    {
     "name": "stdout",
     "output_type": "stream",
     "text": [
      "sorted:  {'att': -1.0, 'tmobile': -1.0}\n",
      "Subjects: ['ATT', 'TMobile']\n",
      "Reason: ['@ATT @TMobile Fix your service in Queens, NY.']\n",
      "Conclusion: Churn from  ['tmobile', 'att']  to  []\n"
     ]
    },
    {
     "data": {
      "text/plain": [
       "(['tmobile', 'att'], [], ['@ATT @TMobile Fix your service in Queens, NY.'])"
      ]
     },
     "execution_count": 106,
     "metadata": {},
     "output_type": "execute_result"
    }
   ],
   "source": [
    "getChurnAndReason(tweets_doc[0])"
   ]
  },
  {
   "cell_type": "markdown",
   "metadata": {},
   "source": [
    "## 2nd tweet -- done -- A is better (comparative adj.)"
   ]
  },
  {
   "cell_type": "code",
   "execution_count": 107,
   "metadata": {
    "scrolled": true
   },
   "outputs": [
    {
     "name": "stdout",
     "output_type": "stream",
     "text": [
      "She asked me what service I had, and I told her @ATT. She told me that @tmobile was way better and that they had better service in my area 😂😂😂. She went on to tell me that they had true unlimited and that AT&T did not.\n"
     ]
    }
   ],
   "source": [
    "tweet2 = tweets_doc[1]; print(tweet2)"
   ]
  },
  {
   "cell_type": "code",
   "execution_count": 108,
   "metadata": {
    "scrolled": true
   },
   "outputs": [
    {
     "name": "stdout",
     "output_type": "stream",
     "text": [
      "sorted:  {'att': 0.85, 'tmobile': 1.35}\n",
      "Subjects: ['ATT', 'TMobile']\n",
      "Reason: ['She asked me what service I had, and I told her @ATT.', 'She told me that @tmobile was way better and that they had better service in my area 😂😂😂.']\n",
      "Conclusion: Churn from  ['att']  to  ['tmobile']\n"
     ]
    },
    {
     "data": {
      "text/plain": [
       "(['att'],\n",
       " ['tmobile'],\n",
       " ['She asked me what service I had, and I told her @ATT.',\n",
       "  'She told me that @tmobile was way better and that they had better service in my area 😂😂😂.'])"
      ]
     },
     "execution_count": 108,
     "metadata": {},
     "output_type": "execute_result"
    }
   ],
   "source": [
    "getChurnAndReason(tweet2) # improve the reason algorithm,"
   ]
  },
  {
   "cell_type": "markdown",
   "metadata": {},
   "source": [
    "## 3rd tweet -- done -- Switch to A"
   ]
  },
  {
   "cell_type": "code",
   "execution_count": 110,
   "metadata": {
    "scrolled": false
   },
   "outputs": [
    {
     "name": "stdout",
     "output_type": "stream",
     "text": [
      "@ATT @TMobile What about the VI tho? all cover that or we gotta switch to @sprint\n"
     ]
    }
   ],
   "source": [
    "tweet3 = tweets_doc[2]; print(tweet3)"
   ]
  },
  {
   "cell_type": "code",
   "execution_count": 111,
   "metadata": {
    "scrolled": false
   },
   "outputs": [
    {
     "name": "stdout",
     "output_type": "stream",
     "text": [
      "sorted:  {'att': -0.5, 'tmobile': -0.5}\n",
      "Subjects: ['ATT', 'TMobile']\n",
      "Reason: []\n",
      "Conclusion: Churn from  ['tmobile', 'att']  to  []\n"
     ]
    },
    {
     "data": {
      "text/plain": [
       "(['tmobile', 'att'], [], [])"
      ]
     },
     "execution_count": 111,
     "metadata": {},
     "output_type": "execute_result"
    }
   ],
   "source": [
    "getChurnAndReason(tweet3) # improve the reason algorithm"
   ]
  },
  {
   "cell_type": "markdown",
   "metadata": {},
   "source": [
    "## 4th tweet -- Unsolved -- Switch to A is a bad decision"
   ]
  },
  {
   "cell_type": "code",
   "execution_count": 1063,
   "metadata": {
    "scrolled": false
   },
   "outputs": [
    {
     "name": "stdout",
     "output_type": "stream",
     "text": [
      "Being a @ATT customer for 10 years and switch to @tmobilepr back in DEC was a bad decision.\n"
     ]
    }
   ],
   "source": [
    "tweet4 = tweets_doc[3]; print(tweet4)"
   ]
  },
  {
   "cell_type": "code",
   "execution_count": 1065,
   "metadata": {
    "scrolled": false
   },
   "outputs": [
    {
     "name": "stdout",
     "output_type": "stream",
     "text": [
      "sorted:  {'att': -0.3499999999999999, 'tmobile': 0.4500000000000001}\n",
      "Subjects: ['ATT', 'TMobile']\n",
      "Reason: []\n",
      "Conclusion: Churn from  ['att']  to  ['tmobile']\n"
     ]
    }
   ],
   "source": [
    "getChurnAndReason(tweet4) # improve the reason algorithm\n",
    "### Wrong! Should churn from 'Tmobile' to ''"
   ]
  },
  {
   "cell_type": "markdown",
   "metadata": {},
   "source": [
    "## 5th tweet -- done -- Try A, A is good"
   ]
  },
  {
   "cell_type": "code",
   "execution_count": 1066,
   "metadata": {
    "scrolled": false
   },
   "outputs": [
    {
     "name": "stdout",
     "output_type": "stream",
     "text": [
      "@ATT  Dude gotta try TMobile. @TMobileHelp and the Chicago team of experts are amazing. The team of experts anywhere!! And oddly Google too I had a good experience.\n"
     ]
    }
   ],
   "source": [
    "tweet5 = tweets_doc[4]; print(tweet5)"
   ]
  },
  {
   "cell_type": "code",
   "execution_count": 1068,
   "metadata": {
    "scrolled": false
   },
   "outputs": [
    {
     "name": "stdout",
     "output_type": "stream",
     "text": [
      "sorted:  {'att': 0.26666666666666666, 'tmobile': 0.8666666666666667}\n",
      "Subjects: ['ATT', 'TMobile']\n",
      "Reason: ['@TMobileHelp and the Chicago team of experts are amazing.', 'The team of experts anywhere!!']\n",
      "Conclusion: Churn from  ['att']  to  ['tmobile']\n"
     ]
    }
   ],
   "source": [
    "getChurnAndReason(tweet5) # improve the reason algorithm"
   ]
  },
  {
   "cell_type": "markdown",
   "metadata": {},
   "source": [
    "## 6th tweet -- done -- I miss A, and hate B"
   ]
  },
  {
   "cell_type": "code",
   "execution_count": 1069,
   "metadata": {
    "scrolled": true
   },
   "outputs": [
    {
     "name": "stdout",
     "output_type": "stream",
     "text": [
      "The grass isn’t always greener...I miss you @tmobile. Can I come home? I hate it here @att\n"
     ]
    }
   ],
   "source": [
    "tweet6 = tweets_doc[5]; print(tweet6)"
   ]
  },
  {
   "cell_type": "code",
   "execution_count": 1070,
   "metadata": {
    "scrolled": false
   },
   "outputs": [
    {
     "name": "stdout",
     "output_type": "stream",
     "text": [
      "sorted:  {'tmobile': -0.5, 'att': -1.3}\n",
      "Subjects: ['ATT', 'TMobile']\n",
      "Reason: []\n",
      "Conclusion: Churn from  ['tmobile', 'att']  to  []\n"
     ]
    }
   ],
   "source": [
    "getChurnAndReason(tweet6) # improve the reason algorithm"
   ]
  },
  {
   "cell_type": "markdown",
   "metadata": {},
   "source": [
    "## 7th tweet -- done -- transfer to A"
   ]
  },
  {
   "cell_type": "code",
   "execution_count": 1071,
   "metadata": {
    "scrolled": true
   },
   "outputs": [
    {
     "name": "stdout",
     "output_type": "stream",
     "text": [
      "@ATTHelp @ATT Can you transfer my old tmobile prepaid number to my new phone with AT&amp;T?\n"
     ]
    }
   ],
   "source": [
    "tweet7 = tweets_doc[6]; print(tweet7)"
   ]
  },
  {
   "cell_type": "code",
   "execution_count": 1072,
   "metadata": {
    "scrolled": false
   },
   "outputs": [
    {
     "name": "stdout",
     "output_type": "stream",
     "text": [
      "sorted:  {'att': 1.1545454545454545, 'tmobile': 0.11818181818181818}\n",
      "Subjects: ['ATT', 'TMobile']\n",
      "Reason: []\n",
      "Conclusion: Churn from  ['tmobile']  to  ['att']\n"
     ]
    }
   ],
   "source": [
    "getChurnAndReason(tweet7) # improve the reason algorithm"
   ]
  },
  {
   "cell_type": "markdown",
   "metadata": {},
   "source": [
    "## 8th tweet -- done -- free people from A to B"
   ]
  },
  {
   "cell_type": "code",
   "execution_count": 971,
   "metadata": {
    "scrolled": false
   },
   "outputs": [
    {
     "name": "stdout",
     "output_type": "stream",
     "text": [
      "@TMobile you have referral program? I'm making it my mission to free people from @ATT and bring them to @JohnLegere and his team!!!\n"
     ]
    }
   ],
   "source": [
    "tweet8 = tweets_doc[7]; print(tweet8)"
   ]
  },
  {
   "cell_type": "code",
   "execution_count": 1073,
   "metadata": {
    "scrolled": true
   },
   "outputs": [
    {
     "name": "stdout",
     "output_type": "stream",
     "text": [
      "sorted:  {'tmobile': 1.425, 'att': -0.17500000000000004}\n",
      "Subjects: ['ATT', 'TMobile']\n",
      "Reason: []\n",
      "Conclusion: Churn from  ['att']  to  ['tmobile']\n"
     ]
    }
   ],
   "source": [
    "getChurnAndReason(tweet8) # improve the reason algorithm"
   ]
  },
  {
   "cell_type": "markdown",
   "metadata": {},
   "source": [
    "## 9th tweet -- done -- A B, we like A"
   ]
  },
  {
   "cell_type": "code",
   "execution_count": 983,
   "metadata": {
    "scrolled": true
   },
   "outputs": [
    {
     "name": "stdout",
     "output_type": "stream",
     "text": [
      "@TMobile @ATT And we Like @tmobilepr\n"
     ]
    }
   ],
   "source": [
    "tweet9 = tweets_doc[8]; print(tweet9)"
   ]
  },
  {
   "cell_type": "code",
   "execution_count": 1074,
   "metadata": {
    "scrolled": true
   },
   "outputs": [
    {
     "name": "stdout",
     "output_type": "stream",
     "text": [
      "sorted:  {'tmobile': 0.5, 'att': 0.0}\n",
      "Subjects: ['ATT', 'TMobile']\n",
      "Reason: []\n",
      "Conclusion: Churn from  ['att']  to  ['tmobile']\n"
     ]
    }
   ],
   "source": [
    "getChurnAndReason(tweet9) # improve the reason algorithm"
   ]
  },
  {
   "cell_type": "markdown",
   "metadata": {},
   "source": [
    "## 10th tweet -- done -- Come to A"
   ]
  },
  {
   "cell_type": "code",
   "execution_count": 133,
   "metadata": {
    "scrolled": true
   },
   "outputs": [
    {
     "name": "stdout",
     "output_type": "stream",
     "text": [
      "@ATT @TMobile @ATT stinks!@ATT Come to T Mobile. @TMobile\n"
     ]
    }
   ],
   "source": [
    "tweet10 = tweets_doc[9]; print(tweet10)"
   ]
  },
  {
   "cell_type": "code",
   "execution_count": 135,
   "metadata": {},
   "outputs": [
    {
     "name": "stdout",
     "output_type": "stream",
     "text": [
      "scores:  {'att': -1.5, 'tmobile': 0.050000000000000044}\n",
      "Subjects: ['ATT', 'TMobile']\n",
      "Reason: []\n",
      "Conclusion: Churn from  ['att']  to  ['tmobile']\n"
     ]
    },
    {
     "data": {
      "text/plain": [
       "(['att'], ['tmobile'], [])"
      ]
     },
     "execution_count": 135,
     "metadata": {},
     "output_type": "execute_result"
    }
   ],
   "source": [
    "getChurnAndReason(tweet10) # improve the reason algorithm"
   ]
  },
  {
   "cell_type": "markdown",
   "metadata": {},
   "source": [
    "## 11th tweet -- Unsolved"
   ]
  },
  {
   "cell_type": "code",
   "execution_count": 1022,
   "metadata": {
    "scrolled": true
   },
   "outputs": [
    {
     "name": "stdout",
     "output_type": "stream",
     "text": [
      "@TMobile @verizon @sprint Do you suspend your long-standing customers account when they raise an inquiry about strange chargers on their account? Did that with @ATTHelp and they suspend my act instead of looking into my inquiry. Been a month now. How do I switch?\n"
     ]
    }
   ],
   "source": [
    "tweet11 = tweets_doc[10]; print(tweet11)"
   ]
  },
  {
   "cell_type": "code",
   "execution_count": 1076,
   "metadata": {
    "scrolled": false
   },
   "outputs": [
    {
     "name": "stdout",
     "output_type": "stream",
     "text": [
      "sorted:  {'verizon': -0.55, 'tmobile': -0.55, 'att': -0.5}\n",
      "Subjects: ['ATT', 'Verizon', 'TMobile']\n",
      "Reason: []\n",
      "Conclusion: Churn from  ['att', 'verizon', 'tmobile']  to  []\n"
     ]
    }
   ],
   "source": [
    "getChurnAndReason(tweet11) # improve the reason algorithm"
   ]
  },
  {
   "cell_type": "markdown",
   "metadata": {},
   "source": [
    "## 12th tweet -- Disney for Verizon"
   ]
  },
  {
   "cell_type": "code",
   "execution_count": 1077,
   "metadata": {
    "scrolled": false
   },
   "outputs": [
    {
     "name": "stdout",
     "output_type": "stream",
     "text": [
      "What‚Äôs does @TMobile bring me for Christmas @verizon is giving out Disney+ https://t.co/McMRZJ6LOl\n"
     ]
    }
   ],
   "source": [
    "tweet12 = tweets_doc[11]; print(tweet12)"
   ]
  },
  {
   "cell_type": "code",
   "execution_count": 1078,
   "metadata": {
    "scrolled": false
   },
   "outputs": [
    {
     "name": "stdout",
     "output_type": "stream",
     "text": [
      "sorted:  {'verizon': 0.5, 'tmobile': 0.0}\n",
      "Subjects: ['Verizon', 'TMobile']\n",
      "Reason: ['What‚Äôs does @TMobile bring me for Christmas @verizon is giving out Disney+ https://t.co/McMRZJ6LOl']\n",
      "Conclusion: Churn from  ['tmobile']  to  ['verizon']\n"
     ]
    }
   ],
   "source": [
    "getChurnAndReason(tweet12) # improve the reason algorithm"
   ]
  },
  {
   "cell_type": "markdown",
   "metadata": {},
   "source": [
    "## 13th tweet -- Unsolved -- Switch to A. This is harder than I thought"
   ]
  },
  {
   "cell_type": "code",
   "execution_count": 1079,
   "metadata": {
    "scrolled": false
   },
   "outputs": [
    {
     "name": "stdout",
     "output_type": "stream",
     "text": [
      "Thinking about switching from @ATT to @sprint or at @TMobile. This decision is harder than I thought lol\n"
     ]
    }
   ],
   "source": [
    "tweet13 = tweets_doc[12]; print(tweet13)"
   ]
  },
  {
   "cell_type": "code",
   "execution_count": 1080,
   "metadata": {},
   "outputs": [
    {
     "name": "stdout",
     "output_type": "stream",
     "text": [
      "sorted:  {'att': -0.45, 'tmobile': 1.1500000000000001}\n",
      "Subjects: ['ATT', 'TMobile']\n",
      "Reason: []\n",
      "Conclusion: Churn from  ['att']  to  ['tmobile']\n"
     ]
    }
   ],
   "source": [
    "getChurnAndReason(tweet13) # improve the reason algorithm"
   ]
  },
  {
   "cell_type": "code",
   "execution_count": null,
   "metadata": {},
   "outputs": [],
   "source": []
  },
  {
   "cell_type": "markdown",
   "metadata": {},
   "source": [
    "# Churn reason detection"
   ]
  },
  {
   "cell_type": "code",
   "execution_count": 88,
   "metadata": {},
   "outputs": [],
   "source": [
    "import pandas as pd\n",
    "\n",
    "churn_labeled = pd.read_csv('labeled/Training data - labels.csv', encoding = \"ISO-8859-1\")"
   ]
  },
  {
   "cell_type": "code",
   "execution_count": 89,
   "metadata": {
    "scrolled": true
   },
   "outputs": [
    {
     "name": "stdout",
     "output_type": "stream",
     "text": [
      "914\n"
     ]
    },
    {
     "data": {
      "text/html": [
       "<div>\n",
       "<style scoped>\n",
       "    .dataframe tbody tr th:only-of-type {\n",
       "        vertical-align: middle;\n",
       "    }\n",
       "\n",
       "    .dataframe tbody tr th {\n",
       "        vertical-align: top;\n",
       "    }\n",
       "\n",
       "    .dataframe thead th {\n",
       "        text-align: right;\n",
       "    }\n",
       "</style>\n",
       "<table border=\"1\" class=\"dataframe\">\n",
       "  <thead>\n",
       "    <tr style=\"text-align: right;\">\n",
       "      <th></th>\n",
       "      <th>Unnamed: 0</th>\n",
       "      <th>carrier</th>\n",
       "      <th>sentiment</th>\n",
       "      <th>polarity</th>\n",
       "      <th>churn_likeliness</th>\n",
       "      <th>text</th>\n",
       "      <th>clf_text</th>\n",
       "    </tr>\n",
       "  </thead>\n",
       "  <tbody>\n",
       "    <tr>\n",
       "      <th>0</th>\n",
       "      <td>2750.0</td>\n",
       "      <td>att tmobile</td>\n",
       "      <td>pos</td>\n",
       "      <td>0.4375</td>\n",
       "      <td>0.0</td>\n",
       "      <td>@NXQJR @TMobile @ATT Glad to hear it's working...</td>\n",
       "      <td>@tmobile @att glad to hear working out for you...</td>\n",
       "    </tr>\n",
       "    <tr>\n",
       "      <th>1</th>\n",
       "      <td>2765.0</td>\n",
       "      <td>att tmobile</td>\n",
       "      <td>neu</td>\n",
       "      <td>0.0000</td>\n",
       "      <td>0.0</td>\n",
       "      <td>@JohnLegere @ATT @TMobile R u a virgin or do y...</td>\n",
       "      <td>@att @tmobile r u a virgin or do you just play...</td>\n",
       "    </tr>\n",
       "    <tr>\n",
       "      <th>2</th>\n",
       "      <td>2804.0</td>\n",
       "      <td>att tmobile</td>\n",
       "      <td>neu</td>\n",
       "      <td>0.0000</td>\n",
       "      <td>1.0</td>\n",
       "      <td>Oh gawd donât do that. They have no tower at...</td>\n",
       "      <td>oh gawd don t do that they have no tower atm n...</td>\n",
       "    </tr>\n",
       "    <tr>\n",
       "      <th>3</th>\n",
       "      <td>2892.0</td>\n",
       "      <td>att tmobile</td>\n",
       "      <td>neu</td>\n",
       "      <td>0.0000</td>\n",
       "      <td>1.0</td>\n",
       "      <td>on the same note my dad switched his phone int...</td>\n",
       "      <td>on the same note my dad switched his phone int...</td>\n",
       "    </tr>\n",
       "    <tr>\n",
       "      <th>4</th>\n",
       "      <td>2897.0</td>\n",
       "      <td>att tmobile</td>\n",
       "      <td>neu</td>\n",
       "      <td>0.0000</td>\n",
       "      <td>1.0</td>\n",
       "      <td>switched to @tmobile from @ATT and I am just b...</td>\n",
       "      <td>switched to @tmobile from @att and i am just b...</td>\n",
       "    </tr>\n",
       "  </tbody>\n",
       "</table>\n",
       "</div>"
      ],
      "text/plain": [
       "   Unnamed: 0      carrier sentiment  polarity  churn_likeliness  \\\n",
       "0      2750.0  att tmobile       pos    0.4375               0.0   \n",
       "1      2765.0  att tmobile       neu    0.0000               0.0   \n",
       "2      2804.0  att tmobile       neu    0.0000               1.0   \n",
       "3      2892.0  att tmobile       neu    0.0000               1.0   \n",
       "4      2897.0  att tmobile       neu    0.0000               1.0   \n",
       "\n",
       "                                                text  \\\n",
       "0  @NXQJR @TMobile @ATT Glad to hear it's working...   \n",
       "1  @JohnLegere @ATT @TMobile R u a virgin or do y...   \n",
       "2  Oh gawd donât do that. They have no tower at...   \n",
       "3  on the same note my dad switched his phone int...   \n",
       "4  switched to @tmobile from @ATT and I am just b...   \n",
       "\n",
       "                                            clf_text  \n",
       "0  @tmobile @att glad to hear working out for you...  \n",
       "1  @att @tmobile r u a virgin or do you just play...  \n",
       "2  oh gawd don t do that they have no tower atm n...  \n",
       "3  on the same note my dad switched his phone int...  \n",
       "4  switched to @tmobile from @att and i am just b...  "
      ]
     },
     "execution_count": 89,
     "metadata": {},
     "output_type": "execute_result"
    }
   ],
   "source": [
    "print(len(churn_labeled))\n",
    "churn_labeled.head()"
   ]
  },
  {
   "cell_type": "code",
   "execution_count": 204,
   "metadata": {},
   "outputs": [
    {
     "data": {
      "text/html": [
       "<div>\n",
       "<style scoped>\n",
       "    .dataframe tbody tr th:only-of-type {\n",
       "        vertical-align: middle;\n",
       "    }\n",
       "\n",
       "    .dataframe tbody tr th {\n",
       "        vertical-align: top;\n",
       "    }\n",
       "\n",
       "    .dataframe thead th {\n",
       "        text-align: right;\n",
       "    }\n",
       "</style>\n",
       "<table border=\"1\" class=\"dataframe\">\n",
       "  <thead>\n",
       "    <tr style=\"text-align: right;\">\n",
       "      <th></th>\n",
       "      <th>clf_text</th>\n",
       "      <th>churn_likeliness</th>\n",
       "    </tr>\n",
       "  </thead>\n",
       "  <tbody>\n",
       "    <tr>\n",
       "      <th>0</th>\n",
       "      <td>@tmobile @att glad to hear working out for you...</td>\n",
       "      <td>0.0</td>\n",
       "    </tr>\n",
       "    <tr>\n",
       "      <th>1</th>\n",
       "      <td>@att @tmobile r u a virgin or do you just play...</td>\n",
       "      <td>0.0</td>\n",
       "    </tr>\n",
       "    <tr>\n",
       "      <th>2</th>\n",
       "      <td>oh gawd don t do that they have no tower atm n...</td>\n",
       "      <td>1.0</td>\n",
       "    </tr>\n",
       "    <tr>\n",
       "      <th>3</th>\n",
       "      <td>on the same note my dad switched his phone int...</td>\n",
       "      <td>1.0</td>\n",
       "    </tr>\n",
       "    <tr>\n",
       "      <th>4</th>\n",
       "      <td>switched to @tmobile from @att and i am just b...</td>\n",
       "      <td>1.0</td>\n",
       "    </tr>\n",
       "    <tr>\n",
       "      <th>5</th>\n",
       "      <td>@att @tmobile the people that the world calls ...</td>\n",
       "      <td>0.0</td>\n",
       "    </tr>\n",
       "    <tr>\n",
       "      <th>6</th>\n",
       "      <td>i switched to tmobile from att last week and i...</td>\n",
       "      <td>1.0</td>\n",
       "    </tr>\n",
       "    <tr>\n",
       "      <th>7</th>\n",
       "      <td>rt customer came in with a samsung galaxy fold...</td>\n",
       "      <td>0.0</td>\n",
       "    </tr>\n",
       "    <tr>\n",
       "      <th>8</th>\n",
       "      <td>not only that but is fully committed to puerto...</td>\n",
       "      <td>0.0</td>\n",
       "    </tr>\n",
       "    <tr>\n",
       "      <th>9</th>\n",
       "      <td>@att @tmobile puerto ricans should boycott at t</td>\n",
       "      <td>1.0</td>\n",
       "    </tr>\n",
       "  </tbody>\n",
       "</table>\n",
       "</div>"
      ],
      "text/plain": [
       "                                            clf_text  churn_likeliness\n",
       "0  @tmobile @att glad to hear working out for you...               0.0\n",
       "1  @att @tmobile r u a virgin or do you just play...               0.0\n",
       "2  oh gawd don t do that they have no tower atm n...               1.0\n",
       "3  on the same note my dad switched his phone int...               1.0\n",
       "4  switched to @tmobile from @att and i am just b...               1.0\n",
       "5  @att @tmobile the people that the world calls ...               0.0\n",
       "6  i switched to tmobile from att last week and i...               1.0\n",
       "7  rt customer came in with a samsung galaxy fold...               0.0\n",
       "8  not only that but is fully committed to puerto...               0.0\n",
       "9    @att @tmobile puerto ricans should boycott at t               1.0"
      ]
     },
     "execution_count": 204,
     "metadata": {},
     "output_type": "execute_result"
    }
   ],
   "source": [
    "# print(churn_labeled)\n",
    "churn_labeled[['clf_text','churn_likeliness']].head(10)"
   ]
  },
  {
   "cell_type": "code",
   "execution_count": 207,
   "metadata": {},
   "outputs": [
    {
     "data": {
      "text/plain": [
       "799"
      ]
     },
     "execution_count": 207,
     "metadata": {},
     "output_type": "execute_result"
    }
   ],
   "source": [
    "len(churn_labeled)"
   ]
  },
  {
   "cell_type": "code",
   "execution_count": 90,
   "metadata": {
    "scrolled": true
   },
   "outputs": [
    {
     "data": {
      "text/plain": [
       "799"
      ]
     },
     "execution_count": 90,
     "metadata": {},
     "output_type": "execute_result"
    }
   ],
   "source": [
    "churn_labeled = churn_labeled.dropna(subset=['churn_likeliness'])\n",
    "len(churn_labeled)"
   ]
  },
  {
   "cell_type": "code",
   "execution_count": 91,
   "metadata": {
    "scrolled": true
   },
   "outputs": [
    {
     "data": {
      "text/plain": [
       "0.0    573\n",
       "1.0    226\n",
       "Name: churn_likeliness, dtype: int64"
      ]
     },
     "execution_count": 91,
     "metadata": {},
     "output_type": "execute_result"
    }
   ],
   "source": [
    "churn_labeled['churn_likeliness'].value_counts()"
   ]
  },
  {
   "cell_type": "code",
   "execution_count": 92,
   "metadata": {},
   "outputs": [
    {
     "data": {
      "text/plain": [
       "att tmobile            78\n",
       "verizon tmobile        59\n",
       "att verizon            50\n",
       "att verizon tmobile    37\n",
       "Name: carrier, dtype: int64"
      ]
     },
     "execution_count": 92,
     "metadata": {},
     "output_type": "execute_result"
    }
   ],
   "source": [
    "churn_tweets = churn_labeled[churn_labeled['churn_likeliness']==1.0]\n",
    "churn_tweets = churn_tweets.dropna(subset=['clf_text'])\n",
    "churn_tweets['carrier'].value_counts()"
   ]
  },
  {
   "cell_type": "code",
   "execution_count": 94,
   "metadata": {
    "scrolled": true
   },
   "outputs": [
    {
     "name": "stdout",
     "output_type": "stream",
     "text": [
      "Oh gawd donât do that. They have no tower atm, no service. Do some research. I just had to go buy a whole new phone n service with @verizonâ¦ https://t.co/TV09VHvrmk\"\n",
      "sorted:  {'verizon': 0.16818181818181818}\n",
      "Subjects: ['Verizon']\n",
      "Reason: ['They have no tower atm, no service.', 'I just had to go buy a whole new phone n service with @verizonâ\\x80¦ https://t.co/TV09VHvrmk\"']\n",
      "Conclusion: Churn from  []  to  ['verizon']\n",
      "\n",
      "on the same note my dad switched his phone into my phone bill and he also had prepaid the following month for service. He was already with @TMobile so they credited the full amount of his bill to my new account. I'm just amazed at the stark customer service difference.â¦ https://t.co/XLYWZjuhQ4\"\n",
      "sorted:  {'tmobile': -0.45681818181818185}\n",
      "Subjects: ['TMobile']\n",
      "Reason: ['on the same note my dad switched his phone into my phone bill and he also had prepaid the following month for service.', 'I\\'m just amazed at the stark customer service difference.â\\x80¦ https://t.co/XLYWZjuhQ4\"']\n",
      "Conclusion: Churn from  ['tmobile']  to  []\n",
      "\n",
      "switched to @tmobile from @ATT and I am just blown away. I made the switch during the beginning of my billing cycle and tmobile gave me an aggressive credit to help ease the cost of the full bill i'd have to pay. I'd never see a credit like that with att\"\n",
      "sorted:  {'tmobile': 0.65, 'att': -0.8}\n",
      "Subjects: ['ATT', 'TMobile']\n",
      "Reason: []\n",
      "Conclusion: Churn from  ['att']  to  ['tmobile']\n",
      "\n",
      "I switched to tmobile from att last week and its not bad so far\n",
      "sorted:  {'tmobile': 0.9500000000000001, 'att': -0.65}\n",
      "Subjects: ['ATT', 'TMobile']\n",
      "Reason: []\n",
      "Conclusion: Churn from  ['att']  to  ['tmobile']\n",
      "\n",
      "@JohnLegere @ATT @TMobile Puerto Ricans should boycott At &amp;T\n",
      "sorted:  {'att': 0.0, 'tmobile': 0.0}\n",
      "Subjects: ['ATT', 'TMobile']\n",
      "Reason: []\n",
      "Conclusion: Churn from  ['tmobile', 'att']  to  []\n",
      "\n",
      "So disappointed I went from @TMobile  to @ATT .  Regret ever switching .\n",
      "sorted:  {'att': -1.25, 'tmobile': -1.25}\n",
      "Subjects: ['ATT', 'TMobile']\n",
      "Reason: []\n",
      "Conclusion: Churn from  ['tmobile', 'att']  to  []\n",
      "\n",
      "The grass isnât always greener ð...I miss yâall @tmobile. Can I come home? I hate it here @att\n",
      "sorted:  {'tmobile': -0.5, 'att': -1.3}\n",
      "Subjects: ['ATT', 'TMobile']\n",
      "Reason: []\n",
      "Conclusion: Churn from  ['tmobile', 'att']  to  []\n",
      "\n",
      "@PopAIertNews @TMobile @ATT Say good bye to your acc\n",
      "sorted:  {'att': 0.7, 'tmobile': 0.7}\n",
      "Subjects: ['ATT', 'TMobile']\n",
      "Reason: []\n",
      "Conclusion: Churn from  ['att']  to  ['tmobile']\n",
      "\n",
      "Expect .â¦@TMobileâ© &  .â¦@ATTâ© to get in on these #streaming discounts as well.            #DisneyPlus #VerizonFree    (.â¦@Varietyâ© ) https://t.co/BGRLfR7ec0\"\n",
      "sorted:  {'verizon': 0.5}\n",
      "Subjects: ['ATT', 'Verizon', 'TMobile']\n",
      "Reason: ['#DisneyPlus #VerizonFree    (.â\\x81¦@Varietyâ\\x81© ) https://t.co/BGRLfR7ec0\"']\n",
      "Conclusion: Churn from  []  to  ['verizon']\n",
      "\n",
      "Theyâre merging so that literally wonât solve your problem. You need to switch to ATT or Verizon. I have ATT and I switched to sprint last year bc it was cheaper, and I ended up switching back a week later. It was AWFUL. Donât do it girl.â¦ https://t.co/dcY9UJxnxP\"\n",
      "sorted:  {'att': -0.7, 'verizon': -0.7}\n",
      "Subjects: ['ATT', 'Verizon']\n",
      "Reason: []\n",
      "Conclusion: Churn from  ['verizon', 'att']  to  []\n",
      "\n",
      "@verizon @VZWSupport how is your coverage at Houston (HOU)? @ATT barely works\n",
      "sorted:  {'verizon': 0.0, 'att': 0.05}\n",
      "Subjects: ['ATT', 'Verizon']\n",
      "Reason: ['@verizon @VZWSupport how is your coverage at Houston (HOU)?']\n",
      "Conclusion: Churn from  ['verizon']  to  ['att']\n",
      "\n",
      "Love the ... I have no responsibility for this thing I obviously signed up for (they have your acct info so you gave it to them) nor am I big boy enough to check on my savings balance in 4 years. So YOU have to change my diaper and take care of my non-adulting ass.â¦ https://t.co/u75gOnqhSy\"\n",
      "sorted:  {}\n",
      "Subjects: []\n",
      "Reason: []\n",
      "Conclusion: Churn from  []  to  []\n",
      "\n",
      "this happened to my dad too. they slid an extra phone line on there and never itemized it as such on the bill UNTIL we switchedâ¦ https://t.co/gacaxrqlsN\"\n",
      "sorted:  {}\n",
      "Subjects: []\n",
      "Reason: []\n",
      "Conclusion: Churn from  []  to  []\n",
      "\n",
      "On the left is @ATT #5GE #faux5G. On the right is @verizon 4G LTE. Case. Closed. #MWC19 #5GBuiltRightâ¦ \"\n",
      "sorted:  {'att': -0.1, 'verizon': 0.1857142857142857}\n",
      "Subjects: ['ATT', 'Verizon']\n",
      "Reason: []\n",
      "Conclusion: Churn from  ['att']  to  ['verizon']\n",
      "\n",
      "@MisterPreda @verizon @ATT I was thinking about switching to Verizon today but we stand in solidarity lol\n",
      "sorted:  {'verizon': 2.4000000000000004, 'att': 0.8}\n",
      "Subjects: ['ATT', 'Verizon']\n",
      "Reason: []\n",
      "Conclusion: Churn from  ['att']  to  ['verizon']\n",
      "\n",
      "@ATT so @verizon is giving away a free year of @disneyplus on top of their already free subscription to @AppleMusic... & @Spotify is giving away free @google home minis... where are our perks?!? ð\"\n",
      "sorted:  {'att': -0.04999999999999999, 'verizon': 0.45}\n",
      "Subjects: ['ATT', 'Verizon']\n",
      "Reason: ['@ATT so @verizon is giving away a free year of @disneyplus on top of their already free subscription to @AppleMusic... & @Spotify is giving away free @google home minis... where are our perks?!?']\n",
      "Conclusion: Churn from  ['att']  to  ['verizon']\n",
      "\n",
      "@MisterPreda @verizon @ATT wow, if you didn't miss 100 bucks a month you have a bad accountant.\n",
      "sorted:  {'att': -0.29999999999999993, 'verizon': -0.29999999999999993}\n",
      "Subjects: ['ATT', 'Verizon']\n",
      "Reason: []\n",
      "Conclusion: Churn from  ['verizon', 'att']  to  []\n",
      "\n",
      "Take it to court!!! Get a lawyer!!! Thats thousands of dollars not rightfully taken... theft... excursion I think. Either way itâs not legal. So you need to sue. No way you wonât win.â¦ https://t.co/p9wMUJgZLb\"\n",
      "sorted:  {}\n",
      "Subjects: []\n",
      "Reason: []\n",
      "Conclusion: Churn from  []  to  []\n",
      "\n",
      "Verizon or Tmobile?\n",
      "sorted:  {'verizon': 0.0, 'tmobile': 0.0}\n",
      "Subjects: ['Verizon', 'TMobile']\n",
      "Reason: []\n",
      "Conclusion: Churn from  ['verizon', 'tmobile']  to  []\n",
      "\n",
      ".@verizon got Disney Plus for one year free?\n",
      "\n",
      "Your move @TMobileâ¦ \"\n",
      "sorted:  {'verizon': 0.4, 'tmobile': -0.5}\n",
      "Subjects: ['Verizon', 'TMobile']\n",
      "Reason: ['@verizon got Disney Plus for one year free?']\n",
      "Conclusion: Churn from  ['tmobile']  to  ['verizon']\n",
      "\n",
      "@JohnLegere @piratesbooty @verizon So how do I take you up on this bet?? because Pirate booty is Meh.. and I have Tmobile??\n",
      "sorted:  {'verizon': 0.0, 'tmobile': 0.0}\n",
      "Subjects: ['Verizon', 'TMobile']\n",
      "Reason: []\n",
      "Conclusion: Churn from  ['verizon', 'tmobile']  to  []\n",
      "\n",
      "@JohnLegere @piratesbooty @verizon If I love @piratesbooty and switched from @Verizon to @TMobile, does that mean I get $200?  ððð\n",
      "sorted:  {'tmobile': 0.9875, 'verizon': -0.6125}\n",
      "Subjects: ['Verizon', 'TMobile']\n",
      "Reason: []\n",
      "Conclusion: Churn from  ['verizon']  to  ['tmobile']\n",
      "\n",
      "@JohnLegere @oneplus @TMobile Nice, we just switched a few weeks ago from @verizon I couldnât be happier\n",
      "sorted:  {'tmobile': -0.10000000000000003, 'verizon': -1.1}\n",
      "Subjects: ['Verizon', 'TMobile']\n",
      "Reason: []\n",
      "Conclusion: Churn from  ['tmobile', 'verizon']  to  []\n",
      "\n",
      "....believe in #Magenta, but over the course of almost 3 years @TMobile screwed me more than I can or am willing to Express into words. Have a nice day.â¦ https://t.co/zZXGiOFJLK\"\n",
      "sorted:  {'tmobile': 0.975}\n",
      "Subjects: ['TMobile']\n",
      "Reason: []\n",
      "Conclusion: Churn from  []  to  ['tmobile']\n",
      "\n",
      "Ok now this just may make me want to switch from @verizon  !â¦ \"\n",
      "sorted:  {'verizon': -0.675}\n",
      "Subjects: ['Verizon']\n",
      "Reason: []\n",
      "Conclusion: Churn from  ['verizon']  to  []\n",
      "\n",
      "@JohnLegere @piratesbooty @verizon I'd use TMobile but they have no coverage in my area\n",
      "sorted:  {'verizon': 0.0, 'tmobile': 0.0}\n",
      "Subjects: ['Verizon', 'TMobile']\n",
      "Reason: [\"@JohnLegere @piratesbooty @verizon I'd use TMobile but they have no coverage in my area\"]\n",
      "Conclusion: Churn from  ['verizon', 'tmobile']  to  []\n",
      "\n",
      "Iâmhaving the same problem man. But mine is Verizon. Does that mean I canât take it to my carrier unless I get rid of the carrier that is locked to?â¦ https://t.co/cA2bsgxWYp\"\n",
      "sorted:  {'verizon': -0.3125}\n",
      "Subjects: ['Verizon']\n",
      "Reason: []\n",
      "Conclusion: Churn from  ['verizon']  to  []\n",
      "\n",
      "Yup Iâm switching to Tmobile or verizon. Att pissed me off today\n",
      "sorted:  {'tmobile': 0.8, 'verizon': 0.8, 'att': 0.0}\n",
      "Subjects: ['ATT', 'Verizon', 'TMobile']\n",
      "Reason: []\n",
      "Conclusion: Churn from  ['tmobile', 'att']  to  ['verizon']\n",
      "\n",
      "@ATTHelp @verizon @VZWSupport @TMobile @TMobileHelp @sprintcare @sprint  @marceloclaure  all of you guys have the worst Data Service in Bakersfield CA I go see a friend on Ellensport Way 93313 all bad Data barley get 2mb please fix\"\n",
      "sorted:  {'att': -0.8499999999999999, 'verizon': -0.8499999999999999, 'tmobile': -1.6999999999999997}\n",
      "Subjects: ['ATT', 'Verizon', 'TMobile']\n",
      "Reason: ['@ATTHelp @verizon @VZWSupport @TMobile @TMobileHelp @sprintcare @sprint  @marceloclaure  all of you guys have the worst Data Service in Bakersfield CA I go see a friend on Ellensport Way 93313 all bad Data barley get 2mb please fix\"']\n",
      "Conclusion: Churn from  ['verizon', 'att', 'tmobile']  to  []\n",
      "\n",
      "Letâs be real. If they had any intentions of âfixingâ it it would be done already. Theyâre a huge company with the means to do so. This map has looked like this for 5 days that Iâm aware of. Do yourself a favor and get a new service elsewhere so you have a phoneâ¦ https://t.co/lG61YLKgCc\"\n",
      "sorted:  {}\n",
      "Subjects: []\n",
      "Reason: ['Do yourself a favor and get a new service elsewhere so you have a phoneâ\\x80¦ https://t.co/lG61YLKgCc\"']\n",
      "Conclusion: Churn from  []  to  []\n",
      "\n",
      "@plp1460 @SievertMike @Quibi @TMobile @JohnLegere @TMobileHelp @ATT @verizon @FCC Been down for days, literally.\n",
      "sorted:  {'att': -0.15555555555555559, 'verizon': -0.15555555555555559, 'tmobile': -0.4666666666666668}\n",
      "Subjects: ['ATT', 'Verizon', 'TMobile']\n",
      "Reason: []\n",
      "Conclusion: Churn from  ['verizon', 'att', 'tmobile']  to  []\n",
      "\n",
      "All I can say is ATT is trash and Verizon is overpriced. I switched back to Sprint and it works for me in my area. I had considered T-mobile once and it was kind of a hassle just thinking of switching (losing numbers, etc) so I stuck with Sprint. Iâm satisfied.â¦ https://t.co/euso1jQVkb\"\n",
      "sorted:  {'att': -0.4, 'verizon': -0.4}\n",
      "Subjects: ['ATT', 'Verizon']\n",
      "Reason: ['All I can say is ATT is trash and Verizon is overpriced.']\n",
      "Conclusion: Churn from  ['verizon', 'att']  to  []\n",
      "\n",
      "@milkshakeyshae_ @TMobile Att or Verizon\n",
      "sorted:  {'att': 0.0, 'verizon': 0.0, 'tmobile': 0.0}\n",
      "Subjects: ['ATT', 'Verizon', 'TMobile']\n",
      "Reason: []\n",
      "Conclusion: Churn from  ['verizon', 'tmobile', 'att']  to  []\n",
      "\n",
      "So between tmobile, verizon, and Att.... which do yall think is the best?\n",
      "sorted:  {'att': 1.0, 'verizon': 1.0, 'tmobile': 1.0}\n",
      "Subjects: ['ATT', 'Verizon', 'TMobile']\n",
      "Reason: []\n",
      "Conclusion: Churn from  ['tmobile', 'att']  to  ['verizon']\n",
      "\n",
      "@ATT @TMobile @verizon @sprint you're all greedy fucks\n",
      "sorted:  {'att': 0.0, 'verizon': 0.0, 'tmobile': 0.0}\n",
      "Subjects: ['ATT', 'Verizon', 'TMobile']\n",
      "Reason: []\n",
      "Conclusion: Churn from  ['verizon', 'tmobile', 'att']  to  []\n",
      "\n",
      "@ATTHelp @TMobile @verizon Can't even load Instagram comments.... This is actually ridiculous for an unlimited data plan..\n",
      "sorted:  {'att': -0.3333333333333333, 'verizon': -0.3333333333333333, 'tmobile': -0.3333333333333333}\n",
      "Subjects: ['ATT', 'Verizon', 'TMobile']\n",
      "Reason: []\n",
      "Conclusion: Churn from  ['verizon', 'tmobile', 'att']  to  []\n",
      "\n",
      "RT @ludzchoi: ðð» ð awesome to see my Store getting â¤ï¸ ð COME BY Plaza Bonita @TMobile anytime!!! We â¤ï¸ to switch over all @verizon &amp; @ATT câ¦\n",
      "sorted:  {'tmobile': 1.8, 'verizon': 0.8, 'att': 0.8}\n",
      "Subjects: ['ATT', 'Verizon', 'TMobile']\n",
      "Reason: []\n",
      "Conclusion: Churn from  ['verizon', 'att']  to  ['tmobile']\n",
      "\n",
      "RT @ddlc4life247: @TMobile @ATT @verizon IF YOUR IN WEST TEXAS.  VERIZON SUCKS BALLS!!!!  THEY HAVE FAILED TO FULFILL AND ASSIST IN ANY RESâ¦\n",
      "sorted:  {'att': -0.5, 'verizon': -1.232421875, 'tmobile': -0.5}\n",
      "Subjects: ['ATT', 'Verizon', 'TMobile']\n",
      "Reason: []\n",
      "Conclusion: Churn from  ['tmobile', 'att', 'verizon']  to  []\n",
      "\n",
      "RT @JohnLegere: Way to abandon people, @ATT!! @TMobile is FULLY committed to Puerto Rico! Our 600 MHz is on pace to blanket the island andâ¦\n",
      "sorted:  {'att': 0.0, 'tmobile': 0.0}\n",
      "Subjects: ['ATT', 'TMobile']\n",
      "Reason: []\n",
      "Conclusion: Churn from  ['tmobile', 'att']  to  []\n",
      "\n",
      "switching to TMobile since the new apple software is NOT compatible with ATT and all my voicemails are gone and I am unable to get any voicemails for days.  Terrible!â¦ https://t.co/iNCzLwO0lz\"\n",
      "sorted:  {'tmobile': 0.6181818181818182, 'att': 0.6181818181818182}\n",
      "Subjects: ['ATT', 'TMobile']\n",
      "Reason: []\n",
      "Conclusion: Churn from  ['att']  to  ['tmobile']\n",
      "\n",
      "MerylHathaway TMobile ATT Woohoo!!! Welcome to TMobile! https://t.co/sbC8i1k2fc #TecnologÃ­a\n",
      "sorted:  {'att': 0.0, 'tmobile': 1.0}\n",
      "Subjects: ['ATT', 'TMobile']\n",
      "Reason: []\n",
      "Conclusion: Churn from  ['att']  to  ['tmobile']\n",
      "\n",
      "Woohoo!!! Welcome to @TMobile!â¦ \"\n",
      "sorted:  {'tmobile': 0.8}\n",
      "Subjects: ['TMobile']\n",
      "Reason: []\n",
      "Conclusion: Churn from  []  to  ['tmobile']\n",
      "\n",
      "@NXQJR @JohnLegere @TMobile @ATT Come on over welcome to the TMobile family\n",
      "sorted:  {'tmobile': 3.2, 'att': 0.8}\n",
      "Subjects: ['ATT', 'TMobile']\n",
      "Reason: ['@NXQJR @JohnLegere @TMobile @ATT Come on over welcome to the TMobile family']\n",
      "Conclusion: Churn from  ['att']  to  ['tmobile']\n",
      "\n",
      "@cjviscito @EKeratsis @ATT @TMobile I was thinking of changing. This is pretty bad.\n",
      "sorted:  {'att': -0.22499999999999992, 'tmobile': -0.22499999999999992}\n",
      "Subjects: ['ATT', 'TMobile']\n",
      "Reason: []\n",
      "Conclusion: Churn from  ['tmobile', 'att']  to  []\n",
      "\n",
      "@cjviscito @jasoncrouch @ATT @TMobile Iâm so frustrated. Itâs abhorrent customer âservice.â\n",
      "sorted:  {'att': -1.4, 'tmobile': -1.4}\n",
      "Subjects: ['ATT', 'TMobile']\n",
      "Reason: ['Itâ\\x80\\x99s abhorrent customer â\\x80\\x9cservice.â\\x80\\x9d']\n",
      "Conclusion: Churn from  ['tmobile', 'att']  to  []\n",
      "\n",
      "Guess itâs time to consider jumping to @TMobile since @ATT canât figure out 1990âs technology or even respond to customers anymore.â¦ https://t.co/tCaLEbmveM\"\n",
      "sorted:  {'att': 0.0, 'tmobile': 0.0}\n",
      "Subjects: ['ATT', 'TMobile']\n",
      "Reason: []\n",
      "Conclusion: Churn from  ['tmobile', 'att']  to  []\n",
      "\n",
      "Hey I have a 7 pro and waiting on my Sim card for tmobile. Switching from the awful att...wanna make my experience even better and trade me my less than one month old 7 Pro for that beautiful McLaren 7T Pro? Doesn't hurt to ask, can only be told no. @TMobileâ¦ https://t.co/rKrEvpnVSy\"\n",
      "sorted:  {'tmobile': -0.5, 'att': -1.2433333333333334}\n",
      "Subjects: ['ATT', 'TMobile']\n",
      "Reason: ['Switching from the awful att...wanna make my experience even better and trade me my less than one month old 7 Pro for that beautiful McLaren 7T Pro?']\n",
      "Conclusion: Churn from  ['tmobile', 'att']  to  []\n",
      "\n",
      "@ATTHelp Want to convince me to switch from Verizon? They have been underserving my location for years\n",
      "sorted:  {'att': -0.5, 'verizon': -1.3}\n",
      "Subjects: ['ATT', 'Verizon']\n",
      "Reason: []\n",
      "Conclusion: Churn from  ['att', 'verizon']  to  []\n",
      "\n",
      "@Verizon never properly hooked up our landline (this was years ago) so incoming calls wouldn't connect. They would NOT do anything to fix it, so we stopped paying it... they shut off our cellphones instead. We're with @TMobile now, best service where I'm \n",
      "sorted:  {'verizon': 0.0, 'tmobile': 1.0}\n",
      "Subjects: ['Verizon', 'TMobile']\n",
      "Reason: [\"We're with @TMobile now, best service where I'm\"]\n",
      "Conclusion: Churn from  ['verizon']  to  ['tmobile']\n",
      "\n",
      "@verizon literally has the worst customer service.  They once sold me a defective phone and REFUSED to replace it because I couldn't prove that THEY SOLD IT TO ME that way. Switched to @TMobile and have been happy ever since.â¦ https://t.co/SC0bS7YWbJ\"\n",
      "sorted:  {'verizon': -1.0, 'tmobile': 1.6}\n",
      "Subjects: ['Verizon', 'TMobile']\n",
      "Reason: ['@verizon literally has the worst customer service.']\n",
      "Conclusion: Churn from  ['verizon']  to  ['tmobile']\n",
      "\n",
      "They tried this with me! I almost joined them after leaving @sprint but never went through the whole acct process, never had a phone/line set up and they kept charging me until finally I called and demanded answers. It took weeks to get it taken care of. Thank god for @TMobile!â¦ https://t.co/9gJRpyjqsr\"\n",
      "sorted:  {'tmobile': 0.1}\n",
      "Subjects: ['TMobile']\n",
      "Reason: []\n",
      "Conclusion: Churn from  []  to  ['tmobile']\n",
      "\n",
      "Thinking about changing to @ATT from @VerizonSupport, so would you recommend them? Iâm feed up with scam artist @VerizonSupportâ¦ https://t.co/QP8JwctMyr\"\n",
      "sorted:  {'att': 0.0, 'verizon': 0.0}\n",
      "Subjects: ['ATT', 'Verizon']\n",
      "Reason: []\n",
      "Conclusion: Churn from  ['verizon', 'att']  to  []\n",
      "\n",
      "@ATT changing to @verizon  as I type this !!! I need VOICEMAIL !!\n",
      "sorted:  {'att': 0.0, 'verizon': 0.0}\n",
      "Subjects: ['ATT', 'Verizon']\n",
      "Reason: []\n",
      "Conclusion: Churn from  ['verizon', 'att']  to  []\n",
      "\n",
      "Having @ATT worst service for 11 months I switch to @verizon and have had the best service.  Today I see a Verizon store opened next to AT&T abd even VERIZION store is nicer.â¦ https://t.co/g6TBTQhq1o\"\n",
      "sorted:  {'att': 0.0, 'verizon': 0.8}\n",
      "Subjects: ['ATT', 'Verizon']\n",
      "Reason: ['Having @ATT worst service for 11 months I switch to @verizon and have had the best service.']\n",
      "Conclusion: Churn from  ['att']  to  ['verizon']\n",
      "\n",
      "i have comcast internet and they suck ass. ATT fiber and Verizon will not provide service to my house and it is literally in the downtown of the 10th largest city in USA. what do you say about comcast's monopoly and are you for deprivatizing essential utilities? (also PG&E lol)â¦ https://t.co/lxuTucfuvW\"\n",
      "sorted:  {'att': 0.0, 'verizon': 0.0}\n",
      "Subjects: ['ATT', 'Verizon']\n",
      "Reason: ['ATT fiber and Verizon will not provide service to my house and it is literally in the downtown of the 10th largest city in USA.']\n",
      "Conclusion: Churn from  ['verizon', 'att']  to  []\n",
      "\n",
      "Yo @verizon @ATT @Cricketnation anyone wanna buy out my contract with @sprintcare? Theyâre doing me dirty over and over and I want out ASAP.\n",
      "sorted:  {'att': -0.6, 'verizon': -0.6}\n",
      "Subjects: ['ATT', 'Verizon']\n",
      "Reason: []\n",
      "Conclusion: Churn from  ['verizon', 'att']  to  []\n",
      "\n",
      "@TMobile @verizon @sprint Do you suspend your long-standing customers account when they raise an inquiry about strange chargers on their account? Did that with @ATTHelp and they suspend my act instead of looking into my inquiry. Been a month now. How do I\n",
      "sorted:  {'verizon': -0.05, 'tmobile': -0.05, 'att': 0.0}\n",
      "Subjects: ['ATT', 'Verizon', 'TMobile']\n",
      "Reason: []\n",
      "Conclusion: Churn from  ['verizon', 'tmobile']  to  ['att']\n",
      "\n",
      "@JohnLegere @piratesbooty @verizon I just switched to TMobile and don't eat these.... I'm offended ð¤£ð­\n",
      "sorted:  {'tmobile': 0.8, 'verizon': 0.0}\n",
      "Subjects: ['Verizon', 'TMobile']\n",
      "Reason: []\n",
      "Conclusion: Churn from  ['verizon']  to  ['tmobile']\n",
      "\n",
      "@JohnLegere - I use @verizon and I use a ton of data over LTE (+35GBs/month)... if I switched to @TMobile would I still be throttled when thereâs ânetwork congestion?â\"\n",
      "sorted:  {'tmobile': 0.8, 'verizon': 0.0}\n",
      "Subjects: ['Verizon', 'TMobile']\n",
      "Reason: ['@JohnLegere - I use @verizon and I use a ton of data over LTE (+35GBs/month)... if I switched to @TMobile would I still be throttled when thereâ\\x80\\x99s â\\x80\\x9cnetwork congestion?â\\x80\\x9d\"']\n",
      "Conclusion: Churn from  ['verizon']  to  ['tmobile']\n",
      "\n",
      "@JohnLegere @piratesbooty @verizon Nope I've got @TMobile! Now give me my money. You know what just apply it to my account.\n",
      "sorted:  {'verizon': 0.0, 'tmobile': 0.0}\n",
      "Subjects: ['Verizon', 'TMobile']\n",
      "Reason: []\n",
      "Conclusion: Churn from  ['verizon', 'tmobile']  to  []\n",
      "\n",
      "@JohnLegere @piratesbooty @verizon Glad to take the $100.. don't like 'em and got @TMobile ð\n",
      "sorted:  {'tmobile': 1.5, 'verizon': 0.5}\n",
      "Subjects: ['Verizon', 'TMobile']\n",
      "Reason: []\n",
      "Conclusion: Churn from  ['verizon']  to  ['tmobile']\n",
      "\n",
      "@TheGoodLife_32 @TMobile @verizon Verizon sucks\n",
      "sorted:  {'verizon': -0.6, 'tmobile': -0.3}\n",
      "Subjects: ['Verizon', 'TMobile']\n",
      "Reason: []\n",
      "Conclusion: Churn from  ['tmobile', 'verizon']  to  []\n",
      "\n",
      "Why tf dont i have service in romulus smh im finna go back to verizon tmobile so ass\n",
      "sorted:  {'verizon': 0.0, 'tmobile': 0.0}\n",
      "Subjects: ['Verizon', 'TMobile']\n",
      "Reason: ['Why tf dont i have service in romulus smh im finna go back to verizon tmobile so ass']\n",
      "Conclusion: Churn from  ['verizon', 'tmobile']  to  []\n",
      "\n",
      "apparently tmobile bought sprint? from what my dad told me but yeah im considering going to verizon bc it doesnt make sense for me to be in an actual city and not have cell service randomlyâ¦ https://t.co/sCjC2k33mg\"\n",
      "sorted:  {'tmobile': 0.05, 'verizon': 0.0}\n",
      "Subjects: ['Verizon', 'TMobile']\n",
      "Reason: ['from what my dad told me but yeah im considering going to verizon bc it doesnt make sense for me to be in an actual city and not have cell service randomlyâ\\x80¦ https://t.co/sCjC2k33mg\"']\n",
      "Conclusion: Churn from  ['verizon']  to  ['tmobile']\n",
      "\n",
      "@JohnLegere @piratesbooty @verizon Looks like you owe me $100, not a fan, but I am on @TMobile\n",
      "sorted:  {'tmobile': 0.5, 'verizon': 0.0}\n",
      "Subjects: ['Verizon', 'TMobile']\n",
      "Reason: []\n",
      "Conclusion: Churn from  ['verizon']  to  ['tmobile']\n",
      "\n",
      "@JohnLegere @piratesbooty @verizon No.    I love those and I use Tmobile.  You lost!!    ð¤£ð¤£\n",
      "sorted:  {'verizon': 0.0, 'tmobile': 0.5}\n",
      "Subjects: ['Verizon', 'TMobile']\n",
      "Reason: []\n",
      "Conclusion: Churn from  ['verizon']  to  ['tmobile']\n",
      "\n",
      "Oh wait Verizon already did that, since they over charge their customers, they can afford the cheaper streaming service to give to them ðâ¦ https://t.co/a0LJkDpMxt\"\n",
      "sorted:  {'verizon': 0.0}\n",
      "Subjects: ['Verizon']\n",
      "Reason: ['Oh wait Verizon already did that, since they over charge their customers, they can afford the cheaper streaming service to give to them ð\\x9f\\x98\\x82â\\x80¦ https://t.co/a0LJkDpMxt\"']\n",
      "Conclusion: Churn from  ['verizon']  to  []\n",
      "\n",
      "You lose! Ill take that $100. Cashapp $BLew1926 . Also, I love TMobile. Ya'll the real deal. Been a customer for about 9 years nowâ¦ https://t.co/HazCnLFhjj\"\n",
      "sorted:  {'tmobile': 0.2}\n",
      "Subjects: ['TMobile']\n",
      "Reason: []\n",
      "Conclusion: Churn from  []  to  ['tmobile']\n",
      "\n",
      "@TMobile @TMobileHelp YOUR SERVICE IS ð©ð©ð© AF Iâm Going To @verizon\n",
      "sorted:  {'verizon': 0.0, 'tmobile': 0.0}\n",
      "Subjects: ['Verizon', 'TMobile']\n",
      "Reason: ['@TMobile @TMobileHelp YOUR SERVICE IS ð\\x9f\\x92©ð\\x9f\\x92©ð\\x9f\\x92© AF Iâ\\x80\\x99m Going To @verizon']\n",
      "Conclusion: Churn from  ['verizon', 'tmobile']  to  []\n",
      "\n",
      "@JohnLegere @piratesbooty @verizon I don't love Pirate's Booty, but I love @TMobile I look forward to my $100.\n",
      "sorted:  {'verizon': 0.5, 'tmobile': 1.0}\n",
      "Subjects: ['Verizon', 'TMobile']\n",
      "Reason: []\n",
      "Conclusion: Churn from  ['verizon']  to  ['tmobile']\n",
      "\n",
      "@JohnLegere @piratesbooty @verizon You lose, I don't love it. I have @TMobile\n"
     ]
    },
    {
     "name": "stdout",
     "output_type": "stream",
     "text": [
      "sorted:  {'verizon': 0.5, 'tmobile': 0.5}\n",
      "Subjects: ['Verizon', 'TMobile']\n",
      "Reason: []\n",
      "Conclusion: Churn from  ['tmobile']  to  ['verizon']\n",
      "\n",
      "@TMobile will you take me back? @verizon is playing games.\n",
      "#givememyrebateandstopplaying!â¦ \"\n",
      "sorted:  {'tmobile': 0.0, 'verizon': 0.0}\n",
      "Subjects: ['Verizon', 'TMobile']\n",
      "Reason: []\n",
      "Conclusion: Churn from  ['verizon', 'tmobile']  to  []\n",
      "\n",
      "@PeteLau @oneplus @TMobile Please bring it to Verizon wireless\n",
      "sorted:  {'verizon': 0.0, 'tmobile': 0.0}\n",
      "Subjects: ['Verizon', 'TMobile']\n",
      "Reason: []\n",
      "Conclusion: Churn from  ['verizon', 'tmobile']  to  []\n",
      "\n",
      "No service in the Lincoln Tunnel with @ATT Wonder if I had @verizon or @TMobileâ¦ \"\n",
      "sorted:  {'att': 0.0, 'verizon': 0.0, 'tmobile': 0.0}\n",
      "Subjects: ['ATT', 'Verizon', 'TMobile']\n",
      "Reason: ['No service in the Lincoln Tunnel with @ATT Wonder if I had @verizon or @TMobileâ\\x80¦ \"']\n",
      "Conclusion: Churn from  ['verizon', 'tmobile', 'att']  to  []\n",
      "\n",
      "7 lines of service at Sprint. Which cannot refund me a 150 mandatory carrier down payment. Whoâs up for grabs. @verizon @ATT @TMobile\n",
      "sorted:  {'att': -0.15555555555555559, 'verizon': -0.15555555555555559, 'tmobile': -0.15555555555555559}\n",
      "Subjects: ['ATT', 'Verizon', 'TMobile']\n",
      "Reason: ['7 lines of service at Sprint.']\n",
      "Conclusion: Churn from  ['verizon', 'tmobile', 'att']  to  []\n",
      "\n",
      "Verizon is a scam. overpriced and trash. PERIOD. iâm with tmobile. but tbh wish i was with att overall better service.â¦ https://t.co/nbicUjcIKc\"\n",
      "sorted:  {'verizon': 0.0, 'tmobile': 0.0, 'att': 0.25}\n",
      "Subjects: ['ATT', 'Verizon', 'TMobile']\n",
      "Reason: ['overpriced and trash.', 'but tbh wish i was with att overall better service.â\\x80¦ https://t.co/nbicUjcIKc\"']\n",
      "Conclusion: Churn from  ['verizon', 'tmobile']  to  ['att']\n",
      "\n",
      "So @TMobile gives it's customers free Netflix, @verizon is giving their customers a year of @disneyplus , and @ATT gives me what???\n",
      "sorted:  {'tmobile': -0.09999999999999998, 'verizon': 0.4, 'att': -0.09999999999999998}\n",
      "Subjects: ['ATT', 'Verizon', 'TMobile']\n",
      "Reason: [\"So @TMobile gives it's customers free Netflix, @verizon is giving their customers a year of @disneyplus , and @ATT gives me what??\"]\n",
      "Conclusion: Churn from  ['tmobile', 'att']  to  ['verizon']\n",
      "\n",
      "@ATT Are you serious???, so now you send me a message to chat about this, and the person on the other end has absolutely no idea what's going on????? @verizon @TMobile I'm counting the seconds till I can get away from this madness.â¦ https://t.co/2dKqKwm\n",
      "sorted:  {'att': -0.4458333333333333, 'verizon': -0.1125, 'tmobile': -0.1125}\n",
      "Subjects: ['ATT', 'Verizon', 'TMobile']\n",
      "Reason: []\n",
      "Conclusion: Churn from  ['verizon', 'tmobile', 'att']  to  []\n",
      "\n",
      "@JohnLegere and @TMobile looking to switch carriers after being with Verizon for YEARS! What makes T-Mobile better than @Sprint or @ATT?\n",
      "sorted:  {'tmobile': 0.0, 'verizon': 0.8, 'att': 0.5}\n",
      "Subjects: ['ATT', 'Verizon', 'TMobile']\n",
      "Reason: ['What makes T-Mobile better than @Sprint or @ATT?']\n",
      "Conclusion: Churn from  ['att', 'tmobile']  to  ['verizon']\n",
      "\n",
      "@TMobile @sprint @ATT @verizon  WHO WANTS ME I HAVE MY ACCOUNT NUMBER READY\n",
      "sorted:  {'att': 0.2, 'verizon': 0.2, 'tmobile': 0.2}\n",
      "Subjects: ['ATT', 'Verizon', 'TMobile']\n",
      "Reason: []\n",
      "Conclusion: Churn from  ['tmobile', 'att']  to  ['verizon']\n",
      "\n",
      "@TMobile @JohnLegere @sprint @verizon @ATT  whatâs up with @sprintcarw treating a long time customer like absolute fucking crap iâm trying to get an issue resolved and it seems like sprint doesnât care about customer retention only customer aqquisit\n",
      "sorted:  {'tmobile': -0.325, 'verizon': -0.1625, 'att': -0.1625}\n",
      "Subjects: ['ATT', 'Verizon', 'TMobile']\n",
      "Reason: []\n",
      "Conclusion: Churn from  ['verizon', 'att', 'tmobile']  to  []\n",
      "\n",
      "@Sprint @TMobile @verizon @ATT  I am a Sprint customer..... i just paid off my current device and i was trying to lease my device and now for some odd reason @sprintcare has told me i donât qualify. My credit score is well above 700 and i donât qualif\n",
      "sorted:  {'att': -0.08333333333333333, 'verizon': -0.08333333333333333, 'tmobile': -0.08333333333333333}\n",
      "Subjects: ['ATT', 'Verizon', 'TMobile']\n",
      "Reason: []\n",
      "Conclusion: Churn from  ['verizon', 'tmobile', 'att']  to  []\n",
      "\n",
      "@SosaIsMine EVER. I couldnât dare be a boost mobile ass nigga. I need ATT or Verizon or TMobile towers plz n thx that sprint boost shit dead\n",
      "sorted:  {'att': -0.2, 'verizon': -0.2, 'tmobile': -0.2}\n",
      "Subjects: ['ATT', 'Verizon', 'TMobile']\n",
      "Reason: ['I need ATT or Verizon or TMobile towers plz n thx that sprint boost shit dead']\n",
      "Conclusion: Churn from  ['verizon', 'tmobile', 'att']  to  []\n",
      "\n",
      "@ATT you guys are disgrace very bad, @TMobile is far better in customer service than you. @ATT  charged for the phone suppose to  be free, they  put me on call for more than an hour cant solve the issue disconnected and they didn't even call back and keep\n",
      "sorted:  {'att': -0.3033333333333333, 'tmobile': -0.6033333333333333}\n",
      "Subjects: ['ATT', 'TMobile']\n",
      "Reason: ['@ATT you guys are disgrace very bad, @TMobile is far better in customer service than you.']\n",
      "Conclusion: Churn from  ['att', 'tmobile']  to  []\n",
      "\n",
      "@ATT what offers do you have for people switching from @TMobile ... unfortunately after 17 years it is time to leave @JohnLegere ...there offers are all setup to gain customers not to retain them.\"\n",
      "sorted:  {'att': -0.10000000000000002, 'tmobile': -0.20000000000000004}\n",
      "Subjects: ['ATT', 'TMobile']\n",
      "Reason: []\n",
      "Conclusion: Churn from  ['att', 'tmobile']  to  []\n",
      "\n",
      "Yeah stick with @ATT or go to @Verizon from experience and current customer you dont want the hassle being with them. Just got signed another 2 year contract like a idiot and was advised by store rep. a $30 difference then what my bill actually is. They have so many hidden feesâ¦ https://t.co/OYozYUVoF5\"\n",
      "sorted:  {'att': -0.23333333333333334, 'verizon': -0.23333333333333334}\n",
      "Subjects: ['ATT', 'Verizon']\n",
      "Reason: []\n",
      "Conclusion: Churn from  ['verizon', 'att']  to  []\n",
      "\n",
      "I hate Verizon so much. The worst in everything! Used too have them yrs ago. I said bye bitch & took myseft to MetroPCS.â¦ https://t.co/Tnm0PNSnU9\"\n",
      "sorted:  {'verizon': -1.3}\n",
      "Subjects: ['Verizon']\n",
      "Reason: []\n",
      "Conclusion: Churn from  ['verizon']  to  []\n",
      "\n",
      "@MisterPreda @verizon @ATT Verizon fucking sucks and are way too overpriced\n",
      "sorted:  {'att': -0.3, 'verizon': -0.6}\n",
      "Subjects: ['ATT', 'Verizon']\n",
      "Reason: ['@MisterPreda @verizon @ATT Verizon fucking sucks and are way too overpriced']\n",
      "Conclusion: Churn from  ['att', 'verizon']  to  []\n",
      "\n",
      "@MattRetroYT Go to Verizon bro. I just switched from ATT\n",
      "sorted:  {'verizon': -0.5, 'att': -1.3}\n",
      "Subjects: ['ATT', 'Verizon']\n",
      "Reason: []\n",
      "Conclusion: Churn from  ['verizon', 'att']  to  []\n",
      "\n",
      "The cheek of them, I'd sue the hell out of them for not giving you a refund back and I'm sure they have broken laws too xâ¦ https://t.co/fkdJ42bhJ5\"\n",
      "sorted:  {}\n",
      "Subjects: []\n",
      "Reason: []\n",
      "Conclusion: Churn from  []  to  []\n",
      "\n",
      "@MisterPreda @verizon @ATT Please sue them\n",
      "sorted:  {'att': 0.0, 'verizon': 0.0}\n",
      "Subjects: ['ATT', 'Verizon']\n",
      "Reason: []\n",
      "Conclusion: Churn from  ['verizon', 'att']  to  []\n",
      "\n",
      "don't know as I have ever tried it but it looks disgusting and I am a TMobile customer for many years, so there.â¦ https://t.co/sMgtYyJR0u\"\n",
      "sorted:  {'tmobile': -0.25}\n",
      "Subjects: ['TMobile']\n",
      "Reason: []\n",
      "Conclusion: Churn from  ['tmobile']  to  []\n",
      "\n",
      "@JohnLegere I got to of my employees to leave @verizon and switch to @TMobile\n",
      "sorted:  {'tmobile': 0.8, 'verizon': 0.8}\n",
      "Subjects: ['Verizon', 'TMobile']\n",
      "Reason: []\n",
      "Conclusion: Churn from  ['tmobile']  to  ['verizon']\n",
      "\n",
      "@ronald_809_ @NevilleRay @JohnLegere @TMobile Thatâs nothing campared to Verizonâs speed.\n",
      "sorted:  {'tmobile': 0.0}\n",
      "Subjects: ['Verizon', 'TMobile']\n",
      "Reason: []\n",
      "Conclusion: Churn from  ['tmobile']  to  []\n",
      "\n",
      "@JohnLegere @ihadztotweet @piratesbooty @verizon Haha! I donât like it &amp; actually with @TMobile !!\n",
      "sorted:  {'verizon': 0.25, 'tmobile': 0.75}\n",
      "Subjects: ['Verizon', 'TMobile']\n",
      "Reason: []\n",
      "Conclusion: Churn from  ['verizon']  to  ['tmobile']\n",
      "\n",
      "Hey @JohnLegere  sorry but Iâm on @TMobile and I donât like @piratesbooty.  Used to be on @verizon and I still didnât like it then.â¦ https://t.co/EjmIfwV69u\"\n",
      "sorted:  {'tmobile': -1.0, 'verizon': 0.0}\n",
      "Subjects: ['Verizon', 'TMobile']\n",
      "Reason: []\n",
      "Conclusion: Churn from  ['tmobile']  to  ['verizon']\n",
      "\n",
      "I never got the reimbursement for leaving Verizon to join you guys so who knows if Iâd ever even see a paycheckâ¦ https://t.co/lXrePC64Ry\"\n",
      "sorted:  {'verizon': 0.0}\n",
      "Subjects: ['Verizon']\n",
      "Reason: []\n",
      "Conclusion: Churn from  ['verizon']  to  []\n",
      "\n",
      "Switching to @Verizon was one of the worst mistakes I made in 2019 ð¤¬ð¤¬ð¤¬ð¤¬. I hope @Tmobile isnât too mad.\n",
      "sorted:  {'verizon': -0.19999999999999996, 'tmobile': -0.625}\n",
      "Subjects: ['Verizon', 'TMobile']\n",
      "Reason: []\n",
      "Conclusion: Churn from  ['verizon', 'tmobile']  to  []\n",
      "\n",
      "Alex, if Tmobile Service in your area is inadequate, consider Verizon. I would just hate to see anyone get sucked into the vortex of garbage customer service that is @ATT. Hands down the worst customer service in the industry.â¦ https://t.co/G1DQNMMvou\"\n",
      "sorted:  {'verizon': -0.5777777777777778, 'tmobile': -0.5777777777777778, 'att': -1.3777777777777778}\n",
      "Subjects: ['ATT', 'Verizon', 'TMobile']\n",
      "Reason: ['Alex, if Tmobile Service in your area is inadequate, consider Verizon.', 'I would just hate to see anyone get sucked into the vortex of garbage customer service that is @ATT.', 'Hands down the worst customer service in the industry.â\\x80¦ https://t.co/G1DQNMMvou\"']\n",
      "Conclusion: Churn from  ['verizon', 'tmobile', 'att']  to  []\n",
      "\n",
      "RT @hawkeyeinmd: @judytoxic @TMobile @verizon I left the Big Red Devil a few year ago for @ATT and absolutely love them. Saving money everyâ¦\n",
      "sorted:  {'att': 0.06, 'verizon': 0.06, 'tmobile': 0.06}\n",
      "Subjects: ['ATT', 'Verizon', 'TMobile']\n",
      "Reason: []\n",
      "Conclusion: Churn from  ['tmobile', 'att']  to  ['verizon']\n",
      "\n",
      "@ATT , what are you going to do about Zucker and @CNN ? Do we have to switch to @verizon , @sprint or @TMobile to get your attention? Or maybe @Xfinity ?\"\n",
      "sorted:  {'att': 0.0, 'verizon': 0.8, 'tmobile': 0.8}\n",
      "Subjects: ['ATT', 'Verizon', 'TMobile']\n",
      "Reason: []\n",
      "Conclusion: Churn from  ['tmobile', 'att']  to  ['verizon']\n",
      "\n",
      "I left the Big Red Devil a few year ago for @ATT and absolutely love them. Saving money every month and actually have better coverage now/â¦ https://t.co/hA36Wv0utk\"\n",
      "sorted:  {'att': 0.31}\n",
      "Subjects: ['ATT']\n",
      "Reason: ['Saving money every month and actually have better coverage now/â\\x80¦ https://t.co/hA36Wv0utk\"']\n",
      "Conclusion: Churn from  []  to  ['att']\n",
      "\n",
      "@TMobile I LOVE YOU @verizon sucks and they lie also @ATT  and I hope that the merger is a success\n",
      "sorted:  {'att': 0.16666666666666666, 'verizon': 0.16666666666666666, 'tmobile': 0.16666666666666666}\n",
      "Subjects: ['ATT', 'Verizon', 'TMobile']\n",
      "Reason: []\n",
      "Conclusion: Churn from  ['tmobile', 'att']  to  ['verizon']\n",
      "\n",
      "Sprint HQ is in my city and I will never ever use their service. It is the worst, especially around their campus (ironically). Glad to know their customer service matches the cellular service.â¦ https://t.co/Sz7XHvPYue\"\n",
      "sorted:  {}\n",
      "Subjects: []\n",
      "Reason: ['Sprint HQ is in my city and I will never ever use their service.', 'Glad to know their customer service matches the cellular service.â\\x80¦ https://t.co/Sz7XHvPYue\"']\n",
      "Conclusion: Churn from  []  to  []\n",
      "\n",
      "RT @DavidLalone78: @blueoysterdvp @verizon @ATT @TMobile @sprint I think after my phones and shit are paid off, I might try @ATT Wireless\n",
      "sorted:  {'att': -0.4, 'verizon': -0.2, 'tmobile': -0.2}\n",
      "Subjects: ['ATT', 'Verizon', 'TMobile']\n",
      "Reason: []\n",
      "Conclusion: Churn from  ['verizon', 'tmobile', 'att']  to  []\n",
      "\n",
      "Iswitched from ATT to @TMobile at Chi Marathon expo. Got a credit that basically made the 11 free (trading in my 6s). Love the new phone, turned off the creepy face-unlock function. Love that my bill went down! #TmobileMagMile had concierge service. @JohnLegere should be proud!É https://t.co/62LF0u4e3m\"\n",
      "sorted:  {'att': 0.09823232323232323, 'tmobile': 0.09823232323232323}\n",
      "Subjects: ['ATT', 'TMobile']\n",
      "Reason: ['#TmobileMagMile had concierge service.']\n",
      "Conclusion: Churn from  ['att']  to  ['tmobile']\n",
      "\n",
      "RT @lizzyborden42: Hey @ATT IÕm currently with @TMobile, have about 10 lines. Do you all cover switching companies? Also are you able to poÉ\n",
      "sorted:  {'att': 0.0, 'tmobile': 0.0}\n",
      "Subjects: ['ATT', 'TMobile']\n",
      "Reason: []\n",
      "Conclusion: Churn from  ['tmobile', 'att']  to  []\n",
      "\n",
      "@ATTHelp Update itÕs been an hour! Still on hold shouldÕve stayed my ass with @TMobile\n",
      "sorted:  {'att': 0.0, 'tmobile': 0.0}\n",
      "Subjects: ['ATT', 'TMobile']\n",
      "Reason: []\n",
      "Conclusion: Churn from  ['tmobile', 'att']  to  []\n",
      "\n",
      "@ATTHelp is really testing my patience.Ê\n",
      "sorted:  {'att': 0.2}\n",
      "Subjects: ['ATT']\n",
      "Reason: []\n",
      "Conclusion: Churn from  []  to  ['att']\n",
      "\n",
      "@JohnLegere. This was all day yesterday.Ê\n",
      "sorted:  {}\n",
      "Subjects: []\n",
      "Reason: []\n",
      "Conclusion: Churn from  []  to  []\n",
      "\n",
      "@mr_iguy @TMobile @ATT Don't get ATT if you use voicemail. #ATTserverOutage since early October.\n",
      "sorted:  {'att': 0.1, 'tmobile': 0.1}\n",
      "Subjects: ['ATT', 'TMobile']\n",
      "Reason: []\n",
      "Conclusion: Churn from  ['att']  to  ['tmobile']\n",
      "\n",
      "How to fix @CNN.Ê Go to your nearest @ATT store and tell them you are switching to @TMobile or some other cell phone company.Ê If we all do it that will send them a message.\"\n",
      "sorted:  {'att': 0.675, 'tmobile': 0.675}\n",
      "Subjects: ['ATT', 'TMobile']\n",
      "Reason: []\n",
      "Conclusion: Churn from  ['att']  to  ['tmobile']\n",
      "\n",
      "Trying to decide who I should give my business too @TMobile or @ATTÊ for my business cellphone and tablet #tmobile or #att who do I go with ? Who is gonna give me the best deal upfront ?\"\n",
      "sorted:  {'att': 1.0, 'tmobile': 1.0}\n",
      "Subjects: ['ATT', 'TMobile']\n",
      "Reason: []\n",
      "Conclusion: Churn from  ['att']  to  ['tmobile']\n",
      "\n",
      "@TMobile Service for my area sucks Back to @ATT for there service is way better!\n",
      "sorted:  {'att': 0.10833333333333334, 'tmobile': 0.10833333333333334}\n",
      "Subjects: ['ATT', 'TMobile']\n",
      "Reason: ['@TMobile Service for my area sucks Back to @ATT for there service is way better!']\n",
      "Conclusion: Churn from  ['att']  to  ['tmobile']\n",
      "\n",
      "@AndyAmez89 @ATT *AT&amp;T has left the chat*\n",
      "sorted:  {'att': 0.0}\n",
      "Subjects: ['ATT']\n",
      "Reason: []\n",
      "Conclusion: Churn from  ['att']  to  []\n",
      "\n",
      "@TMobile you guys are liarsssss I am@posting all the chats where you guys have lied. @ATT here we come.\n",
      "sorted:  {'tmobile': -0.5, 'att': -0.5}\n",
      "Subjects: ['ATT', 'TMobile']\n",
      "Reason: []\n",
      "Conclusion: Churn from  ['tmobile', 'att']  to  []\n",
      "\n",
      "@JohnLegere @TMobile I watch you every Sunday. I feel like I should leave ATT abs switch toÊ\n",
      "sorted:  {'tmobile': -0.5, 'att': 0.0}\n",
      "Subjects: ['ATT', 'TMobile']\n",
      "Reason: []\n",
      "Conclusion: Churn from  ['tmobile']  to  ['att']\n",
      "\n",
      "Think Im done with @sprint __________ @ATT @TMobile ____\n",
      "sorted:  {'att': 0.0, 'tmobile': 0.0}\n",
      "Subjects: ['ATT', 'TMobile']\n",
      "Reason: []\n",
      "Conclusion: Churn from  ['tmobile', 'att']  to  []\n",
      "\n",
      "@ATTHelp So I switched my service to @TMobileHelp in June.Ê I was told that once we coordinate porting our numbers our AT&T billing will cease. WRONG! Despite calling 3 separate times to confirm my AT&T service cancellation, I just received a $700 bill.Ê \n",
      "sorted:  {'att': -0.625, 'tmobile': 0.17500000000000004}\n",
      "Subjects: ['ATT', 'TMobile']\n",
      "Reason: ['@ATTHelp So I switched my service to @TMobileHelp in June.Ê I was told that once we coordinate porting our numbers our AT&T billing will cease.', 'Despite calling 3 separate times to confirm my AT&T service cancellation, I just received a $700 bill.Ê']\n",
      "Conclusion: Churn from  ['att']  to  ['tmobile']\n",
      "\n",
      "Save yourself the headaches Jenna. @ATT is ranked dead last in customer service for a reason. Just peruse their twitter handle. Garbage company. If you have to try someone else other than @TMobile, pay a few dollars more for @verizon. ItÕs worth it. @ATTHelp really is that bad.É https://t.co/p7epycCIVW\"\n",
      "sorted:  {'att': 0.4, 'verizon': 0.35833333333333334, 'tmobile': 0.35833333333333334}\n",
      "Subjects: ['ATT', 'Verizon', 'TMobile']\n",
      "Reason: ['@ATT is ranked dead last in customer service for a reason.']\n",
      "Conclusion: Churn from  ['verizon', 'tmobile']  to  ['att']\n",
      "\n",
      "AT&T is an evil empire. Their business practices are corrupt, and they have no conscience or ethics. It's amazing that anyone still uses their services. Time to switch if you haven't had to already. Highly recommended to drop them.É https://t.co/Kjq6LKI20J\"\n",
      "sorted:  {}\n",
      "Subjects: []\n",
      "Reason: [\"It's amazing that anyone still uses their services.\"]\n",
      "Conclusion: Churn from  []  to  []\n",
      "\n",
      "@JohnLegere @TMobile @ATT. John is the slow cooker done.? I'm still waiting. Barbs gone for the day. She promised to let me know when the system was fixed. Almost 10 hrs now. #slowcookersunday why did I switch to @TMobile 4 yrs ago? WOW. Worse than the ca\n",
      "sorted:  {'att': -0.5, 'tmobile': 0.30000000000000004}\n",
      "Subjects: ['ATT', 'TMobile']\n",
      "Reason: []\n",
      "Conclusion: Churn from  ['att']  to  ['tmobile']\n",
      "\n",
      "@TMobile YÕall need to get me off this att plan and give me that new iPhone 11.\n",
      "sorted:  {'att': 0.13636363636363635, 'tmobile': 0.13636363636363635}\n",
      "Subjects: ['ATT', 'TMobile']\n",
      "Reason: []\n",
      "Conclusion: Churn from  ['att']  to  ['tmobile']\n",
      "\n",
      "@att I need some information about my trade in value if I become a customer and what are the deals. IÕm currently with @TMobile\n",
      "sorted:  {'att': 0.0, 'tmobile': 0.0}\n",
      "Subjects: ['ATT', 'TMobile']\n",
      "Reason: []\n",
      "Conclusion: Churn from  ['tmobile', 'att']  to  []\n",
      "\n",
      "@JohnLegere @ATT @TMobile ATT is Trash if you live in NYC\n",
      "sorted:  {'att': 0.2727272727272727, 'tmobile': 0.2727272727272727}\n",
      "Subjects: ['ATT', 'TMobile']\n",
      "Reason: []\n",
      "Conclusion: Churn from  ['att']  to  ['tmobile']\n",
      "\n",
      "@CordCuttersNews @TMobile T-Mobile is going to be worst than att TV now or Directvnow. Their price start at about $90\n",
      "sorted:  {'att': -1.0, 'tmobile': -1.0}\n",
      "Subjects: ['ATT', 'TMobile']\n",
      "Reason: ['Their price start at about $90']\n",
      "Conclusion: Churn from  ['tmobile', 'att']  to  []\n",
      "\n",
      "IÕve been trying @TMobile in #Chicago. A great alternative to bad speeds of @ATT. I wish #TMobile offered @netflix perks to single lines. @JohnLegere make it happen!\"\n",
      "sorted:  {'tmobile': -0.07142857142857142, 'att': 0.0500000000000001}\n",
      "Subjects: ['ATT', 'TMobile']\n",
      "Reason: []\n",
      "Conclusion: Churn from  ['tmobile']  to  ['att']\n",
      "\n",
      "Thanks T-Mobile, itÕs taken @ATT weeks to respond with no prevail... parent have been customers since 1998, guess that doesnÕt matter these days.É https://t.co/wT8pufaM88\"\n",
      "sorted:  {'att': 0.2}\n",
      "Subjects: ['ATT']\n",
      "Reason: []\n",
      "Conclusion: Churn from  []  to  ['att']\n",
      "\n",
      "Nope @ATT is wayy faster than when I had @TMobileÉ \"\n",
      "sorted:  {'att': 0.0, 'tmobile': 0.0}\n",
      "Subjects: ['ATT', 'TMobile']\n",
      "Reason: []\n",
      "Conclusion: Churn from  ['tmobile', 'att']  to  []\n",
      "\n",
      "As soon as I get my price gouging email IÕm canceling my att now account! So glad I dropped you guys for T-Mobile! @ATT @ATTHelpÉ https://t.co/BLwezxlN0r\"\n",
      "sorted:  {'att': 0.625}\n",
      "Subjects: ['ATT']\n",
      "Reason: ['As soon as I get my price gouging email IÕm canceling my att now account!']\n",
      "Conclusion: Churn from  []  to  ['att']\n",
      "\n",
      "RT @PunkyPaneteddo: How to fix @CNN.Ê Go to your nearest @ATT store and tell them you are switching to @TMobile or some other cell phone coÉ\n",
      "sorted:  {'att': 0.675, 'tmobile': 0.675}\n",
      "Subjects: ['ATT', 'TMobile']\n",
      "Reason: []\n",
      "Conclusion: Churn from  ['att']  to  ['tmobile']\n",
      "\n",
      "Hey @JohnLegere, since @ATT is all about misleading customers with this \"5G E\" icon can @TMobile just \"launch\" 6G and make everyone's phone say it just to troll them and my one friend still on AT&T? Thanks!\"\n",
      "sorted:  {'att': 0.25, 'tmobile': 0.25}\n",
      "Subjects: ['ATT', 'TMobile']\n",
      "Reason: []\n",
      "Conclusion: Churn from  ['att']  to  ['tmobile']\n",
      "\n",
      "lmao __ that was epic they say DM them then they donÕt answer or assist you smh. I was thinking __ about switching to T Mobile.É https://t.co/eXBXiH4Kh1\"\n",
      "sorted:  {'tmobile': -0.15000000000000002}\n",
      "Subjects: []\n",
      "Reason: []\n",
      "Conclusion: Churn from  ['tmobile']  to  []\n",
      "\n",
      "@jstjohn83 @ATT @TMobile Smart move leaving. @ATT just gets worse and worse. Garbage company.\n",
      "sorted:  {'att': -0.18571428571428575, 'tmobile': 0.21428571428571427}\n",
      "Subjects: ['ATT', 'TMobile']\n",
      "Reason: []\n",
      "Conclusion: Churn from  ['att']  to  ['tmobile']\n",
      "\n",
      "IÕm finally leaving @ATT and going back to @TMobile itÕs all @DIRECTV fault I ever switched in the first place. 4 yrs of over paying for shitty service and expensive rate plans!É https://t.co/AEoBkCJYKX\"\n",
      "sorted:  {'att': -0.4166666666666667, 'tmobile': 0.3833333333333334}\n",
      "Subjects: ['ATT', 'TMobile']\n",
      "Reason: ['4 yrs of over paying for shitty service and expensive rate plans!É https://t.co/AEoBkCJYKX\"']\n",
      "Conclusion: Churn from  ['att']  to  ['tmobile']\n",
      "\n",
      "Well @ATT tried to tell me they would give me $1800 to switch back from @TMobile yet 2.5 years ago they were $900 higher so in two years IÕd have to switch back and IÕd be breaking even. I donÕt think so.\"\n",
      "sorted:  {'att': -0.4166666666666667, 'tmobile': -1.2166666666666668}\n",
      "Subjects: ['ATT', 'TMobile']\n",
      "Reason: []\n",
      "Conclusion: Churn from  ['att', 'tmobile']  to  []\n",
      "\n",
      "Hey Celeste, fellow vet & outbound ATT customer here. Been looking into it & @TMobile actually has the best vet discount on the market at the moment! Check out the details, but quick summary: You could get 4 unlimited lines for $100 all taxes & fees included. With Free Netflix!É https://t.co/uDAxn6YC0i\"\n",
      "sorted:  {'att': 0.2333333333333334, 'tmobile': 0.7333333333333334}\n",
      "Subjects: ['ATT', 'TMobile']\n",
      "Reason: []\n",
      "Conclusion: Churn from  ['att']  to  ['tmobile']\n",
      "\n",
      "@Cellie_23 @ATT @DIRECTV @TMobile @ATT / @ATTHelp is a garbage company. Abandon ship.\n",
      "sorted:  {'att': 0.0, 'tmobile': 0.0}\n",
      "Subjects: ['ATT', 'TMobile']\n",
      "Reason: []\n",
      "Conclusion: Churn from  ['tmobile', 'att']  to  []\n",
      "\n",
      "IÕve been w/ @ATT 18 yrs. Was a full time employee of Cingular Wireless & worked there when @ATTHelp bought them. IÕm dropping their internet, mobile, & TV services. Have had a front row seat for the decline for 2 decades now. They were industry leaders, now industry jokes.É https://t.co/0B9tSjhoGm\"\n",
      "sorted:  {'att': 0.35}\n",
      "Subjects: ['ATT']\n",
      "Reason: ['IÕm dropping their internet, mobile, & TV services.']\n",
      "Conclusion: Churn from  []  to  ['att']\n",
      "\n",
      "RT @andtf17: .@JohnLegereÊ how do I convince my dad to switch to @TMobile because @ATT is terrible ____\n",
      "sorted:  {'tmobile': -1.2, 'att': -0.19999999999999996}\n",
      "Subjects: ['ATT', 'TMobile']\n",
      "Reason: []\n",
      "Conclusion: Churn from  ['att', 'tmobile']  to  []\n",
      "\n",
      ".@JohnLegereÊ how do I convince my dad to switch to @TMobile because @ATT is terrible ____\n",
      "sorted:  {'tmobile': -1.2, 'att': -0.19999999999999996}\n",
      "Subjects: ['ATT', 'TMobile']\n",
      "Reason: []\n",
      "Conclusion: Churn from  ['att', 'tmobile']  to  []\n",
      "\n",
      "@MrLeonardKim Now if only they'd install a cell tower near me where I would get a decent signal i'd switch to @TMobile from ATT\n",
      "sorted:  {'tmobile': 0.888888888888889, 'att': -0.7111111111111111}\n",
      "Subjects: ['ATT', 'TMobile']\n",
      "Reason: [\"@MrLeonardKim Now if only they'd install a cell tower near me where I would get a decent signal i'd switch to @TMobile from ATT\"]\n",
      "Conclusion: Churn from  ['att']  to  ['tmobile']\n",
      "\n",
      "RT @mn6824: @DarlaShine @ATT Switch to @TMobile, they actually support active duty military with amazing deals and have great customer servÉ\n",
      "sorted:  {'att': 0.23333333333333334, 'tmobile': 1.0333333333333334}\n",
      "Subjects: ['ATT', 'TMobile']\n",
      "Reason: []\n",
      "Conclusion: Churn from  ['att']  to  ['tmobile']\n",
      "\n",
      "Dear @ATTÊ yÕall need to fix your service in the 941 yÕall out here acting like @TMobileÊ get right __\n",
      "sorted:  {'att': 0.14285714285714285, 'tmobile': 0.6428571428571428}\n",
      "Subjects: ['ATT', 'TMobile']\n",
      "Reason: ['Dear @ATTÊ yÕall need to fix your service in the 941 yÕall out here acting like @TMobileÊ get right __']\n",
      "Conclusion: Churn from  ['att']  to  ['tmobile']\n",
      "\n",
      "Thinking of leaving @att and perhaps going with @verizonwireless since @tmobile does not currently offer great coverage where I live, wonder if @verizonwireless can match or give me a better deal than @att?\"\n",
      "sorted:  {'att': 0.7181818181818183, 'verizon': 0.7181818181818183, 'tmobile': 0.3590909090909091}\n",
      "Subjects: ['ATT', 'Verizon', 'TMobile']\n",
      "Reason: ['Thinking of leaving @att and perhaps going with @verizonwireless since @tmobile does not currently offer great coverage where I live, wonder if @verizonwireless can match or give me a better deal than @att?\"']\n",
      "Conclusion: Churn from  ['att', 'tmobile']  to  ['verizon']\n",
      "\n",
      "Dassit. IÕm not paying my phone bill anymore! @ATT yÕall can go ahead and turn this jawn off cause yÕall FOUL! IÕm going back to @TMobile\n",
      "sorted:  {'att': 0.0, 'tmobile': 0.0}\n",
      "Subjects: ['ATT', 'TMobile']\n",
      "Reason: []\n",
      "Conclusion: Churn from  ['tmobile', 'att']  to  []\n",
      "\n",
      "@ATT thanks for leaving PR behind!! Today I switch to @TMobileÊ hopefully they will provide a better service than you.\n",
      "sorted:  {'att': -0.2125, 'tmobile': 1.3}\n",
      "Subjects: ['ATT', 'TMobile']\n"
     ]
    },
    {
     "name": "stdout",
     "output_type": "stream",
     "text": [
      "Reason: ['Today I switch to @TMobileÊ hopefully they will provide a better service than you.']\n",
      "Conclusion: Churn from  ['att']  to  ['tmobile']\n",
      "\n",
      "@ATT your service is crap really one bar smh. @TMobile God knows I need to come back! IÕm sorry I left yÕall att is trash.É https://t.co/f3nFprnuWn\"\n",
      "sorted:  {'att': -1.05, 'tmobile': -0.5}\n",
      "Subjects: ['ATT', 'TMobile']\n",
      "Reason: ['@ATT your service is crap really one bar smh.']\n",
      "Conclusion: Churn from  ['tmobile', 'att']  to  []\n",
      "\n",
      "Thank You! I love how you responded and @ATT didn't even bother. The worst part of this whole thing is that I now have a phone and with financing and I can't even get reception on it. @TMobile you are my favorite.É https://t.co/TTW7sxCtlf\"\n",
      "sorted:  {'att': 0.09999999999999998, 'tmobile': -0.4}\n",
      "Subjects: ['ATT', 'TMobile']\n",
      "Reason: []\n",
      "Conclusion: Churn from  ['tmobile']  to  ['att']\n",
      "\n",
      "I'm following you now so you should be able to DM me. Yeah my main gripe with @TMobile is that that their service has been fine up until this one month, now, and all the sudden they're telling me our policy doesn't cover crap the guy swore would be as good or better than @ATTHelpÉ https://t.co/wNRoruxBxJ\"\n",
      "sorted:  {'att': 0.41388888888888886, 'tmobile': 0.41388888888888886}\n",
      "Subjects: ['ATT', 'TMobile']\n",
      "Reason: ['Yeah my main gripe with @TMobile is that that their service has been fine up until this one month, now, and all the sudden they\\'re telling me our policy doesn\\'t cover crap the guy swore would be as good or better than @ATTHelpÉ https://t.co/wNRoruxBxJ\"']\n",
      "Conclusion: Churn from  ['att']  to  ['tmobile']\n",
      "\n",
      "Mainly because @ATT and @verizonÊ prices are pretty high. So having another GSM and CDMA player benefits the public. IÕm forced to use Verizon and every month itÕs almost $500 for 4 phone lines. ItÕs kinda absurd honestly.É https://t.co/UFtj75O9oT\"\n",
      "sorted:  {'att': -0.3077777777777778, 'verizon': -0.6077777777777779}\n",
      "Subjects: ['ATT', 'Verizon']\n",
      "Reason: ['Mainly because @ATT and @verizonÊ prices are pretty high.']\n",
      "Conclusion: Churn from  ['att', 'verizon']  to  []\n",
      "\n",
      "@JasonBoydWrites @VZWSupport @ATT @TMobile Serious? IÕm gonna look into their plans. Question. What made you switchÉ https://t.co/Ku6e728Xjn\n",
      "sorted:  {'att': -0.8333333333333333, 'tmobile': -0.8333333333333333}\n",
      "Subjects: ['ATT', 'TMobile']\n",
      "Reason: []\n",
      "Conclusion: Churn from  ['tmobile', 'att']  to  []\n",
      "\n",
      "@ATT or @TMobile care to make a play for my business? Multiple lines, multiple devices, and as you can see we don't change carriers lightly.É https://t.co/hfX0aLKzFs\"\n",
      "sorted:  {'att': 0.0, 'tmobile': 0.0}\n",
      "Subjects: ['ATT', 'TMobile']\n",
      "Reason: []\n",
      "Conclusion: Churn from  ['tmobile', 'att']  to  []\n",
      "\n",
      "@ATT @ATTHelp I guess you guys canÕt help me time to switch to @verizonor or @TMobileHelp\n",
      "sorted:  {'att': 0.0, 'verizon': 0.8, 'tmobile': 0.8}\n",
      "Subjects: ['ATT', 'Verizon', 'TMobile']\n",
      "Reason: []\n",
      "Conclusion: Churn from  ['tmobile', 'att']  to  ['verizon']\n",
      "\n",
      "@catsant8 @ATT @ATTHelp Dang! Times to switch to @TMobile?\n",
      "sorted:  {'att': 0.0, 'tmobile': 0.8}\n",
      "Subjects: ['ATT', 'TMobile']\n",
      "Reason: []\n",
      "Conclusion: Churn from  ['att']  to  ['tmobile']\n",
      "\n",
      "@ATTHelp @ATTÊ\n",
      "sorted:  {'att': 0.0}\n",
      "Subjects: ['ATT']\n",
      "Reason: []\n",
      "Conclusion: Churn from  ['att']  to  []\n",
      "\n",
      "IÕve been pondering leaving @ATTHelp for @TMobile and there is an awesome promotion for the Pixel 4 but my @google Pixel XL literally died 10 days ago, so I canÕt trade it in for $500 in credit! <sigh> :)\"\n",
      "sorted:  {'att': 1.0, 'tmobile': 1.0}\n",
      "Subjects: ['ATT', 'TMobile']\n",
      "Reason: []\n",
      "Conclusion: Churn from  ['att']  to  ['tmobile']\n",
      "\n",
      "@ATTHelpÊ\n",
      "sorted:  {'att': 0.0}\n",
      "Subjects: ['ATT']\n",
      "Reason: []\n",
      "Conclusion: Churn from  ['att']  to  []\n",
      "\n",
      "I am very interested in switching over from @ATTHelp to @TMobileHelp @TMobile. I'm only concerned about network coverage. I will primarily be in Dallas Fort worth area. Can somebody give me an honest reply to this? Also how's the network quality inside the buildings?É https://t.co/R37g2FI3D3\"\n",
      "sorted:  {'att': 0.4749999999999999, 'tmobile': 3.2}\n",
      "Subjects: ['ATT', 'TMobile']\n",
      "Reason: [\"I'm only concerned about network coverage.\", 'Also how\\'s the network quality inside the buildings?É https://t.co/R37g2FI3D3\"']\n",
      "Conclusion: Churn from  ['att']  to  ['tmobile']\n",
      "\n",
      "@JayTea1993 @TMobile IÕm about to give a similar goodbye message to @att @atthelp __\n",
      "sorted:  {'att': 0.0, 'tmobile': 0.0}\n",
      "Subjects: ['ATT', 'TMobile']\n",
      "Reason: []\n",
      "Conclusion: Churn from  ['tmobile', 'att']  to  []\n",
      "\n",
      "Well, I'm with @tmobile now. And just got off the phone with @ATT support 6 transfers later I'm being told you have an error on your side & that you can't send me a bill because I already canceled. You reverted to an address I haven't lived at in 5 years\n",
      "sorted:  {'tmobile': -0.5, 'att': -0.5}\n",
      "Subjects: ['ATT', 'TMobile']\n",
      "Reason: []\n",
      "Conclusion: Churn from  ['tmobile', 'att']  to  []\n",
      "\n",
      "Silver lining, I wanted to go to @TMobile for a year now, but was saving $20/mo bundling ATT services. But dropping @ATT TVNow, allows me to also finally drop ATT mobile! So I may actually owe this dumpster fire company a thank you for forcing me to break these 18 year chains.É https://t.co/CA6XUcdjSx\"\n",
      "sorted:  {'att': 0.0, 'tmobile': 0.0}\n",
      "Subjects: ['ATT', 'TMobile']\n",
      "Reason: ['Silver lining, I wanted to go to @TMobile for a year now, but was saving $20/mo bundling ATT services.']\n",
      "Conclusion: Churn from  ['tmobile', 'att']  to  []\n",
      "\n",
      "Yep.Ê We had Verizon till about 4yrs ago then switched to ATT.Ê Big mistake.Ê Terrible compared to Verizon, especially inside buildings.É https://t.co/F1dkwgeck6\"\n",
      "sorted:  {'verizon': 0.13333333333333341}\n",
      "Subjects: ['ATT', 'Verizon']\n",
      "Reason: []\n",
      "Conclusion: Churn from  []  to  ['verizon']\n",
      "\n",
      "Thanks for nothing @ATT. Can't wait to drop you after all these years for @verizon in a couple of months.\n",
      "sorted:  {'att': 0.2, 'verizon': 0.0}\n",
      "Subjects: ['ATT', 'Verizon']\n",
      "Reason: []\n",
      "Conclusion: Churn from  ['verizon']  to  ['att']\n",
      "\n",
      "Hey! @verizon itÕs been 15yrs, help me get out of my @ATT contract. I have horrible cell reception or no service #chicagoÉ https://t.co/zEW24RH2xc\"\n",
      "sorted:  {'att': -1.0, 'verizon': -1.0}\n",
      "Subjects: ['ATT', 'Verizon']\n",
      "Reason: ['I have horrible cell reception or no service #chicagoÉ https://t.co/zEW24RH2xc\"']\n",
      "Conclusion: Churn from  ['verizon', 'att']  to  []\n",
      "\n",
      "@ATT @reckless so ATT wireless has had a voicemail outage for almost a month and no one is talking about it! @verizon here I come!\n",
      "sorted:  {'att': -0.5, 'verizon': -0.5}\n",
      "Subjects: ['ATT', 'Verizon']\n",
      "Reason: []\n",
      "Conclusion: Churn from  ['verizon', 'att']  to  []\n",
      "\n",
      "Hey @Suddenlink I have been on 3 calls tonight to fix one issue. 3.5 hours of my life are gone. @ATTÊ @verizonÊ @googledevs @Xfinity please come to Bryan College Station and save our cities from this horrible service.\"\n",
      "sorted:  {'att': -1.5, 'verizon': -1.5}\n",
      "Subjects: ['ATT', 'Verizon']\n",
      "Reason: ['@ATTÊ @verizonÊ @googledevs @Xfinity please come to Bryan College Station and save our cities from this horrible service.\"']\n",
      "Conclusion: Churn from  ['verizon', 'att']  to  []\n",
      "\n",
      "@alaina1424 @ATT Lolz. I originally was with att.. Verizon is lit tho\n",
      "sorted:  {'att': 0.375, 'verizon': 0.375}\n",
      "Subjects: ['ATT', 'Verizon']\n",
      "Reason: []\n",
      "Conclusion: Churn from  ['att']  to  ['verizon']\n",
      "\n",
      "Now I see why everyone left @sprintÊ and went to @verizon or @ATT\n",
      "sorted:  {'att': 0.0, 'verizon': 0.0}\n",
      "Subjects: ['ATT', 'Verizon']\n",
      "Reason: []\n",
      "Conclusion: Churn from  ['verizon', 'att']  to  []\n",
      "\n",
      "@verizon @disneyplus @ATT been with you since 2005 but this has me weak. Your move.\n",
      "sorted:  {'verizon': 0.125, 'att': -0.375}\n",
      "Subjects: ['ATT', 'Verizon']\n",
      "Reason: ['@verizon @disneyplus @ATT been with you since 2005 but this has me weak.']\n",
      "Conclusion: Churn from  ['att']  to  ['verizon']\n",
      "\n",
      "@ATT has the slowest speed. Every place I got to has 2 bars. Will this ever change? Looking to move to @verizon if not. Fix this quick please.\"\n",
      "sorted:  {'att': 0.3333333333333333, 'verizon': 0.3333333333333333}\n",
      "Subjects: ['ATT', 'Verizon']\n",
      "Reason: []\n",
      "Conclusion: Churn from  ['att']  to  ['verizon']\n",
      "\n",
      "Bye @ATT After years of the shitty customer service @Verizon and @Disney are making it too easy to switch.\n",
      "sorted:  {'att': -0.06666666666666665, 'verizon': 0.43333333333333335}\n",
      "Subjects: ['ATT', 'Verizon']\n",
      "Reason: ['Bye @ATT After years of the shitty customer service @Verizon and @Disney are making it too easy to switch.']\n",
      "Conclusion: Churn from  ['att']  to  ['verizon']\n",
      "\n",
      "@ATT going on 24hrs without voicemail. What gives? Apparently, IÕm not alone and itÕs nationwide. IÕm close to jumping to @verizon\n",
      "sorted:  {'att': 0.05, 'verizon': 0.05}\n",
      "Subjects: ['ATT', 'Verizon']\n",
      "Reason: []\n",
      "Conclusion: Churn from  ['att']  to  ['verizon']\n",
      "\n",
      "Heyyyy @ATT are you going to give us Disney+ for free for a year like Verizon? Cause if not , IÕll gladly go to Verizon __.\n",
      "sorted:  {'att': 0.4, 'verizon': 2.7}\n",
      "Subjects: ['ATT', 'Verizon']\n",
      "Reason: ['Heyyyy @ATT are you going to give us Disney+ for free for a year like Verizon?']\n",
      "Conclusion: Churn from  ['att']  to  ['verizon']\n",
      "\n",
      ".@verizon hey is your voicemail working? Been considering switching - especially with this @ATT #Voicemail outage...\n",
      "sorted:  {'verizon': -0.5, 'att': -0.5}\n",
      "Subjects: ['ATT', 'Verizon']\n",
      "Reason: []\n",
      "Conclusion: Churn from  ['verizon', 'att']  to  []\n",
      "\n",
      "@Verizon let me explain what ur doing is against the law. This is why we went to ATT. Now turning us into a collection department for a non existent Bill is gonna cost you in legal fees. This is not a threat but a promise. I do not owe you a dime.\"\n",
      "sorted:  {'verizon': 0.2, 'att': 0.2}\n",
      "Subjects: ['ATT', 'Verizon']\n",
      "Reason: []\n",
      "Conclusion: Churn from  ['att']  to  ['verizon']\n",
      "\n",
      "@verizon I need to leave @ATT help ME outÉ \"\n",
      "sorted:  {'att': 0.0, 'verizon': 0.0}\n",
      "Subjects: ['ATT', 'Verizon']\n",
      "Reason: []\n",
      "Conclusion: Churn from  ['verizon', 'att']  to  []\n",
      "\n",
      "I went from @ATTÊ to @verizon and honestly it was the best decision ever because now IÕm not losing signal everywhere I go.\n",
      "sorted:  {'att': 0.8, 'verizon': 0.8}\n",
      "Subjects: ['ATT', 'Verizon']\n",
      "Reason: []\n",
      "Conclusion: Churn from  ['att']  to  ['verizon']\n",
      "\n",
      "@ATT your coverage sucks. I want to return my phone and switch to @verizon, but I canÕt afford to pay the remainder of my phone up front. So now I have a phone I canÕt use with a provider I donÕt want.\"\n",
      "sorted:  {'att': -0.3, 'verizon': 0.8}\n",
      "Subjects: ['ATT', 'Verizon']\n",
      "Reason: ['@ATT your coverage sucks.']\n",
      "Conclusion: Churn from  ['att']  to  ['verizon']\n",
      "\n",
      "IÕm still on @ATT head. They need to figure it out. @verizon is defeating yÕall to the point I may go back.\n",
      "sorted:  {'att': 0.0, 'verizon': 0.0}\n",
      "Subjects: ['ATT', 'Verizon']\n",
      "Reason: []\n",
      "Conclusion: Churn from  ['verizon', 'att']  to  []\n",
      "\n",
      "Will @Verizon or @ATT buy out my Sprint lease?\n",
      "sorted:  {'att': 0.0, 'verizon': 0.0}\n",
      "Subjects: ['ATT', 'Verizon']\n",
      "Reason: []\n",
      "Conclusion: Churn from  ['verizon', 'att']  to  []\n",
      "\n",
      "No #5G devices on me but IÕve got a @verizon LTE vs @ATT 5Ge comparison handy.É https://t.co/bEK3fIw4yD\"\n",
      "sorted:  {'att': 0.0, 'verizon': 0.0}\n",
      "Subjects: ['ATT', 'Verizon']\n",
      "Reason: []\n",
      "Conclusion: Churn from  ['verizon', 'att']  to  []\n",
      "\n",
      "Me looking at @ATT after Verizon announced they were giving their customers Disney Plus for free.É \"\n",
      "sorted:  {'att': -0.5, 'verizon': 0.0}\n",
      "Subjects: ['ATT', 'Verizon']\n",
      "Reason: ['Me looking at @ATT after Verizon announced they were giving their customers Disney Plus for free.É \"']\n",
      "Conclusion: Churn from  ['att']  to  ['verizon']\n",
      "\n",
      ".@verizon takes aim at @ATT by offering @DisneyÕs rival streaming service for free https://t.co/e87zd3mhxH\n",
      "sorted:  {'verizon': 0.4, 'att': -0.09999999999999998}\n",
      "Subjects: ['ATT', 'Verizon']\n",
      "Reason: ['@verizon takes aim at @ATT by offering @DisneyÕs rival streaming service for free https://t.co/e87zd3mhxH']\n",
      "Conclusion: Churn from  ['att']  to  ['verizon']\n",
      "\n",
      "@ThaDranksta Gotcha. IÕm with ATT. I might have to check out Verizon\n",
      "sorted:  {'att': 0.0, 'verizon': 0.0}\n",
      "Subjects: ['ATT', 'Verizon']\n",
      "Reason: []\n",
      "Conclusion: Churn from  ['verizon', 'att']  to  []\n",
      "\n",
      "MAN..I have had so many problems with @ATT so I switched to Verizon. Kept my WiFi with ATT assuming they couldnÕt mess that up too but multiple times this month they have. If anyone has any good recommendations for WIFI plz lmk because I will never use ATT again. Ever.\"\n",
      "sorted:  {'att': 1.1124999999999998, 'verizon': 1.3}\n",
      "Subjects: ['ATT', 'Verizon']\n",
      "Reason: ['Kept my WiFi with ATT assuming they couldnÕt mess that up too but multiple times this month they have.', 'If anyone has any good recommendations for WIFI plz lmk because I will never use ATT again.']\n",
      "Conclusion: Churn from  ['att']  to  ['verizon']\n",
      "\n",
      "@ChelseaJoCulver @ATT @verizon yÕall got room for one more over there __ @ATT left me on read\n",
      "sorted:  {'att': 0.5, 'verizon': 0.25}\n",
      "Subjects: ['ATT', 'Verizon']\n",
      "Reason: []\n",
      "Conclusion: Churn from  ['verizon']  to  ['att']\n",
      "\n",
      "Fuck you @ATT yÕall literally got the worst costumer service!!! YÕall need to get your shit together!! On to @verizon I go ____\n",
      "sorted:  {'att': -1.0125, 'verizon': -0.3125}\n",
      "Subjects: ['ATT', 'Verizon']\n",
      "Reason: ['Fuck you @ATT yÕall literally got the worst costumer service!!!']\n",
      "Conclusion: Churn from  ['verizon', 'att']  to  []\n",
      "\n",
      "\"You can have Spotify Premium for each user\" - @ATT before I switch from @verizonÊ\n",
      "sorted:  {'att': -0.5, 'verizon': -1.3}\n",
      "Subjects: ['ATT', 'Verizon']\n",
      "Reason: []\n",
      "Conclusion: Churn from  ['att', 'verizon']  to  []\n",
      "\n",
      "@JohnLegere IÕm still waiting on finding support to help me switch from Verizon to @TMobile.Ê I just need somebody willing to work with me.\n",
      "sorted:  {'tmobile': 1.3, 'verizon': -0.55}\n",
      "Subjects: ['Verizon', 'TMobile']\n",
      "Reason: []\n",
      "Conclusion: Churn from  ['verizon']  to  ['tmobile']\n",
      "\n",
      "@Otii_Jason @TMobile Move up to @verizon\n",
      "sorted:  {'verizon': 0.0, 'tmobile': 0.0}\n",
      "Subjects: ['Verizon', 'TMobile']\n",
      "Reason: []\n",
      "Conclusion: Churn from  ['verizon', 'tmobile']  to  []\n",
      "\n",
      "I wonder if i paid off the balance on my old account if @verizon would take me back because IÕm kinda over @TMobile at this point\n",
      "sorted:  {'verizon': 0.05, 'tmobile': 0.05}\n",
      "Subjects: ['Verizon', 'TMobile']\n",
      "Reason: []\n",
      "Conclusion: Churn from  ['tmobile']  to  ['verizon']\n",
      "\n",
      "@TMobile is literally the worst fkn company ever. I regret leaving @verizon\n",
      "sorted:  {'tmobile': -1.0, 'verizon': 0.0}\n",
      "Subjects: ['Verizon', 'TMobile']\n",
      "Reason: []\n",
      "Conclusion: Churn from  ['tmobile']  to  ['verizon']\n",
      "\n",
      "@hollyspangler @USCellular @verizon @verizon sucks!\n",
      "sorted:  {'verizon': -0.75}\n",
      "Subjects: ['Verizon']\n",
      "Reason: []\n",
      "Conclusion: Churn from  ['verizon']  to  []\n",
      "\n",
      "RT @suttera2: Not gonna lie, days like today make me even more happy that I left @verizon for @TMobile. Still to date one of the best decisÉ\n",
      "sorted:  {'verizon': 1.9333333333333333, 'tmobile': 1.9333333333333333}\n",
      "Subjects: ['Verizon', 'TMobile']\n",
      "Reason: []\n",
      "Conclusion: Churn from  ['tmobile']  to  ['verizon']\n",
      "\n",
      "Trying to convince MrRMR to change from verizon to Tmobile and he posted on FB asking for feedback on service and someone posted \"no problems unless I am using it somewhere ridiculous like camping in the woods\" which is EXACTLY why MrRMR doesnt want to change from verizon__\"\n",
      "sorted:  {'verizon': 0.4166666666666667, 'tmobile': -0.04166666666666666}\n",
      "Subjects: ['Verizon', 'TMobile']\n",
      "Reason: ['Trying to convince MrRMR to change from verizon to Tmobile and he posted on FB asking for feedback on service and someone posted \"no problems unless I am using it somewhere ridiculous like camping in the woods\" which is EXACTLY why MrRMR doesnt want to change from verizon__\"']\n",
      "Conclusion: Churn from  ['tmobile']  to  ['verizon']\n",
      "\n",
      "Soooooo after being with @TMobile for about 8-9 years I think IÕll be switching to @verizon any thoughts or anything\n",
      "sorted:  {'tmobile': 0.0, 'verizon': 0.8}\n",
      "Subjects: ['Verizon', 'TMobile']\n",
      "Reason: []\n",
      "Conclusion: Churn from  ['tmobile']  to  ['verizon']\n",
      "\n",
      "My Contract with SPRiNT is Over!!!!!Ê\n",
      "sorted:  {}\n",
      "Subjects: []\n",
      "Reason: []\n",
      "Conclusion: Churn from  []  to  []\n",
      "\n",
      "@TMobile FUCK IT, I'll change my service to sprint or Verizon or something, no excuses for this BULLSHITT!!!\n",
      "sorted:  {'verizon': -0.625, 'tmobile': -0.625}\n",
      "Subjects: ['Verizon', 'TMobile']\n",
      "Reason: [\"@TMobile FUCK IT, I'll change my service to sprint or Verizon or something, no excuses for this BULLSHITT!!\"]\n",
      "Conclusion: Churn from  ['verizon', 'tmobile']  to  []\n",
      "\n",
      "@est_ardy @verizon Switch over to Tmobile I gotchuuu __\n",
      "sorted:  {'verizon': 0.0, 'tmobile': 0.8}\n",
      "Subjects: ['Verizon', 'TMobile']\n",
      "Reason: []\n",
      "Conclusion: Churn from  ['verizon']  to  ['tmobile']\n",
      "\n",
      "@tmobile count yo fuckin daysss ... I shouldÕve just went with Verizon or AT&amp;T\n",
      "sorted:  {'tmobile': 0.0, 'att': 0.0, 'verizon': 0.0}\n",
      "Subjects: ['Verizon', 'TMobile']\n",
      "Reason: []\n",
      "Conclusion: Churn from  ['verizon', 'tmobile', 'att']  to  []\n",
      "\n",
      "If I switched from @TMobile to @verizon to get one year of @disneyplus for ÒfreeÓ ($70 value) I would be losing one year of @netflix for ÒfreeÓ ($132 value) and paying a lot more for wireless service too! __ @JohnLegere\"\n",
      "sorted:  {'tmobile': -0.17500000000000004, 'verizon': 1.925}\n",
      "Subjects: ['Verizon', 'TMobile']\n",
      "Reason: ['If I switched from @TMobile to @verizon to get one year of @disneyplus for ÒfreeÓ ($70 value) I would be losing one year of @netflix for ÒfreeÓ ($132 value) and paying a lot more for wireless service too!']\n",
      "Conclusion: Churn from  ['tmobile']  to  ['verizon']\n",
      "\n",
      "We are finally switching from Verizon to Tmobile. Today is the day ____ $300 a month for 3 lines makes NO sense. (One phone is fully paid) smh!\"\n",
      "sorted:  {'verizon': -0.8, 'tmobile': 0.8}\n",
      "Subjects: ['Verizon', 'TMobile']\n",
      "Reason: []\n",
      "Conclusion: Churn from  ['verizon']  to  ['tmobile']\n",
      "\n",
      "@TMobile @verizon and @sprint your service is TrAsH, no bs.\n",
      "sorted:  {'verizon': 0.0, 'tmobile': 0.0}\n",
      "Subjects: ['Verizon', 'TMobile']\n",
      "Reason: ['@TMobile @verizon and @sprint your service is TrAsH, no bs.']\n",
      "Conclusion: Churn from  ['verizon', 'tmobile']  to  []\n",
      "\n",
      "@dylana45 @TMobile I feel that! IÕll look into Verizon.\n",
      "sorted:  {'tmobile': 0.0, 'verizon': 0.0}\n",
      "Subjects: ['Verizon', 'TMobile']\n",
      "Reason: []\n",
      "Conclusion: Churn from  ['verizon', 'tmobile']  to  []\n",
      "\n",
      "@just4sc @TMobile IÕll look into verizon\n",
      "sorted:  {'verizon': 0.0, 'tmobile': 0.0}\n",
      "Subjects: ['Verizon', 'TMobile']\n",
      "Reason: []\n",
      "Conclusion: Churn from  ['verizon', 'tmobile']  to  []\n",
      "\n",
      "@ericwayland @TMobile Naw. IÕll look into Verizon. T-Mobile &amp; AT&amp;T garbage\n",
      "sorted:  {'tmobile': 0.0, 'verizon': 0.0, 'att': 0.0}\n",
      "Subjects: ['Verizon', 'TMobile']\n",
      "Reason: []\n",
      "Conclusion: Churn from  ['verizon', 'tmobile', 'att']  to  []\n",
      "\n",
      "@milkshakeyshae_ @TMobile @sprint is by far the worst company you can switch to. Listen your tweets and switch to Verizon or At&amp;t __\n",
      "sorted:  {'tmobile': -0.95, 'att': 0.30000000000000004, 'verizon': 0.30000000000000004}\n",
      "Subjects: ['Verizon', 'TMobile']\n",
      "Reason: []\n",
      "Conclusion: Churn from  ['att', 'tmobile']  to  ['verizon']\n",
      "\n",
      "@milkshakeyshae_ @TMobile @TMobile is horrible with customer service now. But I strongly advice against Sprint. Try At&amp;t or Verizon instead\n",
      "sorted:  {'tmobile': -1.5666666666666667, 'att': 0.4333333333333333, 'verizon': 0.4333333333333333}\n",
      "Subjects: ['Verizon', 'TMobile']\n",
      "Reason: ['@milkshakeyshae_ @TMobile @TMobile is horrible with customer service now.']\n",
      "Conclusion: Churn from  ['att', 'tmobile']  to  ['verizon']\n",
      "\n",
      "@milkshakeyshae_ @TMobile Verizon wireless is best I'm also going to switch to Verizon I have 9 lines\n",
      "sorted:  {'tmobile': 1.0, 'verizon': 2.8}\n",
      "Subjects: ['Verizon', 'TMobile']\n",
      "Reason: []\n",
      "Conclusion: Churn from  ['tmobile']  to  ['verizon']\n",
      "\n",
      "@TMobile @JohnLegere my coworker has been trying to switch from @verizon to you guys and NO-ONE from customer service has helped. He just needs the midnight green iPhone 11 pro. We literally work in promotions for both tv and radio here in San Diego. Can \n",
      "sorted:  {'tmobile': -0.7, 'verizon': -1.5}\n",
      "Subjects: ['Verizon', 'TMobile']\n",
      "Reason: ['@TMobile @JohnLegere my coworker has been trying to switch from @verizon to you guys and NO-ONE from customer service has helped.']\n",
      "Conclusion: Churn from  ['tmobile', 'verizon']  to  []\n",
      "\n",
      "@JohnLegere @zhollid @TMobile I know Verizon is soo great\n",
      "sorted:  {'verizon': 0.8, 'tmobile': 1.6}\n",
      "Subjects: ['Verizon', 'TMobile']\n",
      "Reason: []\n",
      "Conclusion: Churn from  ['verizon']  to  ['tmobile']\n",
      "\n",
      "Thank you @verizon for making my decision to switch to @TMobile even easier! Over an hour on the phone with @VZWSupport to try and pay my final bill and pay off my phone. That WASNT easy!É https://t.co/WYCv9nOYHy\"\n",
      "sorted:  {'verizon': 0.0, 'tmobile': 0.8}\n",
      "Subjects: ['Verizon', 'TMobile']\n",
      "Reason: []\n",
      "Conclusion: Churn from  ['verizon']  to  ['tmobile']\n",
      "\n",
      "@TMobile this is why I'm trying to switch from @verizon to you... I've been trying to load your webpage for 5 minutes... thanks to Verizon, I can't even get into it...É https://t.co/4dO4MmWe1C\"\n",
      "sorted:  {'tmobile': -0.5, 'verizon': -1.1}\n",
      "Subjects: ['Verizon', 'TMobile']\n",
      "Reason: []\n",
      "Conclusion: Churn from  ['tmobile', 'verizon']  to  []\n",
      "\n",
      "@TMobile @verizon if you give me my same cell number IÕll switch to you!\n",
      "sorted:  {'tmobile': -0.5, 'verizon': -0.5}\n",
      "Subjects: ['Verizon', 'TMobile']\n",
      "Reason: []\n",
      "Conclusion: Churn from  ['verizon', 'tmobile']  to  []\n",
      "\n",
      "@blueoysterdvp @verizon @ATT @TMobile @sprint I think after my phones and shit are paid off, I might try @ATT Wireless\n",
      "sorted:  {'att': -0.4, 'verizon': -0.2, 'tmobile': -0.2}\n",
      "Subjects: ['ATT', 'Verizon', 'TMobile']\n",
      "Reason: []\n",
      "Conclusion: Churn from  ['verizon', 'tmobile', 'att']  to  []\n",
      "\n",
      "Been with @verizon for over 15 years. Looking to switch to a new carrier. Who you got @sprint @ATT @TMobile or others?\n",
      "sorted:  {'verizon': -0.36363636363636365, 'att': -0.36363636363636365, 'tmobile': -0.36363636363636365}\n",
      "Subjects: ['ATT', 'Verizon', 'TMobile']\n",
      "Reason: []\n",
      "Conclusion: Churn from  ['verizon', 'tmobile', 'att']  to  []\n",
      "\n",
      "Hey @verizon your coverage sucks @TMobile @att yÕall got room for two moreÉ \"\n",
      "sorted:  {'att': -0.3, 'verizon': -0.3, 'tmobile': -0.3}\n",
      "Subjects: ['ATT', 'Verizon', 'TMobile']\n",
      "Reason: ['Hey @verizon your coverage sucks @TMobile @att yÕall got room for two moreÉ \"']\n",
      "Conclusion: Churn from  ['verizon', 'tmobile', 'att']  to  []\n",
      "\n",
      "Thinking about jumping to TMO from att this week. Im in San Diego. How good/bad is the coverage? voice and/or dataÉ https://t.co/HKVcrr2UOr\"\n",
      "sorted:  {'att': 0.0}\n",
      "Subjects: ['ATT']\n",
      "Reason: ['How good/bad is the coverage?']\n",
      "Conclusion: Churn from  ['att']  to  []\n",
      "\n",
      "IÕve been with @sprint for 19 years. Looking for a new sponsor for my mobile account and a cheaper alternative. @verizon @ATT @TMobile\n",
      "sorted:  {'att': 0.13636363636363635, 'verizon': 0.13636363636363635, 'tmobile': 0.13636363636363635}\n",
      "Subjects: ['ATT', 'Verizon', 'TMobile']\n",
      "Reason: []\n",
      "Conclusion: Churn from  ['tmobile', 'att']  to  ['verizon']\n",
      "\n",
      "@laurashin @sprint @ATT @TMobile @verizon Sorry this happened. I look forward to your postmortem.\n",
      "sorted:  {'att': -0.5, 'verizon': -0.5, 'tmobile': -0.5}\n",
      "Subjects: ['ATT', 'Verizon', 'TMobile']\n",
      "Reason: []\n",
      "Conclusion: Churn from  ['verizon', 'tmobile', 'att']  to  []\n",
      "\n",
      "@MissBossyBoots_ @VZWSupport @ATT I switched to @TMobile after being with Verizon for 11 years. Best move I ever made. Fuck Verizon.\n",
      "sorted:  {'att': 1.0, 'tmobile': 1.8, 'verizon': 1.4}\n",
      "Subjects: ['ATT', 'Verizon', 'TMobile']\n"
     ]
    },
    {
     "name": "stdout",
     "output_type": "stream",
     "text": [
      "Reason: []\n",
      "Conclusion: Churn from  ['verizon', 'att']  to  ['tmobile']\n",
      "\n",
      "IÕm reaching out to a new company @verizon @TMobile @ATT which one of yÕall can I switch to. IÕm done givingÊ sprint shitty ass chances they a scam for realÉ https://t.co/ogM14wPxtU\"\n",
      "sorted:  {'verizon': 0.9363636363636364, 'tmobile': 0.9363636363636364, 'att': 0.9363636363636364}\n",
      "Subjects: ['ATT', 'Verizon', 'TMobile']\n",
      "Reason: []\n",
      "Conclusion: Churn from  ['tmobile', 'att']  to  ['verizon']\n",
      "\n",
      "@perfectsin77 @msfIeet @JohnLegere @verizon iÕve had att, verizon, tmobile, &amp; honestly iÕm a dumb bitch for leaving.\n",
      "sorted:  {'att': 0.11249999999999999, 'verizon': 0.22499999999999998, 'tmobile': 0.22499999999999998}\n",
      "Subjects: ['ATT', 'Verizon', 'TMobile']\n",
      "Reason: []\n",
      "Conclusion: Churn from  ['tmobile', 'att']  to  ['verizon']\n",
      "\n"
     ]
    }
   ],
   "source": [
    "# add new columns: from, to, reason\n",
    "\n",
    "churn_from = []\n",
    "churn_to = []\n",
    "churn_reason = []\n",
    "for text in churn_tweets.text.values:\n",
    "    print(text)\n",
    "    from_carrier,to_carrier,reason = getChurnAndReason(text)\n",
    "    print()\n",
    "    churn_from.append(from_carrier)\n",
    "    churn_to.append(to_carrier)\n",
    "    churn_reason.append(reason)"
   ]
  },
  {
   "cell_type": "code",
   "execution_count": 95,
   "metadata": {
    "scrolled": false
   },
   "outputs": [
    {
     "data": {
      "text/plain": [
       "(224, 224, 224)"
      ]
     },
     "execution_count": 95,
     "metadata": {},
     "output_type": "execute_result"
    }
   ],
   "source": [
    "len(churn_from),len(churn_to), len(churn_tweets.clf_text.values)"
   ]
  },
  {
   "cell_type": "code",
   "execution_count": 97,
   "metadata": {
    "scrolled": true
   },
   "outputs": [],
   "source": [
    "churn_tweets['churn_from'] = churn_from\n",
    "churn_tweets['churn_to'] = churn_to\n",
    "churn_tweets['churn_reason'] = churn_reason"
   ]
  },
  {
   "cell_type": "code",
   "execution_count": 98,
   "metadata": {
    "scrolled": false
   },
   "outputs": [
    {
     "data": {
      "text/html": [
       "<div>\n",
       "<style scoped>\n",
       "    .dataframe tbody tr th:only-of-type {\n",
       "        vertical-align: middle;\n",
       "    }\n",
       "\n",
       "    .dataframe tbody tr th {\n",
       "        vertical-align: top;\n",
       "    }\n",
       "\n",
       "    .dataframe thead th {\n",
       "        text-align: right;\n",
       "    }\n",
       "</style>\n",
       "<table border=\"1\" class=\"dataframe\">\n",
       "  <thead>\n",
       "    <tr style=\"text-align: right;\">\n",
       "      <th></th>\n",
       "      <th>Unnamed: 0</th>\n",
       "      <th>carrier</th>\n",
       "      <th>sentiment</th>\n",
       "      <th>polarity</th>\n",
       "      <th>churn_likeliness</th>\n",
       "      <th>text</th>\n",
       "      <th>clf_text</th>\n",
       "      <th>churn_from</th>\n",
       "      <th>churn_to</th>\n",
       "      <th>churn_reason</th>\n",
       "    </tr>\n",
       "  </thead>\n",
       "  <tbody>\n",
       "    <tr>\n",
       "      <th>2</th>\n",
       "      <td>2804.0</td>\n",
       "      <td>att tmobile</td>\n",
       "      <td>neu</td>\n",
       "      <td>0.00</td>\n",
       "      <td>1.0</td>\n",
       "      <td>Oh gawd donât do that. They have no tower at...</td>\n",
       "      <td>oh gawd don t do that they have no tower atm n...</td>\n",
       "      <td>[]</td>\n",
       "      <td>[verizon]</td>\n",
       "      <td>[They have no tower atm, no service., I just h...</td>\n",
       "    </tr>\n",
       "    <tr>\n",
       "      <th>3</th>\n",
       "      <td>2892.0</td>\n",
       "      <td>att tmobile</td>\n",
       "      <td>neu</td>\n",
       "      <td>0.00</td>\n",
       "      <td>1.0</td>\n",
       "      <td>on the same note my dad switched his phone int...</td>\n",
       "      <td>on the same note my dad switched his phone int...</td>\n",
       "      <td>[tmobile]</td>\n",
       "      <td>[]</td>\n",
       "      <td>[on the same note my dad switched his phone in...</td>\n",
       "    </tr>\n",
       "    <tr>\n",
       "      <th>4</th>\n",
       "      <td>2897.0</td>\n",
       "      <td>att tmobile</td>\n",
       "      <td>neu</td>\n",
       "      <td>0.00</td>\n",
       "      <td>1.0</td>\n",
       "      <td>switched to @tmobile from @ATT and I am just b...</td>\n",
       "      <td>switched to @tmobile from @att and i am just b...</td>\n",
       "      <td>[att]</td>\n",
       "      <td>[tmobile]</td>\n",
       "      <td>[]</td>\n",
       "    </tr>\n",
       "    <tr>\n",
       "      <th>6</th>\n",
       "      <td>3172.0</td>\n",
       "      <td>att tmobile</td>\n",
       "      <td>pos</td>\n",
       "      <td>0.15</td>\n",
       "      <td>1.0</td>\n",
       "      <td>I switched to tmobile from att last week and i...</td>\n",
       "      <td>i switched to tmobile from att last week and i...</td>\n",
       "      <td>[att]</td>\n",
       "      <td>[tmobile]</td>\n",
       "      <td>[]</td>\n",
       "    </tr>\n",
       "    <tr>\n",
       "      <th>9</th>\n",
       "      <td>3640.0</td>\n",
       "      <td>att tmobile</td>\n",
       "      <td>neu</td>\n",
       "      <td>0.00</td>\n",
       "      <td>1.0</td>\n",
       "      <td>@JohnLegere @ATT @TMobile Puerto Ricans should...</td>\n",
       "      <td>@att @tmobile puerto ricans should boycott at t</td>\n",
       "      <td>[tmobile, att]</td>\n",
       "      <td>[]</td>\n",
       "      <td>[]</td>\n",
       "    </tr>\n",
       "  </tbody>\n",
       "</table>\n",
       "</div>"
      ],
      "text/plain": [
       "   Unnamed: 0      carrier sentiment  polarity  churn_likeliness  \\\n",
       "2      2804.0  att tmobile       neu      0.00               1.0   \n",
       "3      2892.0  att tmobile       neu      0.00               1.0   \n",
       "4      2897.0  att tmobile       neu      0.00               1.0   \n",
       "6      3172.0  att tmobile       pos      0.15               1.0   \n",
       "9      3640.0  att tmobile       neu      0.00               1.0   \n",
       "\n",
       "                                                text  \\\n",
       "2  Oh gawd donât do that. They have no tower at...   \n",
       "3  on the same note my dad switched his phone int...   \n",
       "4  switched to @tmobile from @ATT and I am just b...   \n",
       "6  I switched to tmobile from att last week and i...   \n",
       "9  @JohnLegere @ATT @TMobile Puerto Ricans should...   \n",
       "\n",
       "                                            clf_text      churn_from  \\\n",
       "2  oh gawd don t do that they have no tower atm n...              []   \n",
       "3  on the same note my dad switched his phone int...       [tmobile]   \n",
       "4  switched to @tmobile from @att and i am just b...           [att]   \n",
       "6  i switched to tmobile from att last week and i...           [att]   \n",
       "9    @att @tmobile puerto ricans should boycott at t  [tmobile, att]   \n",
       "\n",
       "    churn_to                                       churn_reason  \n",
       "2  [verizon]  [They have no tower atm, no service., I just h...  \n",
       "3         []  [on the same note my dad switched his phone in...  \n",
       "4  [tmobile]                                                 []  \n",
       "6  [tmobile]                                                 []  \n",
       "9         []                                                 []  "
      ]
     },
     "execution_count": 98,
     "metadata": {},
     "output_type": "execute_result"
    }
   ],
   "source": [
    "churn_tweets.head()"
   ]
  },
  {
   "cell_type": "code",
   "execution_count": 99,
   "metadata": {
    "scrolled": false
   },
   "outputs": [
    {
     "data": {
      "text/html": [
       "<div>\n",
       "<style scoped>\n",
       "    .dataframe tbody tr th:only-of-type {\n",
       "        vertical-align: middle;\n",
       "    }\n",
       "\n",
       "    .dataframe tbody tr th {\n",
       "        vertical-align: top;\n",
       "    }\n",
       "\n",
       "    .dataframe thead th {\n",
       "        text-align: right;\n",
       "    }\n",
       "</style>\n",
       "<table border=\"1\" class=\"dataframe\">\n",
       "  <thead>\n",
       "    <tr style=\"text-align: right;\">\n",
       "      <th></th>\n",
       "      <th>carrier</th>\n",
       "      <th>clf_text</th>\n",
       "      <th>churn_from</th>\n",
       "      <th>churn_to</th>\n",
       "      <th>churn_reason</th>\n",
       "    </tr>\n",
       "  </thead>\n",
       "  <tbody>\n",
       "    <tr>\n",
       "      <th>2</th>\n",
       "      <td>att tmobile</td>\n",
       "      <td>oh gawd don t do that they have no tower atm n...</td>\n",
       "      <td>[]</td>\n",
       "      <td>[verizon]</td>\n",
       "      <td>[They have no tower atm, no service., I just h...</td>\n",
       "    </tr>\n",
       "    <tr>\n",
       "      <th>3</th>\n",
       "      <td>att tmobile</td>\n",
       "      <td>on the same note my dad switched his phone int...</td>\n",
       "      <td>[tmobile]</td>\n",
       "      <td>[]</td>\n",
       "      <td>[on the same note my dad switched his phone in...</td>\n",
       "    </tr>\n",
       "    <tr>\n",
       "      <th>4</th>\n",
       "      <td>att tmobile</td>\n",
       "      <td>switched to @tmobile from @att and i am just b...</td>\n",
       "      <td>[att]</td>\n",
       "      <td>[tmobile]</td>\n",
       "      <td>[]</td>\n",
       "    </tr>\n",
       "    <tr>\n",
       "      <th>6</th>\n",
       "      <td>att tmobile</td>\n",
       "      <td>i switched to tmobile from att last week and i...</td>\n",
       "      <td>[att]</td>\n",
       "      <td>[tmobile]</td>\n",
       "      <td>[]</td>\n",
       "    </tr>\n",
       "    <tr>\n",
       "      <th>9</th>\n",
       "      <td>att tmobile</td>\n",
       "      <td>@att @tmobile puerto ricans should boycott at t</td>\n",
       "      <td>[tmobile, att]</td>\n",
       "      <td>[]</td>\n",
       "      <td>[]</td>\n",
       "    </tr>\n",
       "  </tbody>\n",
       "</table>\n",
       "</div>"
      ],
      "text/plain": [
       "       carrier                                           clf_text  \\\n",
       "2  att tmobile  oh gawd don t do that they have no tower atm n...   \n",
       "3  att tmobile  on the same note my dad switched his phone int...   \n",
       "4  att tmobile  switched to @tmobile from @att and i am just b...   \n",
       "6  att tmobile  i switched to tmobile from att last week and i...   \n",
       "9  att tmobile    @att @tmobile puerto ricans should boycott at t   \n",
       "\n",
       "       churn_from   churn_to  \\\n",
       "2              []  [verizon]   \n",
       "3       [tmobile]         []   \n",
       "4           [att]  [tmobile]   \n",
       "6           [att]  [tmobile]   \n",
       "9  [tmobile, att]         []   \n",
       "\n",
       "                                        churn_reason  \n",
       "2  [They have no tower atm, no service., I just h...  \n",
       "3  [on the same note my dad switched his phone in...  \n",
       "4                                                 []  \n",
       "6                                                 []  \n",
       "9                                                 []  "
      ]
     },
     "execution_count": 99,
     "metadata": {},
     "output_type": "execute_result"
    }
   ],
   "source": [
    "churn_tweets = churn_tweets[['carrier','clf_text','churn_from','churn_to','churn_reason']]\n",
    "churn_tweets.head()"
   ]
  },
  {
   "cell_type": "code",
   "execution_count": 100,
   "metadata": {},
   "outputs": [
    {
     "data": {
      "text/plain": [
       "'oh gawd don t do that they have no tower atm no service do some research i just had to go buy a whole new phone n service with @verizon'"
      ]
     },
     "execution_count": 100,
     "metadata": {},
     "output_type": "execute_result"
    }
   ],
   "source": [
    "churn_tweets.clf_text[2]"
   ]
  },
  {
   "cell_type": "code",
   "execution_count": 101,
   "metadata": {
    "scrolled": true
   },
   "outputs": [
    {
     "data": {
      "text/plain": [
       "[att]                      48\n",
       "[tmobile, att]             34\n",
       "[verizon]                  25\n",
       "[verizon, att]             23\n",
       "[]                         21\n",
       "[verizon, tmobile]         18\n",
       "[tmobile]                  18\n",
       "[verizon, tmobile, att]    16\n",
       "[att, tmobile]              9\n",
       "[tmobile, verizon]          4\n",
       "[att, verizon]              4\n",
       "[verizon, att, tmobile]     3\n",
       "[tmobile, att, verizon]     1\n",
       "Name: churn_from, dtype: int64"
      ]
     },
     "execution_count": 101,
     "metadata": {},
     "output_type": "execute_result"
    }
   ],
   "source": [
    "churn_tweets['churn_from'].value_counts()"
   ]
  },
  {
   "cell_type": "code",
   "execution_count": 103,
   "metadata": {},
   "outputs": [],
   "source": [
    "churn_tweets.to_csv('churn_reason.csv')"
   ]
  },
  {
   "cell_type": "code",
   "execution_count": 140,
   "metadata": {},
   "outputs": [
    {
     "data": {
      "text/html": [
       "<div>\n",
       "<style scoped>\n",
       "    .dataframe tbody tr th:only-of-type {\n",
       "        vertical-align: middle;\n",
       "    }\n",
       "\n",
       "    .dataframe tbody tr th {\n",
       "        vertical-align: top;\n",
       "    }\n",
       "\n",
       "    .dataframe thead th {\n",
       "        text-align: right;\n",
       "    }\n",
       "</style>\n",
       "<table border=\"1\" class=\"dataframe\">\n",
       "  <thead>\n",
       "    <tr style=\"text-align: right;\">\n",
       "      <th></th>\n",
       "      <th>carrier</th>\n",
       "      <th>clf_text</th>\n",
       "      <th>churn_from</th>\n",
       "      <th>churn_to</th>\n",
       "      <th>churn_reason</th>\n",
       "    </tr>\n",
       "  </thead>\n",
       "  <tbody>\n",
       "    <tr>\n",
       "      <th>2</th>\n",
       "      <td>att tmobile</td>\n",
       "      <td>oh gawd don t do that they have no tower atm n...</td>\n",
       "      <td>[]</td>\n",
       "      <td>[verizon]</td>\n",
       "      <td>[They have no tower atm, no service., I just h...</td>\n",
       "    </tr>\n",
       "    <tr>\n",
       "      <th>3</th>\n",
       "      <td>att tmobile</td>\n",
       "      <td>on the same note my dad switched his phone int...</td>\n",
       "      <td>[tmobile]</td>\n",
       "      <td>[]</td>\n",
       "      <td>[on the same note my dad switched his phone in...</td>\n",
       "    </tr>\n",
       "    <tr>\n",
       "      <th>4</th>\n",
       "      <td>att tmobile</td>\n",
       "      <td>switched to @tmobile from @att and i am just b...</td>\n",
       "      <td>[att]</td>\n",
       "      <td>[tmobile]</td>\n",
       "      <td>[]</td>\n",
       "    </tr>\n",
       "    <tr>\n",
       "      <th>6</th>\n",
       "      <td>att tmobile</td>\n",
       "      <td>i switched to tmobile from att last week and i...</td>\n",
       "      <td>[att]</td>\n",
       "      <td>[tmobile]</td>\n",
       "      <td>[]</td>\n",
       "    </tr>\n",
       "    <tr>\n",
       "      <th>9</th>\n",
       "      <td>att tmobile</td>\n",
       "      <td>@att @tmobile puerto ricans should boycott at t</td>\n",
       "      <td>[tmobile, att]</td>\n",
       "      <td>[]</td>\n",
       "      <td>[]</td>\n",
       "    </tr>\n",
       "  </tbody>\n",
       "</table>\n",
       "</div>"
      ],
      "text/plain": [
       "       carrier                                           clf_text  \\\n",
       "2  att tmobile  oh gawd don t do that they have no tower atm n...   \n",
       "3  att tmobile  on the same note my dad switched his phone int...   \n",
       "4  att tmobile  switched to @tmobile from @att and i am just b...   \n",
       "6  att tmobile  i switched to tmobile from att last week and i...   \n",
       "9  att tmobile    @att @tmobile puerto ricans should boycott at t   \n",
       "\n",
       "       churn_from   churn_to  \\\n",
       "2              []  [verizon]   \n",
       "3       [tmobile]         []   \n",
       "4           [att]  [tmobile]   \n",
       "6           [att]  [tmobile]   \n",
       "9  [tmobile, att]         []   \n",
       "\n",
       "                                        churn_reason  \n",
       "2  [They have no tower atm, no service., I just h...  \n",
       "3  [on the same note my dad switched his phone in...  \n",
       "4                                                 []  \n",
       "6                                                 []  \n",
       "9                                                 []  "
      ]
     },
     "execution_count": 140,
     "metadata": {},
     "output_type": "execute_result"
    }
   ],
   "source": [
    "churn_tweets.head()"
   ]
  },
  {
   "cell_type": "code",
   "execution_count": 156,
   "metadata": {
    "scrolled": true
   },
   "outputs": [],
   "source": [
    "att_move_out = 0\n",
    "att_move_in = 0\n",
    "att_move_reason = []\n",
    "ver_move_out = 0\n",
    "ver_move_in = 0\n",
    "ver_move_reason = []\n",
    "tmo_move_out = 0\n",
    "tmo_move_in = 0\n",
    "tmo_move_reason = []\n",
    "\n",
    "for c in churn_tweets.values:\n",
    "    move_out = c[2]\n",
    "    move_in = c[3]\n",
    "    move_reason = c[4]\n",
    "    \n",
    "    if 'att' in move_out:\n",
    "        att_move_out += 1\n",
    "        att_move_reason += move_reason\n",
    "    elif 'att' in move_in:\n",
    "        att_move_in += 1\n",
    "        \n",
    "    if 'verizon' in move_out:\n",
    "        ver_move_out += 1\n",
    "        ver_move_reason += move_reason\n",
    "    elif 'verizon' in move_in:\n",
    "        ver_move_in += 1\n",
    "        \n",
    "    if 'tmobile' in move_out:\n",
    "        tmo_move_out += 1\n",
    "        tmo_move_reason += move_reason\n",
    "    elif 'tmobile' in move_in:\n",
    "        tmo_move_in += 1"
   ]
  },
  {
   "cell_type": "code",
   "execution_count": 160,
   "metadata": {
    "scrolled": true
   },
   "outputs": [
    {
     "name": "stdout",
     "output_type": "stream",
     "text": [
      "138\n",
      "14\n"
     ]
    }
   ],
   "source": [
    "print(att_move_out)\n",
    "print(att_move_in)"
   ]
  },
  {
   "cell_type": "code",
   "execution_count": 158,
   "metadata": {},
   "outputs": [
    {
     "name": "stdout",
     "output_type": "stream",
     "text": [
      "94\n",
      "45\n"
     ]
    }
   ],
   "source": [
    "print(ver_move_out)\n",
    "print(ver_move_in)"
   ]
  },
  {
   "cell_type": "code",
   "execution_count": 159,
   "metadata": {},
   "outputs": [
    {
     "name": "stdout",
     "output_type": "stream",
     "text": [
      "103\n",
      "50\n"
     ]
    }
   ],
   "source": [
    "print(tmo_move_out)\n",
    "print(tmo_move_in)"
   ]
  },
  {
   "cell_type": "markdown",
   "metadata": {},
   "source": [
    "## Q1. How many tweets indicate churn out for each carrier?"
   ]
  },
  {
   "cell_type": "code",
   "execution_count": 202,
   "metadata": {
    "scrolled": false
   },
   "outputs": [
    {
     "data": {
      "image/png": "[encoded data removed]",
      "text/plain": [
       "<Figure size 720x432 with 1 Axes>"
      ]
     },
     "metadata": {
      "needs_background": "light"
     },
     "output_type": "display_data"
    }
   ],
   "source": [
    "x_carrier = ['ATT','Verizon','TMobile']\n",
    "churn_out_percent = []\n",
    "churn_in_percent = []\n",
    "churn_out_percent.append(att_move_out/(att_move_out+att_move_in))\n",
    "churn_in_percent.append(att_move_in/(att_move_out+att_move_in))\n",
    "churn_out_percent.append(ver_move_out/(ver_move_out+ver_move_in))\n",
    "churn_in_percent.append(ver_move_in/(ver_move_out+ver_move_in))\n",
    "churn_out_percent.append(tmo_move_out/(tmo_move_out+tmo_move_in))\n",
    "churn_in_percent.append(tmo_move_in/(tmo_move_out+tmo_move_in))\n",
    "\n",
    "\n",
    "plt.figure(figsize=(10,6))\n",
    "p1 = plt.bar(x_carrier, churn_out_percent, color='r',label='churn out',alpha=0.5)\n",
    "p2 = plt.bar(x_carrier, churn_in_percent, bottom=churn_out_percent, color='g', label='churn in',alpha=0.5)\n",
    "plt.legend()\n",
    "plt.xticks(fontsize=15)\n",
    "plt.title('Churn Out VS. Churn In for per carrier', fontsize=20)\n",
    "plt.show()"
   ]
  },
  {
   "cell_type": "code",
   "execution_count": 253,
   "metadata": {},
   "outputs": [],
   "source": [
    "import numpy as np\n",
    "\n",
    "def drawPlot(neg, pos, name, title):\n",
    "    bar_width = 0.3\n",
    "    x = np.arange(len(name))\n",
    "    plt.figure(figsize=(20, 8))\n",
    "    plt.bar(x+bar_width/2, neg, width=bar_width, label=\"Churn Out\", color='r', alpha=0.5)\n",
    "    plt.bar(x+bar_width*1.5, pos, width=bar_width, label=\"Churn In\", color='g', alpha=0.5)\n",
    "    \n",
    "    plt.legend(loc=0,fontsize=15)\n",
    "    plt.xticks(x+bar_width, name, fontsize=15)\n",
    "    plt.yticks(fontsize=15)\n",
    "    plt.title(title, fontsize=20)\n",
    "    plt.grid(alpha=0.2)\n",
    "    plt.ylabel('percentage',fontsize=20)\n",
    "    \n",
    "#     x_text = list(x)+list(x+bar_width)\n",
    "#     y_text = neg + pos\n",
    "#     for a,b in zip(x_text,y_text):\n",
    "#         plt.text(a, b, b, ha='center', va='bottom', fontsize=8)\n",
    "    plt.show()"
   ]
  },
  {
   "cell_type": "code",
   "execution_count": 254,
   "metadata": {},
   "outputs": [
    {
     "data": {
      "image/png": "[encoded data removed]",
      "text/plain": [
       "<Figure size 1440x576 with 1 Axes>"
      ]
     },
     "metadata": {
      "needs_background": "light"
     },
     "output_type": "display_data"
    }
   ],
   "source": [
    "drawPlot(churn_out_percent, churn_in_percent, x_carrier, 'Churn Out VS. Churn In for per carrier')"
   ]
  },
  {
   "cell_type": "code",
   "execution_count": 163,
   "metadata": {},
   "outputs": [],
   "source": [
    "att_move_reason_text = ' '.join(att_move_reason)\n",
    "ver_move_reason_text = ' '.join(ver_move_reason)\n",
    "tmo_move_reason_text = ' '.join(tmo_move_reason)"
   ]
  },
  {
   "cell_type": "markdown",
   "metadata": {},
   "source": [
    "## Churn Reason Vocabulary"
   ]
  },
  {
   "cell_type": "code",
   "execution_count": 175,
   "metadata": {},
   "outputs": [],
   "source": [
    "import nltk\n",
    "\n",
    "# Corpus processing and cleanning\n",
    "def cleanCorpusNLTK(corpus):\n",
    "    # get words list\n",
    "    words = nltk.tokenize.word_tokenize(corpus)\n",
    "    # filter out non-alphabet value\n",
    "    words = [w for w in words if w.isalpha()]\n",
    "    # filter out the words that is less than 2 char, such as 'I'\n",
    "    words = [w for w in words if len(w) > 2]\n",
    "    # lower all alphabet \n",
    "    words = [w.lower() for w in words]\n",
    "    # filter out 'amp'(&amp), 'u'(you), and 'http'\n",
    "    words = [w for w in words if w not in ['amp', 'u', 'http', 'https', 'att', 'verizon', 'tmobile']]\n",
    "    # filter out stopwords\n",
    "    stop_words = nltk.corpus.stopwords.words('english')\n",
    "    words = [w for w in words if w not in stop_words]\n",
    "    # imporve linguistic ability in case of overstemming\n",
    "    wordnet = nltk.stem.WordNetLemmatizer()\n",
    "    lemmatized = [wordnet.lemmatize(w) for w in words]\n",
    "    return lemmatized"
   ]
  },
  {
   "cell_type": "code",
   "execution_count": 176,
   "metadata": {},
   "outputs": [],
   "source": [
    "from wordcloud import WordCloud\n",
    "import matplotlib.pyplot as plt\n",
    "\n",
    "def drawWordCloud(corpus):\n",
    "    text_corpus = ' '.join(cleanCorpusNLTK(att_move_reason_text))\n",
    "    wordcloud = WordCloud(width=500, height=500, background_color='white', \n",
    "                min_font_size =12).generate(text_corpus)\n",
    "    plt.imshow(wordcloud)"
   ]
  },
  {
   "cell_type": "markdown",
   "metadata": {},
   "source": [
    "## Reasons "
   ]
  },
  {
   "cell_type": "code",
   "execution_count": 184,
   "metadata": {
    "scrolled": false
   },
   "outputs": [
    {
     "name": "stdout",
     "output_type": "stream",
     "text": [
      "Why people wants to churn from their original carrier?\n"
     ]
    },
    {
     "data": {
      "image/png": "[encoded data removed]",
      "text/plain": [
       "<Figure size 1440x720 with 3 Axes>"
      ]
     },
     "metadata": {
      "needs_background": "light"
     },
     "output_type": "display_data"
    }
   ],
   "source": [
    "print('Why people wants to churn from their original carrier?')\n",
    "plt.figure(figsize=(20,10))\n",
    "plt.subplot(131)\n",
    "drawWordCloud(att_move_reason_text)\n",
    "plt.title('ATT', fontsize=30)\n",
    "plt.subplot(132)\n",
    "drawWordCloud(ver_move_reason_text)\n",
    "plt.title('Verizon', fontsize=30)\n",
    "plt.subplot(133)\n",
    "drawWordCloud(tmo_move_reason_text)\n",
    "plt.title('TMobile', fontsize=30)\n",
    "plt.show()"
   ]
  },
  {
   "cell_type": "markdown",
   "metadata": {},
   "source": [
    "## Suggestions"
   ]
  },
  {
   "cell_type": "code",
   "execution_count": 190,
   "metadata": {},
   "outputs": [],
   "source": [
    "def readReasons(move_reason):\n",
    "    for m in move_reason:\n",
    "        print(m,'\\n')"
   ]
  },
  {
   "cell_type": "code",
   "execution_count": 191,
   "metadata": {
    "scrolled": false
   },
   "outputs": [
    {
     "name": "stdout",
     "output_type": "stream",
     "text": [
      "@ATT so @verizon is giving away a free year of @disneyplus on top of their already free subscription to @AppleMusic... & @Spotify is giving away free @google home minis... where are our perks?!? \n",
      "\n",
      "@ATTHelp @verizon @VZWSupport @TMobile @TMobileHelp @sprintcare @sprint  @marceloclaure  all of you guys have the worst Data Service in Bakersfield CA I go see a friend on Ellensport Way 93313 all bad Data barley get 2mb please fix\" \n",
      "\n",
      "All I can say is ATT is trash and Verizon is overpriced. \n",
      "\n",
      "@NXQJR @JohnLegere @TMobile @ATT Come on over welcome to the TMobile family \n",
      "\n",
      "Itâs abhorrent customer âservice.â \n",
      "\n",
      "Switching from the awful att...wanna make my experience even better and trade me my less than one month old 7 Pro for that beautiful McLaren 7T Pro? \n",
      "\n",
      "Having @ATT worst service for 11 months I switch to @verizon and have had the best service. \n",
      "\n",
      "ATT fiber and Verizon will not provide service to my house and it is literally in the downtown of the 10th largest city in USA. \n",
      "\n",
      "No service in the Lincoln Tunnel with @ATT Wonder if I had @verizon or @TMobileâ¦ \" \n",
      "\n",
      "7 lines of service at Sprint. \n",
      "\n",
      "So @TMobile gives it's customers free Netflix, @verizon is giving their customers a year of @disneyplus , and @ATT gives me what?? \n",
      "\n",
      "What makes T-Mobile better than @Sprint or @ATT? \n",
      "\n",
      "I need ATT or Verizon or TMobile towers plz n thx that sprint boost shit dead \n",
      "\n",
      "@ATT you guys are disgrace very bad, @TMobile is far better in customer service than you. \n",
      "\n",
      "@MisterPreda @verizon @ATT Verizon fucking sucks and are way too overpriced \n",
      "\n",
      "Alex, if Tmobile Service in your area is inadequate, consider Verizon. \n",
      "\n",
      "I would just hate to see anyone get sucked into the vortex of garbage customer service that is @ATT. \n",
      "\n",
      "Hands down the worst customer service in the industry.â¦ https://t.co/G1DQNMMvou\" \n",
      "\n",
      "#TmobileMagMile had concierge service. \n",
      "\n",
      "@TMobile Service for my area sucks Back to @ATT for there service is way better! \n",
      "\n",
      "@ATTHelp So I switched my service to @TMobileHelp in June.Ê I was told that once we coordinate porting our numbers our AT&T billing will cease. \n",
      "\n",
      "Despite calling 3 separate times to confirm my AT&T service cancellation, I just received a $700 bill.Ê \n",
      "\n",
      "Their price start at about $90 \n",
      "\n",
      "4 yrs of over paying for shitty service and expensive rate plans!É https://t.co/AEoBkCJYKX\" \n",
      "\n",
      "@MrLeonardKim Now if only they'd install a cell tower near me where I would get a decent signal i'd switch to @TMobile from ATT \n",
      "\n",
      "Dear @ATTÊ yÕall need to fix your service in the 941 yÕall out here acting like @TMobileÊ get right __ \n",
      "\n",
      "Thinking of leaving @att and perhaps going with @verizonwireless since @tmobile does not currently offer great coverage where I live, wonder if @verizonwireless can match or give me a better deal than @att?\" \n",
      "\n",
      "Today I switch to @TMobileÊ hopefully they will provide a better service than you. \n",
      "\n",
      "@ATT your service is crap really one bar smh. \n",
      "\n",
      "Yeah my main gripe with @TMobile is that that their service has been fine up until this one month, now, and all the sudden they're telling me our policy doesn't cover crap the guy swore would be as good or better than @ATTHelpÉ https://t.co/wNRoruxBxJ\" \n",
      "\n",
      "Mainly because @ATT and @verizonÊ prices are pretty high. \n",
      "\n",
      "I'm only concerned about network coverage. \n",
      "\n",
      "Also how's the network quality inside the buildings?É https://t.co/R37g2FI3D3\" \n",
      "\n",
      "Silver lining, I wanted to go to @TMobile for a year now, but was saving $20/mo bundling ATT services. \n",
      "\n",
      "I have horrible cell reception or no service #chicagoÉ https://t.co/zEW24RH2xc\" \n",
      "\n",
      "@ATTÊ @verizonÊ @googledevs @Xfinity please come to Bryan College Station and save our cities from this horrible service.\" \n",
      "\n",
      "@verizon @disneyplus @ATT been with you since 2005 but this has me weak. \n",
      "\n",
      "Bye @ATT After years of the shitty customer service @Verizon and @Disney are making it too easy to switch. \n",
      "\n",
      "Heyyyy @ATT are you going to give us Disney+ for free for a year like Verizon? \n",
      "\n",
      "@ATT your coverage sucks. \n",
      "\n",
      "Me looking at @ATT after Verizon announced they were giving their customers Disney Plus for free.É \" \n",
      "\n",
      "@verizon takes aim at @ATT by offering @DisneyÕs rival streaming service for free https://t.co/e87zd3mhxH \n",
      "\n",
      "Kept my WiFi with ATT assuming they couldnÕt mess that up too but multiple times this month they have. \n",
      "\n",
      "If anyone has any good recommendations for WIFI plz lmk because I will never use ATT again. \n",
      "\n",
      "Fuck you @ATT yÕall literally got the worst costumer service!!! \n",
      "\n",
      "@milkshakeyshae_ @TMobile @TMobile is horrible with customer service now. \n",
      "\n",
      "Hey @verizon your coverage sucks @TMobile @att yÕall got room for two moreÉ \" \n",
      "\n",
      "How good/bad is the coverage? \n",
      "\n"
     ]
    }
   ],
   "source": [
    "readReasons(att_move_reason)"
   ]
  },
  {
   "cell_type": "code",
   "execution_count": 192,
   "metadata": {
    "scrolled": false
   },
   "outputs": [
    {
     "name": "stdout",
     "output_type": "stream",
     "text": [
      "@verizon @VZWSupport how is your coverage at Houston (HOU)? \n",
      "\n",
      "@JohnLegere @piratesbooty @verizon I'd use TMobile but they have no coverage in my area \n",
      "\n",
      "@ATTHelp @verizon @VZWSupport @TMobile @TMobileHelp @sprintcare @sprint  @marceloclaure  all of you guys have the worst Data Service in Bakersfield CA I go see a friend on Ellensport Way 93313 all bad Data barley get 2mb please fix\" \n",
      "\n",
      "All I can say is ATT is trash and Verizon is overpriced. \n",
      "\n",
      "We're with @TMobile now, best service where I'm \n",
      "\n",
      "@verizon literally has the worst customer service. \n",
      "\n",
      "ATT fiber and Verizon will not provide service to my house and it is literally in the downtown of the 10th largest city in USA. \n",
      "\n",
      "@JohnLegere - I use @verizon and I use a ton of data over LTE (+35GBs/month)... if I switched to @TMobile would I still be throttled when thereâs ânetwork congestion?â\" \n",
      "\n",
      "Why tf dont i have service in romulus smh im finna go back to verizon tmobile so ass \n",
      "\n",
      "from what my dad told me but yeah im considering going to verizon bc it doesnt make sense for me to be in an actual city and not have cell service randomlyâ¦ https://t.co/sCjC2k33mg\" \n",
      "\n",
      "Oh wait Verizon already did that, since they over charge their customers, they can afford the cheaper streaming service to give to them ðâ¦ https://t.co/a0LJkDpMxt\" \n",
      "\n",
      "@TMobile @TMobileHelp YOUR SERVICE IS ð©ð©ð© AF Iâm Going To @verizon \n",
      "\n",
      "No service in the Lincoln Tunnel with @ATT Wonder if I had @verizon or @TMobileâ¦ \" \n",
      "\n",
      "7 lines of service at Sprint. \n",
      "\n",
      "overpriced and trash. \n",
      "\n",
      "but tbh wish i was with att overall better service.â¦ https://t.co/nbicUjcIKc\" \n",
      "\n",
      "I need ATT or Verizon or TMobile towers plz n thx that sprint boost shit dead \n",
      "\n",
      "@MisterPreda @verizon @ATT Verizon fucking sucks and are way too overpriced \n",
      "\n",
      "Alex, if Tmobile Service in your area is inadequate, consider Verizon. \n",
      "\n",
      "I would just hate to see anyone get sucked into the vortex of garbage customer service that is @ATT. \n",
      "\n",
      "Hands down the worst customer service in the industry.â¦ https://t.co/G1DQNMMvou\" \n",
      "\n",
      "@ATT is ranked dead last in customer service for a reason. \n",
      "\n",
      "Mainly because @ATT and @verizonÊ prices are pretty high. \n",
      "\n",
      "I have horrible cell reception or no service #chicagoÉ https://t.co/zEW24RH2xc\" \n",
      "\n",
      "@ATTÊ @verizonÊ @googledevs @Xfinity please come to Bryan College Station and save our cities from this horrible service.\" \n",
      "\n",
      "Fuck you @ATT yÕall literally got the worst costumer service!!! \n",
      "\n",
      "@TMobile FUCK IT, I'll change my service to sprint or Verizon or something, no excuses for this BULLSHITT!! \n",
      "\n",
      "@TMobile @verizon and @sprint your service is TrAsH, no bs. \n",
      "\n",
      "@TMobile @JohnLegere my coworker has been trying to switch from @verizon to you guys and NO-ONE from customer service has helped. \n",
      "\n",
      "Hey @verizon your coverage sucks @TMobile @att yÕall got room for two moreÉ \" \n",
      "\n"
     ]
    }
   ],
   "source": [
    "readReasons(ver_move_reason)"
   ]
  },
  {
   "cell_type": "code",
   "execution_count": 193,
   "metadata": {},
   "outputs": [
    {
     "name": "stdout",
     "output_type": "stream",
     "text": [
      "on the same note my dad switched his phone into my phone bill and he also had prepaid the following month for service. \n",
      "\n",
      "I'm just amazed at the stark customer service difference.â¦ https://t.co/XLYWZjuhQ4\" \n",
      "\n",
      "@verizon got Disney Plus for one year free? \n",
      "\n",
      "@JohnLegere @piratesbooty @verizon I'd use TMobile but they have no coverage in my area \n",
      "\n",
      "@ATTHelp @verizon @VZWSupport @TMobile @TMobileHelp @sprintcare @sprint  @marceloclaure  all of you guys have the worst Data Service in Bakersfield CA I go see a friend on Ellensport Way 93313 all bad Data barley get 2mb please fix\" \n",
      "\n",
      "Itâs abhorrent customer âservice.â \n",
      "\n",
      "Switching from the awful att...wanna make my experience even better and trade me my less than one month old 7 Pro for that beautiful McLaren 7T Pro? \n",
      "\n",
      "Why tf dont i have service in romulus smh im finna go back to verizon tmobile so ass \n",
      "\n",
      "@TMobile @TMobileHelp YOUR SERVICE IS ð©ð©ð© AF Iâm Going To @verizon \n",
      "\n",
      "No service in the Lincoln Tunnel with @ATT Wonder if I had @verizon or @TMobileâ¦ \" \n",
      "\n",
      "7 lines of service at Sprint. \n",
      "\n",
      "overpriced and trash. \n",
      "\n",
      "but tbh wish i was with att overall better service.â¦ https://t.co/nbicUjcIKc\" \n",
      "\n",
      "So @TMobile gives it's customers free Netflix, @verizon is giving their customers a year of @disneyplus , and @ATT gives me what?? \n",
      "\n",
      "What makes T-Mobile better than @Sprint or @ATT? \n",
      "\n",
      "I need ATT or Verizon or TMobile towers plz n thx that sprint boost shit dead \n",
      "\n",
      "@ATT you guys are disgrace very bad, @TMobile is far better in customer service than you. \n",
      "\n",
      "Alex, if Tmobile Service in your area is inadequate, consider Verizon. \n",
      "\n",
      "I would just hate to see anyone get sucked into the vortex of garbage customer service that is @ATT. \n",
      "\n",
      "Hands down the worst customer service in the industry.â¦ https://t.co/G1DQNMMvou\" \n",
      "\n",
      "@ATT is ranked dead last in customer service for a reason. \n",
      "\n",
      "Their price start at about $90 \n",
      "\n",
      "Thinking of leaving @att and perhaps going with @verizonwireless since @tmobile does not currently offer great coverage where I live, wonder if @verizonwireless can match or give me a better deal than @att?\" \n",
      "\n",
      "@ATT your service is crap really one bar smh. \n",
      "\n",
      "Silver lining, I wanted to go to @TMobile for a year now, but was saving $20/mo bundling ATT services. \n",
      "\n",
      "Trying to convince MrRMR to change from verizon to Tmobile and he posted on FB asking for feedback on service and someone posted \"no problems unless I am using it somewhere ridiculous like camping in the woods\" which is EXACTLY why MrRMR doesnt want to change from verizon__\" \n",
      "\n",
      "@TMobile FUCK IT, I'll change my service to sprint or Verizon or something, no excuses for this BULLSHITT!! \n",
      "\n",
      "If I switched from @TMobile to @verizon to get one year of @disneyplus for ÒfreeÓ ($70 value) I would be losing one year of @netflix for ÒfreeÓ ($132 value) and paying a lot more for wireless service too! \n",
      "\n",
      "@TMobile @verizon and @sprint your service is TrAsH, no bs. \n",
      "\n",
      "@milkshakeyshae_ @TMobile @TMobile is horrible with customer service now. \n",
      "\n",
      "@TMobile @JohnLegere my coworker has been trying to switch from @verizon to you guys and NO-ONE from customer service has helped. \n",
      "\n",
      "Hey @verizon your coverage sucks @TMobile @att yÕall got room for two moreÉ \" \n",
      "\n"
     ]
    }
   ],
   "source": [
    "readReasons(tmo_move_reason)"
   ]
  }
 ],
 "metadata": {
  "kernelspec": {
   "display_name": "Python 3",
   "language": "python",
   "name": "python3"
  },
  "language_info": {
   "codemirror_mode": {
    "name": "ipython",
    "version": 3
   },
   "file_extension": ".py",
   "mimetype": "text/x-python",
   "name": "python",
   "nbconvert_exporter": "python",
   "pygments_lexer": "ipython3",
   "version": "3.7.3"
  }
 },
 "nbformat": 4,
 "nbformat_minor": 2
}
